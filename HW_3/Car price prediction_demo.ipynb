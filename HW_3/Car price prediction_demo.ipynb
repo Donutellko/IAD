{
 "cells": [
  {
   "cell_type": "markdown",
   "metadata": {},
   "source": [
    "# Лабораторная работа №3\n",
    "Группа 3530903/70301  \n",
    "Ижко Георгий, Шергалис Донат, Сидорова Елена"
   ]
  },
  {
   "cell_type": "markdown",
   "metadata": {},
   "source": [
    "### 100,000 UK Used Car Data set\n",
    "https://www.kaggle.com/adityadesai13/used-car-dataset-ford-and-mercedes\n",
    "\n",
    "\n",
    "1. Выбрать набор данных для своей группы: <br>\n",
    "    3530203_70101: Audi <br>\n",
    "    3530203_70102: BMW <br>\n",
    "    **3530903_70301: Ford** <br>\n",
    "    3530903_70302: Mercedes<br>\n",
    "    \n",
    "2. Разбить данные на тренировочные и тестовые (70% на 30%, random_state=10).\n",
    "3. Попытаться обучить регрессии c лучшим качеством. \n"
   ]
  },
  {
   "cell_type": "code",
   "execution_count": 1,
   "metadata": {},
   "outputs": [],
   "source": [
    "import pandas as pd\n",
    "import numpy as np\n",
    "\n",
    "import seaborn as sns\n",
    "\n",
    "import matplotlib.pyplot as plt\n",
    "import sklearn.metrics as metrics\n",
    "from sklearn.model_selection import train_test_split\n",
    "from sklearn.linear_model import LinearRegression, Lasso, Ridge, LassoCV, RidgeCV\n",
    "from sklearn.preprocessing import StandardScaler\n",
    "np.set_printoptions(precision=3)\n",
    "pd.set_option('precision', 3)\n",
    "\n",
    "import datetime"
   ]
  },
  {
   "cell_type": "code",
   "execution_count": 2,
   "metadata": {},
   "outputs": [
    {
     "data": {
      "text/html": [
       "<div>\n",
       "<style scoped>\n",
       "    .dataframe tbody tr th:only-of-type {\n",
       "        vertical-align: middle;\n",
       "    }\n",
       "\n",
       "    .dataframe tbody tr th {\n",
       "        vertical-align: top;\n",
       "    }\n",
       "\n",
       "    .dataframe thead th {\n",
       "        text-align: right;\n",
       "    }\n",
       "</style>\n",
       "<table border=\"1\" class=\"dataframe\">\n",
       "  <thead>\n",
       "    <tr style=\"text-align: right;\">\n",
       "      <th></th>\n",
       "      <th>model</th>\n",
       "      <th>year</th>\n",
       "      <th>price</th>\n",
       "      <th>transmission</th>\n",
       "      <th>mileage</th>\n",
       "      <th>fuelType</th>\n",
       "      <th>tax</th>\n",
       "      <th>mpg</th>\n",
       "      <th>engineSize</th>\n",
       "    </tr>\n",
       "  </thead>\n",
       "  <tbody>\n",
       "    <tr>\n",
       "      <th>0</th>\n",
       "      <td>Fiesta</td>\n",
       "      <td>2017</td>\n",
       "      <td>12000</td>\n",
       "      <td>Automatic</td>\n",
       "      <td>15944</td>\n",
       "      <td>Petrol</td>\n",
       "      <td>150</td>\n",
       "      <td>57.7</td>\n",
       "      <td>1.0</td>\n",
       "    </tr>\n",
       "    <tr>\n",
       "      <th>1</th>\n",
       "      <td>Focus</td>\n",
       "      <td>2018</td>\n",
       "      <td>14000</td>\n",
       "      <td>Manual</td>\n",
       "      <td>9083</td>\n",
       "      <td>Petrol</td>\n",
       "      <td>150</td>\n",
       "      <td>57.7</td>\n",
       "      <td>1.0</td>\n",
       "    </tr>\n",
       "    <tr>\n",
       "      <th>2</th>\n",
       "      <td>Focus</td>\n",
       "      <td>2017</td>\n",
       "      <td>13000</td>\n",
       "      <td>Manual</td>\n",
       "      <td>12456</td>\n",
       "      <td>Petrol</td>\n",
       "      <td>150</td>\n",
       "      <td>57.7</td>\n",
       "      <td>1.0</td>\n",
       "    </tr>\n",
       "    <tr>\n",
       "      <th>3</th>\n",
       "      <td>Fiesta</td>\n",
       "      <td>2019</td>\n",
       "      <td>17500</td>\n",
       "      <td>Manual</td>\n",
       "      <td>10460</td>\n",
       "      <td>Petrol</td>\n",
       "      <td>145</td>\n",
       "      <td>40.3</td>\n",
       "      <td>1.5</td>\n",
       "    </tr>\n",
       "    <tr>\n",
       "      <th>4</th>\n",
       "      <td>Fiesta</td>\n",
       "      <td>2019</td>\n",
       "      <td>16500</td>\n",
       "      <td>Automatic</td>\n",
       "      <td>1482</td>\n",
       "      <td>Petrol</td>\n",
       "      <td>145</td>\n",
       "      <td>48.7</td>\n",
       "      <td>1.0</td>\n",
       "    </tr>\n",
       "    <tr>\n",
       "      <th>...</th>\n",
       "      <td>...</td>\n",
       "      <td>...</td>\n",
       "      <td>...</td>\n",
       "      <td>...</td>\n",
       "      <td>...</td>\n",
       "      <td>...</td>\n",
       "      <td>...</td>\n",
       "      <td>...</td>\n",
       "      <td>...</td>\n",
       "    </tr>\n",
       "    <tr>\n",
       "      <th>17960</th>\n",
       "      <td>Fiesta</td>\n",
       "      <td>2016</td>\n",
       "      <td>7999</td>\n",
       "      <td>Manual</td>\n",
       "      <td>31348</td>\n",
       "      <td>Petrol</td>\n",
       "      <td>125</td>\n",
       "      <td>54.3</td>\n",
       "      <td>1.2</td>\n",
       "    </tr>\n",
       "    <tr>\n",
       "      <th>17961</th>\n",
       "      <td>B-MAX</td>\n",
       "      <td>2017</td>\n",
       "      <td>8999</td>\n",
       "      <td>Manual</td>\n",
       "      <td>16700</td>\n",
       "      <td>Petrol</td>\n",
       "      <td>150</td>\n",
       "      <td>47.1</td>\n",
       "      <td>1.4</td>\n",
       "    </tr>\n",
       "    <tr>\n",
       "      <th>17962</th>\n",
       "      <td>B-MAX</td>\n",
       "      <td>2014</td>\n",
       "      <td>7499</td>\n",
       "      <td>Manual</td>\n",
       "      <td>40700</td>\n",
       "      <td>Petrol</td>\n",
       "      <td>30</td>\n",
       "      <td>57.7</td>\n",
       "      <td>1.0</td>\n",
       "    </tr>\n",
       "    <tr>\n",
       "      <th>17963</th>\n",
       "      <td>Focus</td>\n",
       "      <td>2015</td>\n",
       "      <td>9999</td>\n",
       "      <td>Manual</td>\n",
       "      <td>7010</td>\n",
       "      <td>Diesel</td>\n",
       "      <td>20</td>\n",
       "      <td>67.3</td>\n",
       "      <td>1.6</td>\n",
       "    </tr>\n",
       "    <tr>\n",
       "      <th>17964</th>\n",
       "      <td>KA</td>\n",
       "      <td>2018</td>\n",
       "      <td>8299</td>\n",
       "      <td>Manual</td>\n",
       "      <td>5007</td>\n",
       "      <td>Petrol</td>\n",
       "      <td>145</td>\n",
       "      <td>57.7</td>\n",
       "      <td>1.2</td>\n",
       "    </tr>\n",
       "  </tbody>\n",
       "</table>\n",
       "<p>17965 rows × 9 columns</p>\n",
       "</div>"
      ],
      "text/plain": [
       "        model  year  price transmission  mileage fuelType  tax   mpg  \\\n",
       "0      Fiesta  2017  12000    Automatic    15944   Petrol  150  57.7   \n",
       "1       Focus  2018  14000       Manual     9083   Petrol  150  57.7   \n",
       "2       Focus  2017  13000       Manual    12456   Petrol  150  57.7   \n",
       "3      Fiesta  2019  17500       Manual    10460   Petrol  145  40.3   \n",
       "4      Fiesta  2019  16500    Automatic     1482   Petrol  145  48.7   \n",
       "...       ...   ...    ...          ...      ...      ...  ...   ...   \n",
       "17960  Fiesta  2016   7999       Manual    31348   Petrol  125  54.3   \n",
       "17961   B-MAX  2017   8999       Manual    16700   Petrol  150  47.1   \n",
       "17962   B-MAX  2014   7499       Manual    40700   Petrol   30  57.7   \n",
       "17963   Focus  2015   9999       Manual     7010   Diesel   20  67.3   \n",
       "17964      KA  2018   8299       Manual     5007   Petrol  145  57.7   \n",
       "\n",
       "       engineSize  \n",
       "0             1.0  \n",
       "1             1.0  \n",
       "2             1.0  \n",
       "3             1.5  \n",
       "4             1.0  \n",
       "...           ...  \n",
       "17960         1.2  \n",
       "17961         1.4  \n",
       "17962         1.0  \n",
       "17963         1.6  \n",
       "17964         1.2  \n",
       "\n",
       "[17965 rows x 9 columns]"
      ]
     },
     "execution_count": 2,
     "metadata": {},
     "output_type": "execute_result"
    }
   ],
   "source": [
    "auto_data = pd.read_csv(\"data/ford.csv\", delimiter=',\\s*', engine='python')\n",
    "auto_data"
   ]
  },
  {
   "cell_type": "markdown",
   "metadata": {},
   "source": [
    "# Анализ выбросов"
   ]
  },
  {
   "cell_type": "markdown",
   "metadata": {},
   "source": [
    "## Анализ значений текстовых полей"
   ]
  },
  {
   "cell_type": "code",
   "execution_count": 3,
   "metadata": {},
   "outputs": [
    {
     "name": "stdout",
     "output_type": "stream",
     "text": [
      "model : 23 \n",
      " ['Fiesta' 'Focus' 'Puma' 'Kuga' 'EcoSport' 'C-MAX' 'Mondeo' 'Ka+'\n",
      " 'Tourneo Custom' 'S-MAX' 'B-MAX' 'Edge' 'Tourneo Connect' 'Grand C-MAX'\n",
      " 'KA' 'Galaxy' 'Mustang' 'Grand Tourneo Connect' 'Fusion' 'Ranger'\n",
      " 'Streetka' 'Escort' 'Transit Tourneo'] \n",
      "\n",
      "transmission : 3 \n",
      " ['Automatic' 'Manual' 'Semi-Auto'] \n",
      "\n",
      "fuelType : 5 \n",
      " ['Petrol' 'Diesel' 'Hybrid' 'Electric' 'Other'] \n",
      "\n"
     ]
    }
   ],
   "source": [
    "# признак  | значения\n",
    "for col in auto_data[['model', 'transmission', 'fuelType']]:\n",
    "    values = auto_data[col].unique()\n",
    "    str_values = str(values)\n",
    "    if len(str_values) > 300:\n",
    "        str_values = str_values[:300] + '...'\n",
    "    print(col, ':', len(values), '\\n', str_values, '\\n')"
   ]
  },
  {
   "cell_type": "markdown",
   "metadata": {},
   "source": [
    "### Анализ списка типов топлива"
   ]
  },
  {
   "cell_type": "code",
   "execution_count": 4,
   "metadata": {},
   "outputs": [
    {
     "data": {
      "text/plain": [
       "Petrol      12178\n",
       "Diesel       5762\n",
       "Hybrid         22\n",
       "Electric        2\n",
       "Other           1\n",
       "Name: fuelType, dtype: int64"
      ]
     },
     "execution_count": 4,
     "metadata": {},
     "output_type": "execute_result"
    }
   ],
   "source": [
    "fueltype_counts = auto_data.fuelType.value_counts()\n",
    "fueltype_counts"
   ]
  },
  {
   "cell_type": "code",
   "execution_count": 5,
   "metadata": {},
   "outputs": [
    {
     "name": "stderr",
     "output_type": "stream",
     "text": [
      "/usr/local/lib/python3.7/site-packages/seaborn/_decorators.py:43: FutureWarning: Pass the following variable as a keyword arg: x. From version 0.12, the only valid positional argument will be `data`, and passing other arguments without an explicit keyword will result in an error or misinterpretation.\n",
      "  FutureWarning\n"
     ]
    },
    {
     "data": {
      "text/plain": [
       "<AxesSubplot:xlabel='fuelType', ylabel='count'>"
      ]
     },
     "execution_count": 5,
     "metadata": {},
     "output_type": "execute_result"
    },
    {
     "data": {
      "image/png": "[encoded data removed]",
      "text/plain": [
       "<Figure size 432x288 with 1 Axes>"
      ]
     },
     "metadata": {
      "needs_background": "light"
     },
     "output_type": "display_data"
    }
   ],
   "source": [
    "sns.countplot(auto_data.fuelType)"
   ]
  },
  {
   "cell_type": "code",
   "execution_count": 6,
   "metadata": {},
   "outputs": [
    {
     "data": {
      "text/plain": [
       "{'Kuga', 'Mondeo', 'Puma'}"
      ]
     },
     "execution_count": 6,
     "metadata": {},
     "output_type": "execute_result"
    }
   ],
   "source": [
    "hybrids = auto_data[auto_data.fuelType == 'Hybrid']\n",
    "set(hybrids.model)"
   ]
  },
  {
   "cell_type": "markdown",
   "metadata": {},
   "source": [
    "Эти машины действительно бывают гибридными."
   ]
  },
  {
   "cell_type": "code",
   "execution_count": 7,
   "metadata": {},
   "outputs": [
    {
     "data": {
      "text/html": [
       "<div>\n",
       "<style scoped>\n",
       "    .dataframe tbody tr th:only-of-type {\n",
       "        vertical-align: middle;\n",
       "    }\n",
       "\n",
       "    .dataframe tbody tr th {\n",
       "        vertical-align: top;\n",
       "    }\n",
       "\n",
       "    .dataframe thead th {\n",
       "        text-align: right;\n",
       "    }\n",
       "</style>\n",
       "<table border=\"1\" class=\"dataframe\">\n",
       "  <thead>\n",
       "    <tr style=\"text-align: right;\">\n",
       "      <th></th>\n",
       "      <th>model</th>\n",
       "      <th>year</th>\n",
       "      <th>price</th>\n",
       "      <th>transmission</th>\n",
       "      <th>mileage</th>\n",
       "      <th>fuelType</th>\n",
       "      <th>tax</th>\n",
       "      <th>mpg</th>\n",
       "      <th>engineSize</th>\n",
       "    </tr>\n",
       "  </thead>\n",
       "  <tbody>\n",
       "    <tr>\n",
       "      <th>6385</th>\n",
       "      <td>Mondeo</td>\n",
       "      <td>2016</td>\n",
       "      <td>15975</td>\n",
       "      <td>Automatic</td>\n",
       "      <td>9396</td>\n",
       "      <td>Electric</td>\n",
       "      <td>0</td>\n",
       "      <td>67.3</td>\n",
       "      <td>2.0</td>\n",
       "    </tr>\n",
       "    <tr>\n",
       "      <th>11959</th>\n",
       "      <td>Mondeo</td>\n",
       "      <td>2016</td>\n",
       "      <td>15500</td>\n",
       "      <td>Automatic</td>\n",
       "      <td>24531</td>\n",
       "      <td>Electric</td>\n",
       "      <td>0</td>\n",
       "      <td>67.3</td>\n",
       "      <td>2.0</td>\n",
       "    </tr>\n",
       "    <tr>\n",
       "      <th>17492</th>\n",
       "      <td>Mondeo</td>\n",
       "      <td>2015</td>\n",
       "      <td>13800</td>\n",
       "      <td>Automatic</td>\n",
       "      <td>19470</td>\n",
       "      <td>Other</td>\n",
       "      <td>0</td>\n",
       "      <td>67.3</td>\n",
       "      <td>2.0</td>\n",
       "    </tr>\n",
       "  </tbody>\n",
       "</table>\n",
       "</div>"
      ],
      "text/plain": [
       "        model  year  price transmission  mileage  fuelType  tax   mpg  \\\n",
       "6385   Mondeo  2016  15975    Automatic     9396  Electric    0  67.3   \n",
       "11959  Mondeo  2016  15500    Automatic    24531  Electric    0  67.3   \n",
       "17492  Mondeo  2015  13800    Automatic    19470     Other    0  67.3   \n",
       "\n",
       "       engineSize  \n",
       "6385          2.0  \n",
       "11959         2.0  \n",
       "17492         2.0  "
      ]
     },
     "execution_count": 7,
     "metadata": {},
     "output_type": "execute_result"
    }
   ],
   "source": [
    "rare_fueltype = auto_data[auto_data.fuelType.isin({'Other', 'Electric'})]\n",
    "rare_fueltype"
   ]
  },
  {
   "cell_type": "markdown",
   "metadata": {},
   "source": [
    "Я не эксперт, но я бы не стал заливать Electric или Other в топливный бак Ford Mondeo.  \n",
    "Зная, что существуют гибридные Mondeo, можем с должной уверенностью заменить эти значения на Hybrid."
   ]
  },
  {
   "cell_type": "code",
   "execution_count": 8,
   "metadata": {},
   "outputs": [
    {
     "name": "stderr",
     "output_type": "stream",
     "text": [
      "/usr/local/lib/python3.7/site-packages/ipykernel_launcher.py:1: SettingWithCopyWarning: \n",
      "A value is trying to be set on a copy of a slice from a DataFrame.\n",
      "Try using .loc[row_indexer,col_indexer] = value instead\n",
      "\n",
      "See the caveats in the documentation: https://pandas.pydata.org/pandas-docs/stable/user_guide/indexing.html#returning-a-view-versus-a-copy\n",
      "  \"\"\"Entry point for launching an IPython kernel.\n"
     ]
    },
    {
     "data": {
      "text/html": [
       "<div>\n",
       "<style scoped>\n",
       "    .dataframe tbody tr th:only-of-type {\n",
       "        vertical-align: middle;\n",
       "    }\n",
       "\n",
       "    .dataframe tbody tr th {\n",
       "        vertical-align: top;\n",
       "    }\n",
       "\n",
       "    .dataframe thead th {\n",
       "        text-align: right;\n",
       "    }\n",
       "</style>\n",
       "<table border=\"1\" class=\"dataframe\">\n",
       "  <thead>\n",
       "    <tr style=\"text-align: right;\">\n",
       "      <th></th>\n",
       "      <th>model</th>\n",
       "      <th>year</th>\n",
       "      <th>price</th>\n",
       "      <th>transmission</th>\n",
       "      <th>mileage</th>\n",
       "      <th>fuelType</th>\n",
       "      <th>tax</th>\n",
       "      <th>mpg</th>\n",
       "      <th>engineSize</th>\n",
       "    </tr>\n",
       "  </thead>\n",
       "  <tbody>\n",
       "    <tr>\n",
       "      <th>6385</th>\n",
       "      <td>Mondeo</td>\n",
       "      <td>2016</td>\n",
       "      <td>15975</td>\n",
       "      <td>Automatic</td>\n",
       "      <td>9396</td>\n",
       "      <td>Hybrid</td>\n",
       "      <td>0</td>\n",
       "      <td>67.3</td>\n",
       "      <td>2.0</td>\n",
       "    </tr>\n",
       "    <tr>\n",
       "      <th>11959</th>\n",
       "      <td>Mondeo</td>\n",
       "      <td>2016</td>\n",
       "      <td>15500</td>\n",
       "      <td>Automatic</td>\n",
       "      <td>24531</td>\n",
       "      <td>Hybrid</td>\n",
       "      <td>0</td>\n",
       "      <td>67.3</td>\n",
       "      <td>2.0</td>\n",
       "    </tr>\n",
       "    <tr>\n",
       "      <th>17492</th>\n",
       "      <td>Mondeo</td>\n",
       "      <td>2015</td>\n",
       "      <td>13800</td>\n",
       "      <td>Automatic</td>\n",
       "      <td>19470</td>\n",
       "      <td>Hybrid</td>\n",
       "      <td>0</td>\n",
       "      <td>67.3</td>\n",
       "      <td>2.0</td>\n",
       "    </tr>\n",
       "  </tbody>\n",
       "</table>\n",
       "</div>"
      ],
      "text/plain": [
       "        model  year  price transmission  mileage fuelType  tax   mpg  \\\n",
       "6385   Mondeo  2016  15975    Automatic     9396   Hybrid    0  67.3   \n",
       "11959  Mondeo  2016  15500    Automatic    24531   Hybrid    0  67.3   \n",
       "17492  Mondeo  2015  13800    Automatic    19470   Hybrid    0  67.3   \n",
       "\n",
       "       engineSize  \n",
       "6385          2.0  \n",
       "11959         2.0  \n",
       "17492         2.0  "
      ]
     },
     "execution_count": 8,
     "metadata": {},
     "output_type": "execute_result"
    }
   ],
   "source": [
    "rare_fueltype['fuelType'] = 'Hybrid'\n",
    "rare_fueltype"
   ]
  },
  {
   "cell_type": "code",
   "execution_count": null,
   "metadata": {},
   "outputs": [],
   "source": []
  },
  {
   "cell_type": "markdown",
   "metadata": {},
   "source": [
    "### Анализ списка моделей"
   ]
  },
  {
   "cell_type": "code",
   "execution_count": 9,
   "metadata": {},
   "outputs": [
    {
     "data": {
      "text/plain": [
       "Fiesta                   6557\n",
       "Focus                    4588\n",
       "Kuga                     2225\n",
       "EcoSport                 1143\n",
       "C-MAX                     543\n",
       "Ka+                       531\n",
       "Mondeo                    526\n",
       "B-MAX                     355\n",
       "S-MAX                     296\n",
       "Grand C-MAX               247\n",
       "Galaxy                    228\n",
       "Edge                      208\n",
       "KA                        199\n",
       "Puma                       80\n",
       "Tourneo Custom             69\n",
       "Grand Tourneo Connect      59\n",
       "Mustang                    57\n",
       "Tourneo Connect            33\n",
       "Fusion                     16\n",
       "Streetka                    2\n",
       "Transit Tourneo             1\n",
       "Ranger                      1\n",
       "Escort                      1\n",
       "Name: model, dtype: int64"
      ]
     },
     "execution_count": 9,
     "metadata": {},
     "output_type": "execute_result"
    }
   ],
   "source": [
    "model_counts = auto_data.model.value_counts()\n",
    "model_counts"
   ]
  },
  {
   "cell_type": "code",
   "execution_count": 10,
   "metadata": {},
   "outputs": [
    {
     "data": {
      "text/html": [
       "<div>\n",
       "<style scoped>\n",
       "    .dataframe tbody tr th:only-of-type {\n",
       "        vertical-align: middle;\n",
       "    }\n",
       "\n",
       "    .dataframe tbody tr th {\n",
       "        vertical-align: top;\n",
       "    }\n",
       "\n",
       "    .dataframe thead th {\n",
       "        text-align: right;\n",
       "    }\n",
       "</style>\n",
       "<table border=\"1\" class=\"dataframe\">\n",
       "  <thead>\n",
       "    <tr style=\"text-align: right;\">\n",
       "      <th></th>\n",
       "      <th>model</th>\n",
       "      <th>year</th>\n",
       "      <th>price</th>\n",
       "      <th>transmission</th>\n",
       "      <th>mileage</th>\n",
       "      <th>fuelType</th>\n",
       "      <th>tax</th>\n",
       "      <th>mpg</th>\n",
       "      <th>engineSize</th>\n",
       "    </tr>\n",
       "  </thead>\n",
       "  <tbody>\n",
       "    <tr>\n",
       "      <th>13607</th>\n",
       "      <td>Ranger</td>\n",
       "      <td>2013</td>\n",
       "      <td>14495</td>\n",
       "      <td>Manual</td>\n",
       "      <td>88000</td>\n",
       "      <td>Diesel</td>\n",
       "      <td>240</td>\n",
       "      <td>28.3</td>\n",
       "      <td>3.2</td>\n",
       "    </tr>\n",
       "    <tr>\n",
       "      <th>14691</th>\n",
       "      <td>Streetka</td>\n",
       "      <td>2005</td>\n",
       "      <td>1999</td>\n",
       "      <td>Manual</td>\n",
       "      <td>63000</td>\n",
       "      <td>Petrol</td>\n",
       "      <td>270</td>\n",
       "      <td>35.3</td>\n",
       "      <td>1.6</td>\n",
       "    </tr>\n",
       "    <tr>\n",
       "      <th>16878</th>\n",
       "      <td>Escort</td>\n",
       "      <td>1996</td>\n",
       "      <td>3000</td>\n",
       "      <td>Manual</td>\n",
       "      <td>50000</td>\n",
       "      <td>Petrol</td>\n",
       "      <td>265</td>\n",
       "      <td>34.4</td>\n",
       "      <td>1.8</td>\n",
       "    </tr>\n",
       "    <tr>\n",
       "      <th>17080</th>\n",
       "      <td>Streetka</td>\n",
       "      <td>2006</td>\n",
       "      <td>1850</td>\n",
       "      <td>Manual</td>\n",
       "      <td>74055</td>\n",
       "      <td>Petrol</td>\n",
       "      <td>290</td>\n",
       "      <td>35.8</td>\n",
       "      <td>1.6</td>\n",
       "    </tr>\n",
       "    <tr>\n",
       "      <th>17741</th>\n",
       "      <td>Transit Tourneo</td>\n",
       "      <td>2014</td>\n",
       "      <td>12450</td>\n",
       "      <td>Manual</td>\n",
       "      <td>19496</td>\n",
       "      <td>Diesel</td>\n",
       "      <td>235</td>\n",
       "      <td>42.2</td>\n",
       "      <td>2.2</td>\n",
       "    </tr>\n",
       "  </tbody>\n",
       "</table>\n",
       "</div>"
      ],
      "text/plain": [
       "                 model  year  price transmission  mileage fuelType  tax   mpg  \\\n",
       "13607           Ranger  2013  14495       Manual    88000   Diesel  240  28.3   \n",
       "14691         Streetka  2005   1999       Manual    63000   Petrol  270  35.3   \n",
       "16878           Escort  1996   3000       Manual    50000   Petrol  265  34.4   \n",
       "17080         Streetka  2006   1850       Manual    74055   Petrol  290  35.8   \n",
       "17741  Transit Tourneo  2014  12450       Manual    19496   Diesel  235  42.2   \n",
       "\n",
       "       engineSize  \n",
       "13607         3.2  \n",
       "14691         1.6  \n",
       "16878         1.8  \n",
       "17080         1.6  \n",
       "17741         2.2  "
      ]
     },
     "execution_count": 10,
     "metadata": {},
     "output_type": "execute_result"
    }
   ],
   "source": [
    "rare_models = model_counts[model_counts < 10]\n",
    "rare_models_df = auto_data[auto_data.model.isin(rare_models.index)]\n",
    "rare_models_df"
   ]
  },
  {
   "cell_type": "markdown",
   "metadata": {},
   "source": [
    "Редкие машины можно считать выбросом и исключить из выборки.  "
   ]
  },
  {
   "cell_type": "code",
   "execution_count": 11,
   "metadata": {},
   "outputs": [],
   "source": [
    "auto_data.drop(rare_models_df.index, inplace=True)"
   ]
  },
  {
   "cell_type": "code",
   "execution_count": 12,
   "metadata": {},
   "outputs": [
    {
     "name": "stderr",
     "output_type": "stream",
     "text": [
      "/usr/local/lib/python3.7/site-packages/seaborn/_decorators.py:43: FutureWarning: Pass the following variable as a keyword arg: x. From version 0.12, the only valid positional argument will be `data`, and passing other arguments without an explicit keyword will result in an error or misinterpretation.\n",
      "  FutureWarning\n"
     ]
    },
    {
     "data": {
      "text/plain": [
       "<AxesSubplot:xlabel='model', ylabel='count'>"
      ]
     },
     "execution_count": 12,
     "metadata": {},
     "output_type": "execute_result"
    },
    {
     "data": {
      "image/png": "[encoded data removed]",
      "text/plain": [
       "<Figure size 2160x504 with 1 Axes>"
      ]
     },
     "metadata": {
      "needs_background": "light"
     },
     "output_type": "display_data"
    }
   ],
   "source": [
    "fig, ax = plt.subplots(figsize=(30,7))\n",
    "\n",
    "sns.countplot(auto_data.model, ax=ax, order=model_counts.index)"
   ]
  },
  {
   "cell_type": "raw",
   "metadata": {},
   "source": []
  },
  {
   "cell_type": "code",
   "execution_count": null,
   "metadata": {},
   "outputs": [],
   "source": []
  },
  {
   "cell_type": "code",
   "execution_count": null,
   "metadata": {},
   "outputs": [],
   "source": []
  },
  {
   "cell_type": "code",
   "execution_count": 13,
   "metadata": {},
   "outputs": [
    {
     "name": "stdout",
     "output_type": "stream",
     "text": [
      "<class 'pandas.core.frame.DataFrame'>\n",
      "Int64Index: 17960 entries, 0 to 17964\n",
      "Data columns (total 9 columns):\n",
      " #   Column        Non-Null Count  Dtype  \n",
      "---  ------        --------------  -----  \n",
      " 0   model         17960 non-null  object \n",
      " 1   year          17960 non-null  int64  \n",
      " 2   price         17960 non-null  int64  \n",
      " 3   transmission  17960 non-null  object \n",
      " 4   mileage       17960 non-null  int64  \n",
      " 5   fuelType      17960 non-null  object \n",
      " 6   tax           17960 non-null  int64  \n",
      " 7   mpg           17960 non-null  float64\n",
      " 8   engineSize    17960 non-null  float64\n",
      "dtypes: float64(2), int64(4), object(3)\n",
      "memory usage: 2.0+ MB\n"
     ]
    }
   ],
   "source": [
    "auto_data.info()"
   ]
  },
  {
   "cell_type": "markdown",
   "metadata": {},
   "source": [
    "Нет null значений"
   ]
  },
  {
   "cell_type": "code",
   "execution_count": 14,
   "metadata": {},
   "outputs": [
    {
     "data": {
      "text/html": [
       "<div>\n",
       "<style scoped>\n",
       "    .dataframe tbody tr th:only-of-type {\n",
       "        vertical-align: middle;\n",
       "    }\n",
       "\n",
       "    .dataframe tbody tr th {\n",
       "        vertical-align: top;\n",
       "    }\n",
       "\n",
       "    .dataframe thead th {\n",
       "        text-align: right;\n",
       "    }\n",
       "</style>\n",
       "<table border=\"1\" class=\"dataframe\">\n",
       "  <thead>\n",
       "    <tr style=\"text-align: right;\">\n",
       "      <th></th>\n",
       "      <th>year</th>\n",
       "      <th>price</th>\n",
       "      <th>mileage</th>\n",
       "      <th>tax</th>\n",
       "      <th>mpg</th>\n",
       "      <th>engineSize</th>\n",
       "    </tr>\n",
       "  </thead>\n",
       "  <tbody>\n",
       "    <tr>\n",
       "      <th>count</th>\n",
       "      <td>17960.000</td>\n",
       "      <td>17960.000</td>\n",
       "      <td>17960.000</td>\n",
       "      <td>17960.000</td>\n",
       "      <td>17960.000</td>\n",
       "      <td>17960.000</td>\n",
       "    </tr>\n",
       "    <tr>\n",
       "      <th>mean</th>\n",
       "      <td>2016.869</td>\n",
       "      <td>12281.293</td>\n",
       "      <td>23353.734</td>\n",
       "      <td>113.294</td>\n",
       "      <td>57.913</td>\n",
       "      <td>1.351</td>\n",
       "    </tr>\n",
       "    <tr>\n",
       "      <th>std</th>\n",
       "      <td>2.041</td>\n",
       "      <td>4740.248</td>\n",
       "      <td>19461.891</td>\n",
       "      <td>61.970</td>\n",
       "      <td>10.120</td>\n",
       "      <td>0.432</td>\n",
       "    </tr>\n",
       "    <tr>\n",
       "      <th>min</th>\n",
       "      <td>1998.000</td>\n",
       "      <td>495.000</td>\n",
       "      <td>1.000</td>\n",
       "      <td>0.000</td>\n",
       "      <td>20.800</td>\n",
       "      <td>0.000</td>\n",
       "    </tr>\n",
       "    <tr>\n",
       "      <th>25%</th>\n",
       "      <td>2016.000</td>\n",
       "      <td>8999.000</td>\n",
       "      <td>9987.000</td>\n",
       "      <td>30.000</td>\n",
       "      <td>52.300</td>\n",
       "      <td>1.000</td>\n",
       "    </tr>\n",
       "    <tr>\n",
       "      <th>50%</th>\n",
       "      <td>2017.000</td>\n",
       "      <td>11291.000</td>\n",
       "      <td>18237.000</td>\n",
       "      <td>145.000</td>\n",
       "      <td>58.900</td>\n",
       "      <td>1.200</td>\n",
       "    </tr>\n",
       "    <tr>\n",
       "      <th>75%</th>\n",
       "      <td>2018.000</td>\n",
       "      <td>15299.000</td>\n",
       "      <td>31036.000</td>\n",
       "      <td>145.000</td>\n",
       "      <td>65.700</td>\n",
       "      <td>1.500</td>\n",
       "    </tr>\n",
       "    <tr>\n",
       "      <th>max</th>\n",
       "      <td>2060.000</td>\n",
       "      <td>54995.000</td>\n",
       "      <td>177644.000</td>\n",
       "      <td>580.000</td>\n",
       "      <td>201.800</td>\n",
       "      <td>5.000</td>\n",
       "    </tr>\n",
       "  </tbody>\n",
       "</table>\n",
       "</div>"
      ],
      "text/plain": [
       "            year      price     mileage        tax        mpg  engineSize\n",
       "count  17960.000  17960.000   17960.000  17960.000  17960.000   17960.000\n",
       "mean    2016.869  12281.293   23353.734    113.294     57.913       1.351\n",
       "std        2.041   4740.248   19461.891     61.970     10.120       0.432\n",
       "min     1998.000    495.000       1.000      0.000     20.800       0.000\n",
       "25%     2016.000   8999.000    9987.000     30.000     52.300       1.000\n",
       "50%     2017.000  11291.000   18237.000    145.000     58.900       1.200\n",
       "75%     2018.000  15299.000   31036.000    145.000     65.700       1.500\n",
       "max     2060.000  54995.000  177644.000    580.000    201.800       5.000"
      ]
     },
     "execution_count": 14,
     "metadata": {},
     "output_type": "execute_result"
    }
   ],
   "source": [
    "auto_data.describe()"
   ]
  },
  {
   "cell_type": "markdown",
   "metadata": {},
   "source": [
    "* `year=2060` -- явная ошибка\n",
    "* `price=495` -- реалистична\n",
    "* `price=54995` --  стоит проверить\n",
    "* `mpg=201.8` -- вероятно выброс (кол-во миль на галон)\n",
    "* `mileage=177644` -- реалистичный пробег\n",
    "* `tax=0` -- наверное, корректное значение\n",
    "* `engineSize=0` -- пустое значение\n",
    "* `engineSize=5` -- стоит проверить"
   ]
  },
  {
   "cell_type": "markdown",
   "metadata": {},
   "source": [
    "### Выбросы engineSize"
   ]
  },
  {
   "cell_type": "code",
   "execution_count": 15,
   "metadata": {},
   "outputs": [
    {
     "name": "stdout",
     "output_type": "stream",
     "text": [
      "51 : {'Petrol', 'Hybrid', 'Diesel'}\n"
     ]
    }
   ],
   "source": [
    "def get_engine_by_size(size, df = auto_data):\n",
    "    return df[df.engineSize == size]\n",
    "\n",
    "zero_engine = get_engine_by_size(0)\n",
    "print(len(zero_engine), \":\", set(zero_engine.fuelType))"
   ]
  },
  {
   "cell_type": "markdown",
   "metadata": {},
   "source": [
    "Попахивает неправдой."
   ]
  },
  {
   "cell_type": "code",
   "execution_count": 16,
   "metadata": {},
   "outputs": [],
   "source": [
    "auto_data.drop(zero_engine.index, inplace=True)"
   ]
  },
  {
   "cell_type": "code",
   "execution_count": 17,
   "metadata": {},
   "outputs": [
    {
     "data": {
      "text/plain": [
       "{'Mondeo', 'Mustang'}"
      ]
     },
     "execution_count": 17,
     "metadata": {},
     "output_type": "execute_result"
    }
   ],
   "source": [
    "big_engine = get_engine_by_size(5)\n",
    "set(big_engine.model)"
   ]
  },
  {
   "cell_type": "markdown",
   "metadata": {},
   "source": [
    "Что здесь забыл Mondeo? Выпихиваем."
   ]
  },
  {
   "cell_type": "code",
   "execution_count": 18,
   "metadata": {},
   "outputs": [],
   "source": [
    "mondeo_liar = big_engine[big_engine.model == 'Mondeo']\n",
    "auto_data.drop(mondeo_liar.index, inplace=True)"
   ]
  },
  {
   "cell_type": "markdown",
   "metadata": {},
   "source": [
    "### Выбросы year"
   ]
  },
  {
   "cell_type": "code",
   "execution_count": 19,
   "metadata": {},
   "outputs": [
    {
     "data": {
      "text/html": [
       "<div>\n",
       "<style scoped>\n",
       "    .dataframe tbody tr th:only-of-type {\n",
       "        vertical-align: middle;\n",
       "    }\n",
       "\n",
       "    .dataframe tbody tr th {\n",
       "        vertical-align: top;\n",
       "    }\n",
       "\n",
       "    .dataframe thead th {\n",
       "        text-align: right;\n",
       "    }\n",
       "</style>\n",
       "<table border=\"1\" class=\"dataframe\">\n",
       "  <thead>\n",
       "    <tr style=\"text-align: right;\">\n",
       "      <th></th>\n",
       "      <th>model</th>\n",
       "      <th>year</th>\n",
       "      <th>price</th>\n",
       "      <th>transmission</th>\n",
       "      <th>mileage</th>\n",
       "      <th>fuelType</th>\n",
       "      <th>tax</th>\n",
       "      <th>mpg</th>\n",
       "      <th>engineSize</th>\n",
       "    </tr>\n",
       "  </thead>\n",
       "  <tbody>\n",
       "    <tr>\n",
       "      <th>17726</th>\n",
       "      <td>Fiesta</td>\n",
       "      <td>2060</td>\n",
       "      <td>6495</td>\n",
       "      <td>Automatic</td>\n",
       "      <td>54807</td>\n",
       "      <td>Petrol</td>\n",
       "      <td>205</td>\n",
       "      <td>42.8</td>\n",
       "      <td>1.4</td>\n",
       "    </tr>\n",
       "  </tbody>\n",
       "</table>\n",
       "</div>"
      ],
      "text/plain": [
       "        model  year  price transmission  mileage fuelType  tax   mpg  \\\n",
       "17726  Fiesta  2060   6495    Automatic    54807   Petrol  205  42.8   \n",
       "\n",
       "       engineSize  \n",
       "17726         1.4  "
      ]
     },
     "execution_count": 19,
     "metadata": {},
     "output_type": "execute_result"
    }
   ],
   "source": [
    "def get_year_over(year = datetime.datetime.now().year, df = auto_data):\n",
    "    return df[df.year > year]\n",
    "\n",
    "from_future = get_year_over()\n",
    "from_future"
   ]
  },
  {
   "cell_type": "markdown",
   "metadata": {},
   "source": [
    "Я не обнаружил в интернете информации о моделях Ford, выпускавшихся в 2060 году.  \n",
    "Можно предположить, что на самом деле там должно быть значение 2006.  \n",
    "А можно просто хладнокровно вырвать эту строчку из датасета."
   ]
  },
  {
   "cell_type": "code",
   "execution_count": 20,
   "metadata": {},
   "outputs": [],
   "source": [
    "auto_data.drop(from_future.index, inplace=True)"
   ]
  },
  {
   "cell_type": "code",
   "execution_count": null,
   "metadata": {},
   "outputs": [],
   "source": []
  },
  {
   "cell_type": "markdown",
   "metadata": {},
   "source": [
    "Получим данные по выпуску всех моделей Ford:"
   ]
  },
  {
   "cell_type": "code",
   "execution_count": 21,
   "metadata": {},
   "outputs": [
    {
     "data": {
      "text/html": [
       "<div>\n",
       "<style scoped>\n",
       "    .dataframe tbody tr th:only-of-type {\n",
       "        vertical-align: middle;\n",
       "    }\n",
       "\n",
       "    .dataframe tbody tr th {\n",
       "        vertical-align: top;\n",
       "    }\n",
       "\n",
       "    .dataframe thead th {\n",
       "        text-align: right;\n",
       "    }\n",
       "</style>\n",
       "<table border=\"1\" class=\"dataframe\">\n",
       "  <thead>\n",
       "    <tr style=\"text-align: right;\">\n",
       "      <th></th>\n",
       "      <th>model</th>\n",
       "      <th>model_detailed</th>\n",
       "      <th>begin</th>\n",
       "      <th>end</th>\n",
       "      <th>gasoline</th>\n",
       "      <th>diesel</th>\n",
       "      <th>hybrid</th>\n",
       "    </tr>\n",
       "  </thead>\n",
       "  <tbody>\n",
       "    <tr>\n",
       "      <th>0</th>\n",
       "      <td>BRONCO</td>\n",
       "      <td>FORD Bronco</td>\n",
       "      <td>2020</td>\n",
       "      <td>2021.0</td>\n",
       "      <td>1.0</td>\n",
       "      <td>0.0</td>\n",
       "      <td>0.0</td>\n",
       "    </tr>\n",
       "    <tr>\n",
       "      <th>1</th>\n",
       "      <td>ECOSPORT</td>\n",
       "      <td>FORD EcoSport</td>\n",
       "      <td>2017</td>\n",
       "      <td>2021.0</td>\n",
       "      <td>1.0</td>\n",
       "      <td>1.0</td>\n",
       "      <td>0.0</td>\n",
       "    </tr>\n",
       "    <tr>\n",
       "      <th>2</th>\n",
       "      <td>EDGE</td>\n",
       "      <td>FORD Edge</td>\n",
       "      <td>2018</td>\n",
       "      <td>2021.0</td>\n",
       "      <td>1.0</td>\n",
       "      <td>1.0</td>\n",
       "      <td>0.0</td>\n",
       "    </tr>\n",
       "    <tr>\n",
       "      <th>3</th>\n",
       "      <td>EDGE ST</td>\n",
       "      <td>FORD Edge ST</td>\n",
       "      <td>2018</td>\n",
       "      <td>2021.0</td>\n",
       "      <td>1.0</td>\n",
       "      <td>0.0</td>\n",
       "      <td>0.0</td>\n",
       "    </tr>\n",
       "    <tr>\n",
       "      <th>4</th>\n",
       "      <td>ESCAPE</td>\n",
       "      <td>FORD Escape</td>\n",
       "      <td>2019</td>\n",
       "      <td>2021.0</td>\n",
       "      <td>1.0</td>\n",
       "      <td>1.0</td>\n",
       "      <td>1.0</td>\n",
       "    </tr>\n",
       "  </tbody>\n",
       "</table>\n",
       "</div>"
      ],
      "text/plain": [
       "      model model_detailed  begin     end  gasoline  diesel  hybrid\n",
       "0    BRONCO    FORD Bronco   2020  2021.0       1.0     0.0     0.0\n",
       "1  ECOSPORT  FORD EcoSport   2017  2021.0       1.0     1.0     0.0\n",
       "2      EDGE      FORD Edge   2018  2021.0       1.0     1.0     0.0\n",
       "3   EDGE ST   FORD Edge ST   2018  2021.0       1.0     0.0     0.0\n",
       "4    ESCAPE    FORD Escape   2019  2021.0       1.0     1.0     1.0"
      ]
     },
     "execution_count": 21,
     "metadata": {},
     "output_type": "execute_result"
    }
   ],
   "source": [
    "# Использованы следующие ресурсы:\n",
    "# ???\n",
    "# https://www.auto-data.net/en/ford-all-72\n",
    "# https://www.autoevolution.com/ford/?sort=name\n",
    "\n",
    "ford_years = pd.read_csv(\"data/ford_models.csv\", delimiter=';')\n",
    "ford_years.replace(-1, datetime.datetime.now().year, inplace=True)\n",
    "ford_years.head()"
   ]
  },
  {
   "cell_type": "code",
   "execution_count": 22,
   "metadata": {},
   "outputs": [
    {
     "data": {
      "text/plain": [
       "'\\nwrong_data_indices = []\\nfor i, row in auto_data.iterrows():\\n    model = row.model.strip().upper()\\n    actual_years = ford_years[ford_years.model == model]\\n    if not any((actual_years.begin <= row.year) & (row.year <= actual_years.end)):\\n        wrong_data_indices.append(i)\\nauto_data[auto_data.index.isin(wrong_data_indices)]\\n# '"
      ]
     },
     "execution_count": 22,
     "metadata": {},
     "output_type": "execute_result"
    }
   ],
   "source": [
    "# \n",
    "\"\"\"\n",
    "wrong_data_indices = []\n",
    "for i, row in auto_data.iterrows():\n",
    "    model = row.model.strip().upper()\n",
    "    actual_years = ford_years[ford_years.model == model]\n",
    "    if not any((actual_years.begin <= row.year) & (row.year <= actual_years.end)):\n",
    "        wrong_data_indices.append(i)\n",
    "auto_data[auto_data.index.isin(wrong_data_indices)]\n",
    "# \"\"\""
   ]
  },
  {
   "cell_type": "code",
   "execution_count": null,
   "metadata": {},
   "outputs": [],
   "source": []
  },
  {
   "cell_type": "markdown",
   "metadata": {},
   "source": [
    "### Выбросы price"
   ]
  },
  {
   "cell_type": "code",
   "execution_count": 23,
   "metadata": {},
   "outputs": [
    {
     "data": {
      "text/plain": [
       "<AxesSubplot:title={'center':'price'}, xlabel='model'>"
      ]
     },
     "execution_count": 23,
     "metadata": {},
     "output_type": "execute_result"
    },
    {
     "data": {
      "image/png": "[encoded data removed]",
      "text/plain": [
       "<Figure size 1584x432 with 1 Axes>"
      ]
     },
     "metadata": {
      "needs_background": "light"
     },
     "output_type": "display_data"
    }
   ],
   "source": [
    "fig, ax = plt.subplots(figsize=(22,6))\n",
    "auto_data.boxplot(column=['price'], by='model', ax=ax, rot=30)"
   ]
  },
  {
   "cell_type": "code",
   "execution_count": 24,
   "metadata": {},
   "outputs": [],
   "source": [
    "overprice = auto_data[auto_data.price > 50000]"
   ]
  },
  {
   "cell_type": "markdown",
   "metadata": {},
   "source": [
    "Для Фокуса 55к бачинских многовато будет. [Разве что...](https://i.pinimg.com/originals/8a/32/12/8a32122ffae41e0c2d10ebb7ecc8e595.jpg) Но это всё равно выброс. Выбрасываем выброс."
   ]
  },
  {
   "cell_type": "markdown",
   "metadata": {},
   "source": [
    "**Как видно, некоторые Прайсы объединяются в отдельные кластеры, например у Ford Puma большинство значений находятся около 20000, но есть група значений менее 10000. Это может быть связано с тем, что модель выпускалась в течение долгого периода, имеет несколько поколений, некоторые из которых старые и никому не нужные.**"
   ]
  },
  {
   "cell_type": "code",
   "execution_count": 25,
   "metadata": {},
   "outputs": [],
   "source": [
    "auto_data.drop(overprice.index, inplace=True)"
   ]
  },
  {
   "cell_type": "code",
   "execution_count": 26,
   "metadata": {},
   "outputs": [
    {
     "data": {
      "text/plain": [
       "<AxesSubplot:title={'center':'price'}, xlabel='year'>"
      ]
     },
     "execution_count": 26,
     "metadata": {},
     "output_type": "execute_result"
    },
    {
     "data": {
      "image/png": "[encoded data removed]",
      "text/plain": [
       "<Figure size 720x288 with 1 Axes>"
      ]
     },
     "metadata": {
      "needs_background": "light"
     },
     "output_type": "display_data"
    }
   ],
   "source": [
    "cheap_cars = auto_data[(auto_data.model.isin(['Puma', 'Focus', 'Fiesta', 'S-MAX']))]\n",
    "fig, ax = plt.subplots(figsize=(10,4))\n",
    "cheap_cars.boxplot(column=['price'], by='year', ax=ax, rot=30)"
   ]
  },
  {
   "cell_type": "markdown",
   "metadata": {},
   "source": [
    "Как видно, сильный разброс в ценах перечисленных моделей вызвана разбросом в возрасте этих автомобилей из-за длительного промежутка их выпуска. \n",
    "Единственным выбросом является автомобиль 2009 года стоимостью более 20000:"
   ]
  },
  {
   "cell_type": "code",
   "execution_count": 27,
   "metadata": {},
   "outputs": [
    {
     "data": {
      "text/html": [
       "<div>\n",
       "<style scoped>\n",
       "    .dataframe tbody tr th:only-of-type {\n",
       "        vertical-align: middle;\n",
       "    }\n",
       "\n",
       "    .dataframe tbody tr th {\n",
       "        vertical-align: top;\n",
       "    }\n",
       "\n",
       "    .dataframe thead th {\n",
       "        text-align: right;\n",
       "    }\n",
       "</style>\n",
       "<table border=\"1\" class=\"dataframe\">\n",
       "  <thead>\n",
       "    <tr style=\"text-align: right;\">\n",
       "      <th></th>\n",
       "      <th>model</th>\n",
       "      <th>year</th>\n",
       "      <th>price</th>\n",
       "      <th>transmission</th>\n",
       "      <th>mileage</th>\n",
       "      <th>fuelType</th>\n",
       "      <th>tax</th>\n",
       "      <th>mpg</th>\n",
       "      <th>engineSize</th>\n",
       "    </tr>\n",
       "  </thead>\n",
       "  <tbody>\n",
       "    <tr>\n",
       "      <th>17100</th>\n",
       "      <td>Focus</td>\n",
       "      <td>2009</td>\n",
       "      <td>21500</td>\n",
       "      <td>Manual</td>\n",
       "      <td>44482</td>\n",
       "      <td>Petrol</td>\n",
       "      <td>330</td>\n",
       "      <td>30.1</td>\n",
       "      <td>2.5</td>\n",
       "    </tr>\n",
       "  </tbody>\n",
       "</table>\n",
       "</div>"
      ],
      "text/plain": [
       "       model  year  price transmission  mileage fuelType  tax   mpg  \\\n",
       "17100  Focus  2009  21500       Manual    44482   Petrol  330  30.1   \n",
       "\n",
       "       engineSize  \n",
       "17100         2.5  "
      ]
     },
     "execution_count": 27,
     "metadata": {},
     "output_type": "execute_result"
    }
   ],
   "source": [
    "overprice = auto_data[(auto_data.year == 2009) & (auto_data.price > 20000)]\n",
    "overprice"
   ]
  },
  {
   "cell_type": "code",
   "execution_count": 28,
   "metadata": {},
   "outputs": [
    {
     "data": {
      "text/html": [
       "<div>\n",
       "<style scoped>\n",
       "    .dataframe tbody tr th:only-of-type {\n",
       "        vertical-align: middle;\n",
       "    }\n",
       "\n",
       "    .dataframe tbody tr th {\n",
       "        vertical-align: top;\n",
       "    }\n",
       "\n",
       "    .dataframe thead th {\n",
       "        text-align: right;\n",
       "    }\n",
       "</style>\n",
       "<table border=\"1\" class=\"dataframe\">\n",
       "  <thead>\n",
       "    <tr style=\"text-align: right;\">\n",
       "      <th></th>\n",
       "      <th>model</th>\n",
       "      <th>year</th>\n",
       "      <th>price</th>\n",
       "      <th>transmission</th>\n",
       "      <th>mileage</th>\n",
       "      <th>fuelType</th>\n",
       "      <th>tax</th>\n",
       "      <th>mpg</th>\n",
       "      <th>engineSize</th>\n",
       "    </tr>\n",
       "  </thead>\n",
       "  <tbody>\n",
       "    <tr>\n",
       "      <th>13545</th>\n",
       "      <td>Focus</td>\n",
       "      <td>2009</td>\n",
       "      <td>1950</td>\n",
       "      <td>Manual</td>\n",
       "      <td>50000</td>\n",
       "      <td>Petrol</td>\n",
       "      <td>205</td>\n",
       "      <td>42.2</td>\n",
       "      <td>1.6</td>\n",
       "    </tr>\n",
       "    <tr>\n",
       "      <th>13819</th>\n",
       "      <td>Focus</td>\n",
       "      <td>2009</td>\n",
       "      <td>2499</td>\n",
       "      <td>Manual</td>\n",
       "      <td>85000</td>\n",
       "      <td>Petrol</td>\n",
       "      <td>200</td>\n",
       "      <td>42.2</td>\n",
       "      <td>1.6</td>\n",
       "    </tr>\n",
       "    <tr>\n",
       "      <th>15678</th>\n",
       "      <td>Focus</td>\n",
       "      <td>2009</td>\n",
       "      <td>1999</td>\n",
       "      <td>Manual</td>\n",
       "      <td>113492</td>\n",
       "      <td>Petrol</td>\n",
       "      <td>200</td>\n",
       "      <td>42.2</td>\n",
       "      <td>1.6</td>\n",
       "    </tr>\n",
       "    <tr>\n",
       "      <th>15682</th>\n",
       "      <td>Focus</td>\n",
       "      <td>2009</td>\n",
       "      <td>2495</td>\n",
       "      <td>Manual</td>\n",
       "      <td>107000</td>\n",
       "      <td>Petrol</td>\n",
       "      <td>205</td>\n",
       "      <td>42.2</td>\n",
       "      <td>1.6</td>\n",
       "    </tr>\n",
       "    <tr>\n",
       "      <th>15683</th>\n",
       "      <td>Focus</td>\n",
       "      <td>2009</td>\n",
       "      <td>2995</td>\n",
       "      <td>Manual</td>\n",
       "      <td>98000</td>\n",
       "      <td>Diesel</td>\n",
       "      <td>145</td>\n",
       "      <td>54.3</td>\n",
       "      <td>1.8</td>\n",
       "    </tr>\n",
       "  </tbody>\n",
       "</table>\n",
       "</div>"
      ],
      "text/plain": [
       "       model  year  price transmission  mileage fuelType  tax   mpg  \\\n",
       "13545  Focus  2009   1950       Manual    50000   Petrol  205  42.2   \n",
       "13819  Focus  2009   2499       Manual    85000   Petrol  200  42.2   \n",
       "15678  Focus  2009   1999       Manual   113492   Petrol  200  42.2   \n",
       "15682  Focus  2009   2495       Manual   107000   Petrol  205  42.2   \n",
       "15683  Focus  2009   2995       Manual    98000   Diesel  145  54.3   \n",
       "\n",
       "       engineSize  \n",
       "13545         1.6  \n",
       "13819         1.6  \n",
       "15678         1.6  \n",
       "15682         1.6  \n",
       "15683         1.8  "
      ]
     },
     "execution_count": 28,
     "metadata": {},
     "output_type": "execute_result"
    }
   ],
   "source": [
    "auto_data[(auto_data.year == 2009) & (auto_data.model == 'Focus')].head()"
   ]
  },
  {
   "cell_type": "markdown",
   "metadata": {},
   "source": [
    "Как видно, остальные Ford Focus этого года выпуска при схожих параметрах имеют значительно меньшую цену. "
   ]
  },
  {
   "cell_type": "markdown",
   "metadata": {},
   "source": [
    "## Model / year"
   ]
  },
  {
   "cell_type": "code",
   "execution_count": null,
   "metadata": {},
   "outputs": [],
   "source": []
  },
  {
   "cell_type": "code",
   "execution_count": 29,
   "metadata": {},
   "outputs": [
    {
     "data": {
      "text/plain": [
       "<matplotlib.collections.PathCollection at 0x140ecb090>"
      ]
     },
     "execution_count": 29,
     "metadata": {},
     "output_type": "execute_result"
    },
    {
     "data": {
      "image/png": "[encoded data removed]",
      "text/plain": [
       "<Figure size 1584x432 with 1 Axes>"
      ]
     },
     "metadata": {
      "needs_background": "light"
     },
     "output_type": "display_data"
    }
   ],
   "source": [
    "fig, ax = plt.subplots(figsize=(22,6))\n",
    "plt.scatter( auto_data['model'], auto_data['year'])"
   ]
  },
  {
   "cell_type": "code",
   "execution_count": 30,
   "metadata": {},
   "outputs": [],
   "source": [
    "pumas = auto_data[auto_data.model == 'Puma']\n",
    "pumas_old = pumas[pumas.year == 2002]\n",
    "pumas_new = pumas[pumas.year > 2002]"
   ]
  },
  {
   "cell_type": "markdown",
   "metadata": {},
   "source": [
    "**Как видно, некоторые модели выпускались в течение многих лет и имели множество поколений. Отделение этих поколений друг от друга позволит повысить точность оценки стоимости.**\n",
    "\n",
    "Ford Puma: 1997-2002 -- купе, около 2500 фунтов; 2019 -- кроссовер, около 20000 фунтов. \n"
   ]
  },
  {
   "cell_type": "markdown",
   "metadata": {},
   "source": [
    "### Выбросы mpg"
   ]
  },
  {
   "cell_type": "code",
   "execution_count": 31,
   "metadata": {},
   "outputs": [
    {
     "data": {
      "text/html": [
       "<div>\n",
       "<style scoped>\n",
       "    .dataframe tbody tr th:only-of-type {\n",
       "        vertical-align: middle;\n",
       "    }\n",
       "\n",
       "    .dataframe tbody tr th {\n",
       "        vertical-align: top;\n",
       "    }\n",
       "\n",
       "    .dataframe thead th {\n",
       "        text-align: right;\n",
       "    }\n",
       "</style>\n",
       "<table border=\"1\" class=\"dataframe\">\n",
       "  <thead>\n",
       "    <tr style=\"text-align: right;\">\n",
       "      <th></th>\n",
       "      <th>model</th>\n",
       "      <th>year</th>\n",
       "      <th>price</th>\n",
       "      <th>transmission</th>\n",
       "      <th>mileage</th>\n",
       "      <th>fuelType</th>\n",
       "      <th>tax</th>\n",
       "      <th>mpg</th>\n",
       "      <th>engineSize</th>\n",
       "    </tr>\n",
       "  </thead>\n",
       "  <tbody>\n",
       "    <tr>\n",
       "      <th>6153</th>\n",
       "      <td>Kuga</td>\n",
       "      <td>2020</td>\n",
       "      <td>31000</td>\n",
       "      <td>Semi-Auto</td>\n",
       "      <td>10</td>\n",
       "      <td>Hybrid</td>\n",
       "      <td>135</td>\n",
       "      <td>201.8</td>\n",
       "      <td>2.5</td>\n",
       "    </tr>\n",
       "    <tr>\n",
       "      <th>6536</th>\n",
       "      <td>Kuga</td>\n",
       "      <td>2020</td>\n",
       "      <td>31991</td>\n",
       "      <td>Semi-Auto</td>\n",
       "      <td>2357</td>\n",
       "      <td>Hybrid</td>\n",
       "      <td>135</td>\n",
       "      <td>201.8</td>\n",
       "      <td>2.5</td>\n",
       "    </tr>\n",
       "    <tr>\n",
       "      <th>9220</th>\n",
       "      <td>Kuga</td>\n",
       "      <td>2020</td>\n",
       "      <td>32000</td>\n",
       "      <td>Automatic</td>\n",
       "      <td>10</td>\n",
       "      <td>Hybrid</td>\n",
       "      <td>140</td>\n",
       "      <td>201.8</td>\n",
       "      <td>2.5</td>\n",
       "    </tr>\n",
       "    <tr>\n",
       "      <th>12862</th>\n",
       "      <td>Kuga</td>\n",
       "      <td>2020</td>\n",
       "      <td>33500</td>\n",
       "      <td>Automatic</td>\n",
       "      <td>5534</td>\n",
       "      <td>Hybrid</td>\n",
       "      <td>140</td>\n",
       "      <td>201.8</td>\n",
       "      <td>2.5</td>\n",
       "    </tr>\n",
       "    <tr>\n",
       "      <th>13730</th>\n",
       "      <td>Kuga</td>\n",
       "      <td>2020</td>\n",
       "      <td>32995</td>\n",
       "      <td>Automatic</td>\n",
       "      <td>11</td>\n",
       "      <td>Hybrid</td>\n",
       "      <td>135</td>\n",
       "      <td>201.8</td>\n",
       "      <td>2.5</td>\n",
       "    </tr>\n",
       "  </tbody>\n",
       "</table>\n",
       "</div>"
      ],
      "text/plain": [
       "      model  year  price transmission  mileage fuelType  tax    mpg  \\\n",
       "6153   Kuga  2020  31000    Semi-Auto       10   Hybrid  135  201.8   \n",
       "6536   Kuga  2020  31991    Semi-Auto     2357   Hybrid  135  201.8   \n",
       "9220   Kuga  2020  32000    Automatic       10   Hybrid  140  201.8   \n",
       "12862  Kuga  2020  33500    Automatic     5534   Hybrid  140  201.8   \n",
       "13730  Kuga  2020  32995    Automatic       11   Hybrid  135  201.8   \n",
       "\n",
       "       engineSize  \n",
       "6153          2.5  \n",
       "6536          2.5  \n",
       "9220          2.5  \n",
       "12862         2.5  \n",
       "13730         2.5  "
      ]
     },
     "execution_count": 31,
     "metadata": {},
     "output_type": "execute_result"
    }
   ],
   "source": [
    "def get_mpg_over(threshold, df = auto_data):\n",
    "    return df[df.mpg > threshold]\n",
    "\n",
    "high_mpg = get_mpg_over(100)\n",
    "high_mpg\n",
    "# print(len(high_mpg), \":\", set(high_mpg.model))"
   ]
  },
  {
   "cell_type": "code",
   "execution_count": 32,
   "metadata": {},
   "outputs": [
    {
     "data": {
      "text/plain": [
       "<AxesSubplot:>"
      ]
     },
     "execution_count": 32,
     "metadata": {},
     "output_type": "execute_result"
    },
    {
     "data": {
      "image/png": "[encoded data removed]",
      "text/plain": [
       "<Figure size 432x288 with 1 Axes>"
      ]
     },
     "metadata": {
      "needs_background": "light"
     },
     "output_type": "display_data"
    }
   ],
   "source": [
    "auto_data[auto_data.model == 'Kuga'].mpg.hist()"
   ]
  },
  {
   "cell_type": "markdown",
   "metadata": {},
   "source": [
    "**Хитрюги использовали значения mpg, полученные по хитрой методике: https://www.parkers.co.uk/ford/kuga/review/mpg-running-costs/  \n",
    "Заменяем значения на реалистичные хитрые:**"
   ]
  },
  {
   "cell_type": "code",
   "execution_count": 33,
   "metadata": {},
   "outputs": [],
   "source": [
    "auto_data.mpg.replace(201.8, 52.3, inplace=True)"
   ]
  },
  {
   "cell_type": "code",
   "execution_count": 34,
   "metadata": {},
   "outputs": [
    {
     "data": {
      "text/plain": [
       "<AxesSubplot:>"
      ]
     },
     "execution_count": 34,
     "metadata": {},
     "output_type": "execute_result"
    },
    {
     "data": {
      "image/png": "[encoded data removed]",
      "text/plain": [
       "<Figure size 432x288 with 1 Axes>"
      ]
     },
     "metadata": {
      "needs_background": "light"
     },
     "output_type": "display_data"
    }
   ],
   "source": [
    "auto_data.mpg.hist()"
   ]
  },
  {
   "cell_type": "code",
   "execution_count": 35,
   "metadata": {},
   "outputs": [
    {
     "data": {
      "text/plain": [
       "<AxesSubplot:title={'center':'mpg'}, xlabel='model'>"
      ]
     },
     "execution_count": 35,
     "metadata": {},
     "output_type": "execute_result"
    },
    {
     "data": {
      "image/png": "[encoded data removed]",
      "text/plain": [
       "<Figure size 1800x576 with 1 Axes>"
      ]
     },
     "metadata": {
      "needs_background": "light"
     },
     "output_type": "display_data"
    }
   ],
   "source": [
    "fig, ax = plt.subplots(figsize=(25,8))\n",
    "auto_data.boxplot(column=['mpg'], by='model', ax=ax, rot=30)"
   ]
  },
  {
   "cell_type": "markdown",
   "metadata": {},
   "source": [
    "**Вероятно, некоторые продавцы публикуют собственные данные, а другие используют маркетинговые. \n",
    "У нескольких моделей есть пара значений, сильно выделяющися на фоне остальных.**"
   ]
  },
  {
   "cell_type": "code",
   "execution_count": 36,
   "metadata": {},
   "outputs": [
    {
     "name": "stdout",
     "output_type": "stream",
     "text": [
      "высокий mpg {'Diesel'}\n",
      "низкий mpg {'Petrol'}\n"
     ]
    }
   ],
   "source": [
    "fusion = auto_data[auto_data.model == 'Fusion']\n",
    "print(\"высокий mpg\", set(fusion[fusion.mpg > 50].fuelType))\n",
    "print(\"низкий mpg\", set(fusion[fusion.mpg < 50].fuelType))"
   ]
  },
  {
   "cell_type": "markdown",
   "metadata": {},
   "source": [
    "**Как видно, разброс в mpg у одной модели (одного поколения) объясняется с видом используемого топлива.**  \n",
    "**Для улучшения предсказаний можно попробовать объединить колонки model и fuelType**"
   ]
  },
  {
   "cell_type": "code",
   "execution_count": 37,
   "metadata": {},
   "outputs": [
    {
     "data": {
      "text/plain": [
       "<matplotlib.collections.PathCollection at 0x1418e5e90>"
      ]
     },
     "execution_count": 37,
     "metadata": {},
     "output_type": "execute_result"
    },
    {
     "data": {
      "image/png": "[encoded data removed]",
      "text/plain": [
       "<Figure size 432x288 with 1 Axes>"
      ]
     },
     "metadata": {
      "needs_background": "light"
     },
     "output_type": "display_data"
    }
   ],
   "source": [
    "plt.scatter(auto_data.mpg, auto_data.price)"
   ]
  },
  {
   "cell_type": "markdown",
   "metadata": {},
   "source": [
    "**Хорошо видна общая тенденция, при которой более дорогие автомобили, такие как Mustang, являются менее экономными. Выделяется лишь одно значение.**"
   ]
  },
  {
   "cell_type": "code",
   "execution_count": 38,
   "metadata": {},
   "outputs": [
    {
     "data": {
      "text/html": [
       "<div>\n",
       "<style scoped>\n",
       "    .dataframe tbody tr th:only-of-type {\n",
       "        vertical-align: middle;\n",
       "    }\n",
       "\n",
       "    .dataframe tbody tr th {\n",
       "        vertical-align: top;\n",
       "    }\n",
       "\n",
       "    .dataframe thead th {\n",
       "        text-align: right;\n",
       "    }\n",
       "</style>\n",
       "<table border=\"1\" class=\"dataframe\">\n",
       "  <thead>\n",
       "    <tr style=\"text-align: right;\">\n",
       "      <th></th>\n",
       "      <th>model</th>\n",
       "      <th>year</th>\n",
       "      <th>price</th>\n",
       "      <th>transmission</th>\n",
       "      <th>mileage</th>\n",
       "      <th>fuelType</th>\n",
       "      <th>tax</th>\n",
       "      <th>mpg</th>\n",
       "      <th>engineSize</th>\n",
       "    </tr>\n",
       "  </thead>\n",
       "  <tbody>\n",
       "    <tr>\n",
       "      <th>1039</th>\n",
       "      <td>Focus</td>\n",
       "      <td>2017</td>\n",
       "      <td>38015</td>\n",
       "      <td>Manual</td>\n",
       "      <td>197</td>\n",
       "      <td>Diesel</td>\n",
       "      <td>145</td>\n",
       "      <td>74.3</td>\n",
       "      <td>1.5</td>\n",
       "    </tr>\n",
       "  </tbody>\n",
       "</table>\n",
       "</div>"
      ],
      "text/plain": [
       "      model  year  price transmission  mileage fuelType  tax   mpg  engineSize\n",
       "1039  Focus  2017  38015       Manual      197   Diesel  145  74.3         1.5"
      ]
     },
     "execution_count": 38,
     "metadata": {},
     "output_type": "execute_result"
    }
   ],
   "source": [
    "overprice = auto_data[(auto_data.price > 30000) & (auto_data.mpg > 70)]\n",
    "overprice"
   ]
  },
  {
   "cell_type": "markdown",
   "metadata": {},
   "source": [
    "**Уже не первый раз Фокус показывает трюки. Пропустили его, когда анализировали зависимость цены от модели, но вот он выполз. Теперь, придерживаясь выбранной стратегии, избавимся от шутника:**"
   ]
  },
  {
   "cell_type": "code",
   "execution_count": 39,
   "metadata": {},
   "outputs": [],
   "source": [
    "auto_data.drop(overprice.index, inplace=True)"
   ]
  },
  {
   "cell_type": "markdown",
   "metadata": {},
   "source": [
    "### Выбросы mileage"
   ]
  },
  {
   "cell_type": "code",
   "execution_count": 40,
   "metadata": {},
   "outputs": [
    {
     "data": {
      "text/plain": [
       "<AxesSubplot:>"
      ]
     },
     "execution_count": 40,
     "metadata": {},
     "output_type": "execute_result"
    },
    {
     "data": {
      "image/png": "[encoded data removed]",
      "text/plain": [
       "<Figure size 432x288 with 1 Axes>"
      ]
     },
     "metadata": {
      "needs_background": "light"
     },
     "output_type": "display_data"
    }
   ],
   "source": [
    "auto_data.mileage.hist()"
   ]
  },
  {
   "cell_type": "markdown",
   "metadata": {},
   "source": [
    "Распределение выглядит реалистично."
   ]
  },
  {
   "cell_type": "markdown",
   "metadata": {},
   "source": [
    "### Проверка результата выброса выбросов:"
   ]
  },
  {
   "cell_type": "code",
   "execution_count": 41,
   "metadata": {},
   "outputs": [
    {
     "data": {
      "text/html": [
       "<div>\n",
       "<style scoped>\n",
       "    .dataframe tbody tr th:only-of-type {\n",
       "        vertical-align: middle;\n",
       "    }\n",
       "\n",
       "    .dataframe tbody tr th {\n",
       "        vertical-align: top;\n",
       "    }\n",
       "\n",
       "    .dataframe thead th {\n",
       "        text-align: right;\n",
       "    }\n",
       "</style>\n",
       "<table border=\"1\" class=\"dataframe\">\n",
       "  <thead>\n",
       "    <tr style=\"text-align: right;\">\n",
       "      <th></th>\n",
       "      <th>year</th>\n",
       "      <th>price</th>\n",
       "      <th>mileage</th>\n",
       "      <th>tax</th>\n",
       "      <th>mpg</th>\n",
       "      <th>engineSize</th>\n",
       "    </tr>\n",
       "  </thead>\n",
       "  <tbody>\n",
       "    <tr>\n",
       "      <th>count</th>\n",
       "      <td>17905.000</td>\n",
       "      <td>17905.000</td>\n",
       "      <td>17905.000</td>\n",
       "      <td>17905.000</td>\n",
       "      <td>17905.000</td>\n",
       "      <td>17905.000</td>\n",
       "    </tr>\n",
       "    <tr>\n",
       "      <th>mean</th>\n",
       "      <td>2016.866</td>\n",
       "      <td>12279.051</td>\n",
       "      <td>23365.416</td>\n",
       "      <td>113.291</td>\n",
       "      <td>57.877</td>\n",
       "      <td>1.354</td>\n",
       "    </tr>\n",
       "    <tr>\n",
       "      <th>std</th>\n",
       "      <td>2.017</td>\n",
       "      <td>4728.216</td>\n",
       "      <td>19465.782</td>\n",
       "      <td>61.969</td>\n",
       "      <td>9.830</td>\n",
       "      <td>0.426</td>\n",
       "    </tr>\n",
       "    <tr>\n",
       "      <th>min</th>\n",
       "      <td>1998.000</td>\n",
       "      <td>495.000</td>\n",
       "      <td>1.000</td>\n",
       "      <td>0.000</td>\n",
       "      <td>20.800</td>\n",
       "      <td>1.000</td>\n",
       "    </tr>\n",
       "    <tr>\n",
       "      <th>25%</th>\n",
       "      <td>2016.000</td>\n",
       "      <td>8999.000</td>\n",
       "      <td>9987.000</td>\n",
       "      <td>30.000</td>\n",
       "      <td>52.300</td>\n",
       "      <td>1.000</td>\n",
       "    </tr>\n",
       "    <tr>\n",
       "      <th>50%</th>\n",
       "      <td>2017.000</td>\n",
       "      <td>11291.000</td>\n",
       "      <td>18248.000</td>\n",
       "      <td>145.000</td>\n",
       "      <td>58.900</td>\n",
       "      <td>1.200</td>\n",
       "    </tr>\n",
       "    <tr>\n",
       "      <th>75%</th>\n",
       "      <td>2018.000</td>\n",
       "      <td>15299.000</td>\n",
       "      <td>31073.000</td>\n",
       "      <td>145.000</td>\n",
       "      <td>65.700</td>\n",
       "      <td>1.500</td>\n",
       "    </tr>\n",
       "    <tr>\n",
       "      <th>max</th>\n",
       "      <td>2020.000</td>\n",
       "      <td>49999.000</td>\n",
       "      <td>177644.000</td>\n",
       "      <td>580.000</td>\n",
       "      <td>88.300</td>\n",
       "      <td>5.000</td>\n",
       "    </tr>\n",
       "  </tbody>\n",
       "</table>\n",
       "</div>"
      ],
      "text/plain": [
       "            year      price     mileage        tax        mpg  engineSize\n",
       "count  17905.000  17905.000   17905.000  17905.000  17905.000   17905.000\n",
       "mean    2016.866  12279.051   23365.416    113.291     57.877       1.354\n",
       "std        2.017   4728.216   19465.782     61.969      9.830       0.426\n",
       "min     1998.000    495.000       1.000      0.000     20.800       1.000\n",
       "25%     2016.000   8999.000    9987.000     30.000     52.300       1.000\n",
       "50%     2017.000  11291.000   18248.000    145.000     58.900       1.200\n",
       "75%     2018.000  15299.000   31073.000    145.000     65.700       1.500\n",
       "max     2020.000  49999.000  177644.000    580.000     88.300       5.000"
      ]
     },
     "execution_count": 41,
     "metadata": {},
     "output_type": "execute_result"
    }
   ],
   "source": [
    "auto_data.describe()"
   ]
  },
  {
   "cell_type": "code",
   "execution_count": null,
   "metadata": {},
   "outputs": [],
   "source": []
  },
  {
   "cell_type": "code",
   "execution_count": null,
   "metadata": {},
   "outputs": [],
   "source": []
  },
  {
   "cell_type": "code",
   "execution_count": null,
   "metadata": {},
   "outputs": [],
   "source": []
  },
  {
   "cell_type": "code",
   "execution_count": null,
   "metadata": {},
   "outputs": [],
   "source": []
  },
  {
   "cell_type": "code",
   "execution_count": null,
   "metadata": {},
   "outputs": [],
   "source": []
  },
  {
   "cell_type": "code",
   "execution_count": null,
   "metadata": {},
   "outputs": [],
   "source": []
  },
  {
   "cell_type": "code",
   "execution_count": null,
   "metadata": {},
   "outputs": [],
   "source": []
  },
  {
   "cell_type": "code",
   "execution_count": null,
   "metadata": {},
   "outputs": [],
   "source": []
  },
  {
   "cell_type": "code",
   "execution_count": null,
   "metadata": {},
   "outputs": [],
   "source": []
  },
  {
   "cell_type": "code",
   "execution_count": null,
   "metadata": {},
   "outputs": [],
   "source": []
  },
  {
   "cell_type": "code",
   "execution_count": null,
   "metadata": {},
   "outputs": [],
   "source": []
  },
  {
   "cell_type": "code",
   "execution_count": null,
   "metadata": {},
   "outputs": [],
   "source": []
  },
  {
   "cell_type": "code",
   "execution_count": null,
   "metadata": {},
   "outputs": [],
   "source": []
  },
  {
   "cell_type": "code",
   "execution_count": null,
   "metadata": {},
   "outputs": [],
   "source": []
  },
  {
   "cell_type": "code",
   "execution_count": null,
   "metadata": {},
   "outputs": [],
   "source": []
  },
  {
   "cell_type": "markdown",
   "metadata": {},
   "source": [
    "## Линейная регрессия"
   ]
  },
  {
   "cell_type": "code",
   "execution_count": 42,
   "metadata": {},
   "outputs": [
    {
     "data": {
      "text/html": [
       "<div>\n",
       "<style scoped>\n",
       "    .dataframe tbody tr th:only-of-type {\n",
       "        vertical-align: middle;\n",
       "    }\n",
       "\n",
       "    .dataframe tbody tr th {\n",
       "        vertical-align: top;\n",
       "    }\n",
       "\n",
       "    .dataframe thead th {\n",
       "        text-align: right;\n",
       "    }\n",
       "</style>\n",
       "<table border=\"1\" class=\"dataframe\">\n",
       "  <thead>\n",
       "    <tr style=\"text-align: right;\">\n",
       "      <th></th>\n",
       "      <th>model</th>\n",
       "      <th>year</th>\n",
       "      <th>price</th>\n",
       "      <th>transmission</th>\n",
       "      <th>mileage</th>\n",
       "      <th>fuelType</th>\n",
       "      <th>tax</th>\n",
       "      <th>mpg</th>\n",
       "      <th>engineSize</th>\n",
       "    </tr>\n",
       "  </thead>\n",
       "  <tbody>\n",
       "    <tr>\n",
       "      <th>0</th>\n",
       "      <td>4</td>\n",
       "      <td>2017</td>\n",
       "      <td>12000</td>\n",
       "      <td>0</td>\n",
       "      <td>15944</td>\n",
       "      <td>4</td>\n",
       "      <td>150</td>\n",
       "      <td>57.7</td>\n",
       "      <td>1.0</td>\n",
       "    </tr>\n",
       "    <tr>\n",
       "      <th>1</th>\n",
       "      <td>5</td>\n",
       "      <td>2018</td>\n",
       "      <td>14000</td>\n",
       "      <td>1</td>\n",
       "      <td>9083</td>\n",
       "      <td>4</td>\n",
       "      <td>150</td>\n",
       "      <td>57.7</td>\n",
       "      <td>1.0</td>\n",
       "    </tr>\n",
       "    <tr>\n",
       "      <th>2</th>\n",
       "      <td>5</td>\n",
       "      <td>2017</td>\n",
       "      <td>13000</td>\n",
       "      <td>1</td>\n",
       "      <td>12456</td>\n",
       "      <td>4</td>\n",
       "      <td>150</td>\n",
       "      <td>57.7</td>\n",
       "      <td>1.0</td>\n",
       "    </tr>\n",
       "    <tr>\n",
       "      <th>3</th>\n",
       "      <td>4</td>\n",
       "      <td>2019</td>\n",
       "      <td>17500</td>\n",
       "      <td>1</td>\n",
       "      <td>10460</td>\n",
       "      <td>4</td>\n",
       "      <td>145</td>\n",
       "      <td>40.3</td>\n",
       "      <td>1.5</td>\n",
       "    </tr>\n",
       "    <tr>\n",
       "      <th>4</th>\n",
       "      <td>4</td>\n",
       "      <td>2019</td>\n",
       "      <td>16500</td>\n",
       "      <td>0</td>\n",
       "      <td>1482</td>\n",
       "      <td>4</td>\n",
       "      <td>145</td>\n",
       "      <td>48.7</td>\n",
       "      <td>1.0</td>\n",
       "    </tr>\n",
       "    <tr>\n",
       "      <th>...</th>\n",
       "      <td>...</td>\n",
       "      <td>...</td>\n",
       "      <td>...</td>\n",
       "      <td>...</td>\n",
       "      <td>...</td>\n",
       "      <td>...</td>\n",
       "      <td>...</td>\n",
       "      <td>...</td>\n",
       "      <td>...</td>\n",
       "    </tr>\n",
       "    <tr>\n",
       "      <th>17960</th>\n",
       "      <td>4</td>\n",
       "      <td>2016</td>\n",
       "      <td>7999</td>\n",
       "      <td>1</td>\n",
       "      <td>31348</td>\n",
       "      <td>4</td>\n",
       "      <td>125</td>\n",
       "      <td>54.3</td>\n",
       "      <td>1.2</td>\n",
       "    </tr>\n",
       "    <tr>\n",
       "      <th>17961</th>\n",
       "      <td>0</td>\n",
       "      <td>2017</td>\n",
       "      <td>8999</td>\n",
       "      <td>1</td>\n",
       "      <td>16700</td>\n",
       "      <td>4</td>\n",
       "      <td>150</td>\n",
       "      <td>47.1</td>\n",
       "      <td>1.4</td>\n",
       "    </tr>\n",
       "    <tr>\n",
       "      <th>17962</th>\n",
       "      <td>0</td>\n",
       "      <td>2014</td>\n",
       "      <td>7499</td>\n",
       "      <td>1</td>\n",
       "      <td>40700</td>\n",
       "      <td>4</td>\n",
       "      <td>30</td>\n",
       "      <td>57.7</td>\n",
       "      <td>1.0</td>\n",
       "    </tr>\n",
       "    <tr>\n",
       "      <th>17963</th>\n",
       "      <td>5</td>\n",
       "      <td>2015</td>\n",
       "      <td>9999</td>\n",
       "      <td>1</td>\n",
       "      <td>7010</td>\n",
       "      <td>0</td>\n",
       "      <td>20</td>\n",
       "      <td>67.3</td>\n",
       "      <td>1.6</td>\n",
       "    </tr>\n",
       "    <tr>\n",
       "      <th>17964</th>\n",
       "      <td>10</td>\n",
       "      <td>2018</td>\n",
       "      <td>8299</td>\n",
       "      <td>1</td>\n",
       "      <td>5007</td>\n",
       "      <td>4</td>\n",
       "      <td>145</td>\n",
       "      <td>57.7</td>\n",
       "      <td>1.2</td>\n",
       "    </tr>\n",
       "  </tbody>\n",
       "</table>\n",
       "<p>17905 rows × 9 columns</p>\n",
       "</div>"
      ],
      "text/plain": [
       "       model  year  price  transmission  mileage  fuelType  tax   mpg  \\\n",
       "0          4  2017  12000             0    15944         4  150  57.7   \n",
       "1          5  2018  14000             1     9083         4  150  57.7   \n",
       "2          5  2017  13000             1    12456         4  150  57.7   \n",
       "3          4  2019  17500             1    10460         4  145  40.3   \n",
       "4          4  2019  16500             0     1482         4  145  48.7   \n",
       "...      ...   ...    ...           ...      ...       ...  ...   ...   \n",
       "17960      4  2016   7999             1    31348         4  125  54.3   \n",
       "17961      0  2017   8999             1    16700         4  150  47.1   \n",
       "17962      0  2014   7499             1    40700         4   30  57.7   \n",
       "17963      5  2015   9999             1     7010         0   20  67.3   \n",
       "17964     10  2018   8299             1     5007         4  145  57.7   \n",
       "\n",
       "       engineSize  \n",
       "0             1.0  \n",
       "1             1.0  \n",
       "2             1.0  \n",
       "3             1.5  \n",
       "4             1.0  \n",
       "...           ...  \n",
       "17960         1.2  \n",
       "17961         1.4  \n",
       "17962         1.0  \n",
       "17963         1.6  \n",
       "17964         1.2  \n",
       "\n",
       "[17905 rows x 9 columns]"
      ]
     },
     "execution_count": 42,
     "metadata": {},
     "output_type": "execute_result"
    }
   ],
   "source": [
    "# закодируем строковые поля числовыми метками:\n",
    "from sklearn.preprocessing import LabelEncoder\n",
    "\n",
    "string_cols = (\"model\", \"transmission\", \"fuelType\")\n",
    "auto_data_with_labels = auto_data.copy()\n",
    "\n",
    "for col in string_cols:\n",
    "    lbl = LabelEncoder()\n",
    "    lbl.fit(list(auto_data_with_labels[col].values))\n",
    "    auto_data_with_labels[col] = lbl.transform(list(auto_data_with_labels[col].values))\n",
    "\n",
    "auto_data_with_labels"
   ]
  },
  {
   "cell_type": "code",
   "execution_count": null,
   "metadata": {},
   "outputs": [],
   "source": []
  },
  {
   "cell_type": "code",
   "execution_count": 43,
   "metadata": {},
   "outputs": [],
   "source": [
    "new_column = auto_data.model + \" \" + auto_data.fuelType + \" \" + auto_data.year.astype(str)"
   ]
  },
  {
   "cell_type": "code",
   "execution_count": 44,
   "metadata": {},
   "outputs": [
    {
     "data": {
      "text/html": [
       "<div>\n",
       "<style scoped>\n",
       "    .dataframe tbody tr th:only-of-type {\n",
       "        vertical-align: middle;\n",
       "    }\n",
       "\n",
       "    .dataframe tbody tr th {\n",
       "        vertical-align: top;\n",
       "    }\n",
       "\n",
       "    .dataframe thead th {\n",
       "        text-align: right;\n",
       "    }\n",
       "</style>\n",
       "<table border=\"1\" class=\"dataframe\">\n",
       "  <thead>\n",
       "    <tr style=\"text-align: right;\">\n",
       "      <th></th>\n",
       "      <th>year</th>\n",
       "      <th>price</th>\n",
       "      <th>mileage</th>\n",
       "      <th>tax</th>\n",
       "      <th>mpg</th>\n",
       "      <th>engineSize</th>\n",
       "      <th>B-MAX Diesel 2012</th>\n",
       "      <th>B-MAX Diesel 2013</th>\n",
       "      <th>B-MAX Diesel 2014</th>\n",
       "      <th>B-MAX Diesel 2015</th>\n",
       "      <th>...</th>\n",
       "      <th>Tourneo Custom Diesel 2018</th>\n",
       "      <th>Tourneo Custom Diesel 2019</th>\n",
       "      <th>Diesel</th>\n",
       "      <th>Electric</th>\n",
       "      <th>Hybrid</th>\n",
       "      <th>Other</th>\n",
       "      <th>Petrol</th>\n",
       "      <th>Automatic</th>\n",
       "      <th>Manual</th>\n",
       "      <th>Semi-Auto</th>\n",
       "    </tr>\n",
       "  </thead>\n",
       "  <tbody>\n",
       "    <tr>\n",
       "      <th>0</th>\n",
       "      <td>2017</td>\n",
       "      <td>12000</td>\n",
       "      <td>15944</td>\n",
       "      <td>150</td>\n",
       "      <td>57.7</td>\n",
       "      <td>1.0</td>\n",
       "      <td>0</td>\n",
       "      <td>0</td>\n",
       "      <td>0</td>\n",
       "      <td>0</td>\n",
       "      <td>...</td>\n",
       "      <td>0</td>\n",
       "      <td>0</td>\n",
       "      <td>0</td>\n",
       "      <td>0</td>\n",
       "      <td>0</td>\n",
       "      <td>0</td>\n",
       "      <td>1</td>\n",
       "      <td>1</td>\n",
       "      <td>0</td>\n",
       "      <td>0</td>\n",
       "    </tr>\n",
       "    <tr>\n",
       "      <th>1</th>\n",
       "      <td>2018</td>\n",
       "      <td>14000</td>\n",
       "      <td>9083</td>\n",
       "      <td>150</td>\n",
       "      <td>57.7</td>\n",
       "      <td>1.0</td>\n",
       "      <td>0</td>\n",
       "      <td>0</td>\n",
       "      <td>0</td>\n",
       "      <td>0</td>\n",
       "      <td>...</td>\n",
       "      <td>0</td>\n",
       "      <td>0</td>\n",
       "      <td>0</td>\n",
       "      <td>0</td>\n",
       "      <td>0</td>\n",
       "      <td>0</td>\n",
       "      <td>1</td>\n",
       "      <td>0</td>\n",
       "      <td>1</td>\n",
       "      <td>0</td>\n",
       "    </tr>\n",
       "    <tr>\n",
       "      <th>2</th>\n",
       "      <td>2017</td>\n",
       "      <td>13000</td>\n",
       "      <td>12456</td>\n",
       "      <td>150</td>\n",
       "      <td>57.7</td>\n",
       "      <td>1.0</td>\n",
       "      <td>0</td>\n",
       "      <td>0</td>\n",
       "      <td>0</td>\n",
       "      <td>0</td>\n",
       "      <td>...</td>\n",
       "      <td>0</td>\n",
       "      <td>0</td>\n",
       "      <td>0</td>\n",
       "      <td>0</td>\n",
       "      <td>0</td>\n",
       "      <td>0</td>\n",
       "      <td>1</td>\n",
       "      <td>0</td>\n",
       "      <td>1</td>\n",
       "      <td>0</td>\n",
       "    </tr>\n",
       "    <tr>\n",
       "      <th>3</th>\n",
       "      <td>2019</td>\n",
       "      <td>17500</td>\n",
       "      <td>10460</td>\n",
       "      <td>145</td>\n",
       "      <td>40.3</td>\n",
       "      <td>1.5</td>\n",
       "      <td>0</td>\n",
       "      <td>0</td>\n",
       "      <td>0</td>\n",
       "      <td>0</td>\n",
       "      <td>...</td>\n",
       "      <td>0</td>\n",
       "      <td>0</td>\n",
       "      <td>0</td>\n",
       "      <td>0</td>\n",
       "      <td>0</td>\n",
       "      <td>0</td>\n",
       "      <td>1</td>\n",
       "      <td>0</td>\n",
       "      <td>1</td>\n",
       "      <td>0</td>\n",
       "    </tr>\n",
       "    <tr>\n",
       "      <th>4</th>\n",
       "      <td>2019</td>\n",
       "      <td>16500</td>\n",
       "      <td>1482</td>\n",
       "      <td>145</td>\n",
       "      <td>48.7</td>\n",
       "      <td>1.0</td>\n",
       "      <td>0</td>\n",
       "      <td>0</td>\n",
       "      <td>0</td>\n",
       "      <td>0</td>\n",
       "      <td>...</td>\n",
       "      <td>0</td>\n",
       "      <td>0</td>\n",
       "      <td>0</td>\n",
       "      <td>0</td>\n",
       "      <td>0</td>\n",
       "      <td>0</td>\n",
       "      <td>1</td>\n",
       "      <td>1</td>\n",
       "      <td>0</td>\n",
       "      <td>0</td>\n",
       "    </tr>\n",
       "  </tbody>\n",
       "</table>\n",
       "<p>5 rows × 304 columns</p>\n",
       "</div>"
      ],
      "text/plain": [
       "   year  price  mileage  tax   mpg  engineSize  B-MAX Diesel 2012  \\\n",
       "0  2017  12000    15944  150  57.7         1.0                  0   \n",
       "1  2018  14000     9083  150  57.7         1.0                  0   \n",
       "2  2017  13000    12456  150  57.7         1.0                  0   \n",
       "3  2019  17500    10460  145  40.3         1.5                  0   \n",
       "4  2019  16500     1482  145  48.7         1.0                  0   \n",
       "\n",
       "   B-MAX Diesel 2013  B-MAX Diesel 2014  B-MAX Diesel 2015  ...  \\\n",
       "0                  0                  0                  0  ...   \n",
       "1                  0                  0                  0  ...   \n",
       "2                  0                  0                  0  ...   \n",
       "3                  0                  0                  0  ...   \n",
       "4                  0                  0                  0  ...   \n",
       "\n",
       "   Tourneo Custom Diesel 2018  Tourneo Custom Diesel 2019  Diesel  Electric  \\\n",
       "0                           0                           0       0         0   \n",
       "1                           0                           0       0         0   \n",
       "2                           0                           0       0         0   \n",
       "3                           0                           0       0         0   \n",
       "4                           0                           0       0         0   \n",
       "\n",
       "   Hybrid  Other  Petrol  Automatic  Manual  Semi-Auto  \n",
       "0       0      0       1          1       0          0  \n",
       "1       0      0       1          0       1          0  \n",
       "2       0      0       1          0       1          0  \n",
       "3       0      0       1          0       1          0  \n",
       "4       0      0       1          1       0          0  \n",
       "\n",
       "[5 rows x 304 columns]"
      ]
     },
     "execution_count": 44,
     "metadata": {},
     "output_type": "execute_result"
    }
   ],
   "source": [
    "# Нет, давайте лучше будет dummy encoding\n",
    "\n",
    "auto_data_dummy = pd.concat([auto_data.drop(['model', 'fuelType', 'transmission'], axis=1), \n",
    "                             pd.get_dummies(new_column),\n",
    "                             pd.get_dummies(auto_data['fuelType']), \n",
    "                             pd.get_dummies(auto_data['transmission'])], axis = 1)\n",
    "auto_data_with_labels = auto_data_dummy\n",
    "auto_data_with_labels.head()"
   ]
  },
  {
   "cell_type": "code",
   "execution_count": 45,
   "metadata": {},
   "outputs": [
    {
     "data": {
      "text/html": [
       "<div>\n",
       "<style scoped>\n",
       "    .dataframe tbody tr th:only-of-type {\n",
       "        vertical-align: middle;\n",
       "    }\n",
       "\n",
       "    .dataframe tbody tr th {\n",
       "        vertical-align: top;\n",
       "    }\n",
       "\n",
       "    .dataframe thead th {\n",
       "        text-align: right;\n",
       "    }\n",
       "</style>\n",
       "<table border=\"1\" class=\"dataframe\">\n",
       "  <thead>\n",
       "    <tr style=\"text-align: right;\">\n",
       "      <th></th>\n",
       "      <th>year</th>\n",
       "      <th>mileage</th>\n",
       "      <th>tax</th>\n",
       "      <th>mpg</th>\n",
       "      <th>engineSize</th>\n",
       "      <th>B-MAX Diesel 2012</th>\n",
       "      <th>B-MAX Diesel 2013</th>\n",
       "      <th>B-MAX Diesel 2014</th>\n",
       "      <th>B-MAX Diesel 2015</th>\n",
       "      <th>B-MAX Diesel 2016</th>\n",
       "      <th>...</th>\n",
       "      <th>Tourneo Custom Diesel 2018</th>\n",
       "      <th>Tourneo Custom Diesel 2019</th>\n",
       "      <th>Diesel</th>\n",
       "      <th>Electric</th>\n",
       "      <th>Hybrid</th>\n",
       "      <th>Other</th>\n",
       "      <th>Petrol</th>\n",
       "      <th>Automatic</th>\n",
       "      <th>Manual</th>\n",
       "      <th>Semi-Auto</th>\n",
       "    </tr>\n",
       "  </thead>\n",
       "  <tbody>\n",
       "    <tr>\n",
       "      <th>0</th>\n",
       "      <td>2017</td>\n",
       "      <td>15944</td>\n",
       "      <td>150</td>\n",
       "      <td>57.7</td>\n",
       "      <td>1.0</td>\n",
       "      <td>0</td>\n",
       "      <td>0</td>\n",
       "      <td>0</td>\n",
       "      <td>0</td>\n",
       "      <td>0</td>\n",
       "      <td>...</td>\n",
       "      <td>0</td>\n",
       "      <td>0</td>\n",
       "      <td>0</td>\n",
       "      <td>0</td>\n",
       "      <td>0</td>\n",
       "      <td>0</td>\n",
       "      <td>1</td>\n",
       "      <td>1</td>\n",
       "      <td>0</td>\n",
       "      <td>0</td>\n",
       "    </tr>\n",
       "    <tr>\n",
       "      <th>1</th>\n",
       "      <td>2018</td>\n",
       "      <td>9083</td>\n",
       "      <td>150</td>\n",
       "      <td>57.7</td>\n",
       "      <td>1.0</td>\n",
       "      <td>0</td>\n",
       "      <td>0</td>\n",
       "      <td>0</td>\n",
       "      <td>0</td>\n",
       "      <td>0</td>\n",
       "      <td>...</td>\n",
       "      <td>0</td>\n",
       "      <td>0</td>\n",
       "      <td>0</td>\n",
       "      <td>0</td>\n",
       "      <td>0</td>\n",
       "      <td>0</td>\n",
       "      <td>1</td>\n",
       "      <td>0</td>\n",
       "      <td>1</td>\n",
       "      <td>0</td>\n",
       "    </tr>\n",
       "    <tr>\n",
       "      <th>2</th>\n",
       "      <td>2017</td>\n",
       "      <td>12456</td>\n",
       "      <td>150</td>\n",
       "      <td>57.7</td>\n",
       "      <td>1.0</td>\n",
       "      <td>0</td>\n",
       "      <td>0</td>\n",
       "      <td>0</td>\n",
       "      <td>0</td>\n",
       "      <td>0</td>\n",
       "      <td>...</td>\n",
       "      <td>0</td>\n",
       "      <td>0</td>\n",
       "      <td>0</td>\n",
       "      <td>0</td>\n",
       "      <td>0</td>\n",
       "      <td>0</td>\n",
       "      <td>1</td>\n",
       "      <td>0</td>\n",
       "      <td>1</td>\n",
       "      <td>0</td>\n",
       "    </tr>\n",
       "    <tr>\n",
       "      <th>3</th>\n",
       "      <td>2019</td>\n",
       "      <td>10460</td>\n",
       "      <td>145</td>\n",
       "      <td>40.3</td>\n",
       "      <td>1.5</td>\n",
       "      <td>0</td>\n",
       "      <td>0</td>\n",
       "      <td>0</td>\n",
       "      <td>0</td>\n",
       "      <td>0</td>\n",
       "      <td>...</td>\n",
       "      <td>0</td>\n",
       "      <td>0</td>\n",
       "      <td>0</td>\n",
       "      <td>0</td>\n",
       "      <td>0</td>\n",
       "      <td>0</td>\n",
       "      <td>1</td>\n",
       "      <td>0</td>\n",
       "      <td>1</td>\n",
       "      <td>0</td>\n",
       "    </tr>\n",
       "    <tr>\n",
       "      <th>4</th>\n",
       "      <td>2019</td>\n",
       "      <td>1482</td>\n",
       "      <td>145</td>\n",
       "      <td>48.7</td>\n",
       "      <td>1.0</td>\n",
       "      <td>0</td>\n",
       "      <td>0</td>\n",
       "      <td>0</td>\n",
       "      <td>0</td>\n",
       "      <td>0</td>\n",
       "      <td>...</td>\n",
       "      <td>0</td>\n",
       "      <td>0</td>\n",
       "      <td>0</td>\n",
       "      <td>0</td>\n",
       "      <td>0</td>\n",
       "      <td>0</td>\n",
       "      <td>1</td>\n",
       "      <td>1</td>\n",
       "      <td>0</td>\n",
       "      <td>0</td>\n",
       "    </tr>\n",
       "    <tr>\n",
       "      <th>...</th>\n",
       "      <td>...</td>\n",
       "      <td>...</td>\n",
       "      <td>...</td>\n",
       "      <td>...</td>\n",
       "      <td>...</td>\n",
       "      <td>...</td>\n",
       "      <td>...</td>\n",
       "      <td>...</td>\n",
       "      <td>...</td>\n",
       "      <td>...</td>\n",
       "      <td>...</td>\n",
       "      <td>...</td>\n",
       "      <td>...</td>\n",
       "      <td>...</td>\n",
       "      <td>...</td>\n",
       "      <td>...</td>\n",
       "      <td>...</td>\n",
       "      <td>...</td>\n",
       "      <td>...</td>\n",
       "      <td>...</td>\n",
       "      <td>...</td>\n",
       "    </tr>\n",
       "    <tr>\n",
       "      <th>17960</th>\n",
       "      <td>2016</td>\n",
       "      <td>31348</td>\n",
       "      <td>125</td>\n",
       "      <td>54.3</td>\n",
       "      <td>1.2</td>\n",
       "      <td>0</td>\n",
       "      <td>0</td>\n",
       "      <td>0</td>\n",
       "      <td>0</td>\n",
       "      <td>0</td>\n",
       "      <td>...</td>\n",
       "      <td>0</td>\n",
       "      <td>0</td>\n",
       "      <td>0</td>\n",
       "      <td>0</td>\n",
       "      <td>0</td>\n",
       "      <td>0</td>\n",
       "      <td>1</td>\n",
       "      <td>0</td>\n",
       "      <td>1</td>\n",
       "      <td>0</td>\n",
       "    </tr>\n",
       "    <tr>\n",
       "      <th>17961</th>\n",
       "      <td>2017</td>\n",
       "      <td>16700</td>\n",
       "      <td>150</td>\n",
       "      <td>47.1</td>\n",
       "      <td>1.4</td>\n",
       "      <td>0</td>\n",
       "      <td>0</td>\n",
       "      <td>0</td>\n",
       "      <td>0</td>\n",
       "      <td>0</td>\n",
       "      <td>...</td>\n",
       "      <td>0</td>\n",
       "      <td>0</td>\n",
       "      <td>0</td>\n",
       "      <td>0</td>\n",
       "      <td>0</td>\n",
       "      <td>0</td>\n",
       "      <td>1</td>\n",
       "      <td>0</td>\n",
       "      <td>1</td>\n",
       "      <td>0</td>\n",
       "    </tr>\n",
       "    <tr>\n",
       "      <th>17962</th>\n",
       "      <td>2014</td>\n",
       "      <td>40700</td>\n",
       "      <td>30</td>\n",
       "      <td>57.7</td>\n",
       "      <td>1.0</td>\n",
       "      <td>0</td>\n",
       "      <td>0</td>\n",
       "      <td>0</td>\n",
       "      <td>0</td>\n",
       "      <td>0</td>\n",
       "      <td>...</td>\n",
       "      <td>0</td>\n",
       "      <td>0</td>\n",
       "      <td>0</td>\n",
       "      <td>0</td>\n",
       "      <td>0</td>\n",
       "      <td>0</td>\n",
       "      <td>1</td>\n",
       "      <td>0</td>\n",
       "      <td>1</td>\n",
       "      <td>0</td>\n",
       "    </tr>\n",
       "    <tr>\n",
       "      <th>17963</th>\n",
       "      <td>2015</td>\n",
       "      <td>7010</td>\n",
       "      <td>20</td>\n",
       "      <td>67.3</td>\n",
       "      <td>1.6</td>\n",
       "      <td>0</td>\n",
       "      <td>0</td>\n",
       "      <td>0</td>\n",
       "      <td>0</td>\n",
       "      <td>0</td>\n",
       "      <td>...</td>\n",
       "      <td>0</td>\n",
       "      <td>0</td>\n",
       "      <td>1</td>\n",
       "      <td>0</td>\n",
       "      <td>0</td>\n",
       "      <td>0</td>\n",
       "      <td>0</td>\n",
       "      <td>0</td>\n",
       "      <td>1</td>\n",
       "      <td>0</td>\n",
       "    </tr>\n",
       "    <tr>\n",
       "      <th>17964</th>\n",
       "      <td>2018</td>\n",
       "      <td>5007</td>\n",
       "      <td>145</td>\n",
       "      <td>57.7</td>\n",
       "      <td>1.2</td>\n",
       "      <td>0</td>\n",
       "      <td>0</td>\n",
       "      <td>0</td>\n",
       "      <td>0</td>\n",
       "      <td>0</td>\n",
       "      <td>...</td>\n",
       "      <td>0</td>\n",
       "      <td>0</td>\n",
       "      <td>0</td>\n",
       "      <td>0</td>\n",
       "      <td>0</td>\n",
       "      <td>0</td>\n",
       "      <td>1</td>\n",
       "      <td>0</td>\n",
       "      <td>1</td>\n",
       "      <td>0</td>\n",
       "    </tr>\n",
       "  </tbody>\n",
       "</table>\n",
       "<p>17905 rows × 303 columns</p>\n",
       "</div>"
      ],
      "text/plain": [
       "       year  mileage  tax   mpg  engineSize  B-MAX Diesel 2012  \\\n",
       "0      2017    15944  150  57.7         1.0                  0   \n",
       "1      2018     9083  150  57.7         1.0                  0   \n",
       "2      2017    12456  150  57.7         1.0                  0   \n",
       "3      2019    10460  145  40.3         1.5                  0   \n",
       "4      2019     1482  145  48.7         1.0                  0   \n",
       "...     ...      ...  ...   ...         ...                ...   \n",
       "17960  2016    31348  125  54.3         1.2                  0   \n",
       "17961  2017    16700  150  47.1         1.4                  0   \n",
       "17962  2014    40700   30  57.7         1.0                  0   \n",
       "17963  2015     7010   20  67.3         1.6                  0   \n",
       "17964  2018     5007  145  57.7         1.2                  0   \n",
       "\n",
       "       B-MAX Diesel 2013  B-MAX Diesel 2014  B-MAX Diesel 2015  \\\n",
       "0                      0                  0                  0   \n",
       "1                      0                  0                  0   \n",
       "2                      0                  0                  0   \n",
       "3                      0                  0                  0   \n",
       "4                      0                  0                  0   \n",
       "...                  ...                ...                ...   \n",
       "17960                  0                  0                  0   \n",
       "17961                  0                  0                  0   \n",
       "17962                  0                  0                  0   \n",
       "17963                  0                  0                  0   \n",
       "17964                  0                  0                  0   \n",
       "\n",
       "       B-MAX Diesel 2016  ...  Tourneo Custom Diesel 2018  \\\n",
       "0                      0  ...                           0   \n",
       "1                      0  ...                           0   \n",
       "2                      0  ...                           0   \n",
       "3                      0  ...                           0   \n",
       "4                      0  ...                           0   \n",
       "...                  ...  ...                         ...   \n",
       "17960                  0  ...                           0   \n",
       "17961                  0  ...                           0   \n",
       "17962                  0  ...                           0   \n",
       "17963                  0  ...                           0   \n",
       "17964                  0  ...                           0   \n",
       "\n",
       "       Tourneo Custom Diesel 2019  Diesel  Electric  Hybrid  Other  Petrol  \\\n",
       "0                               0       0         0       0      0       1   \n",
       "1                               0       0         0       0      0       1   \n",
       "2                               0       0         0       0      0       1   \n",
       "3                               0       0         0       0      0       1   \n",
       "4                               0       0         0       0      0       1   \n",
       "...                           ...     ...       ...     ...    ...     ...   \n",
       "17960                           0       0         0       0      0       1   \n",
       "17961                           0       0         0       0      0       1   \n",
       "17962                           0       0         0       0      0       1   \n",
       "17963                           0       1         0       0      0       0   \n",
       "17964                           0       0         0       0      0       1   \n",
       "\n",
       "       Automatic  Manual  Semi-Auto  \n",
       "0              1       0          0  \n",
       "1              0       1          0  \n",
       "2              0       1          0  \n",
       "3              0       1          0  \n",
       "4              1       0          0  \n",
       "...          ...     ...        ...  \n",
       "17960          0       1          0  \n",
       "17961          0       1          0  \n",
       "17962          0       1          0  \n",
       "17963          0       1          0  \n",
       "17964          0       1          0  \n",
       "\n",
       "[17905 rows x 303 columns]"
      ]
     },
     "execution_count": 45,
     "metadata": {},
     "output_type": "execute_result"
    }
   ],
   "source": [
    "auto_data_with_labels_without_price = auto_data_with_labels.drop(['price'], axis=1)\n",
    "auto_data_with_labels_without_price"
   ]
  },
  {
   "cell_type": "code",
   "execution_count": 46,
   "metadata": {},
   "outputs": [],
   "source": [
    "X, Y = auto_data_with_labels_without_price, auto_data_with_labels['price']"
   ]
  },
  {
   "cell_type": "code",
   "execution_count": 47,
   "metadata": {},
   "outputs": [],
   "source": [
    "X_train, X_test, Y_train, Y_test = train_test_split(X, Y, test_size=0.3, random_state=10)"
   ]
  },
  {
   "cell_type": "code",
   "execution_count": 48,
   "metadata": {},
   "outputs": [
    {
     "data": {
      "text/plain": [
       "array([[ 0.566, -0.546,  0.51 , ..., -0.285,  0.394, -0.251],\n",
       "       [ 0.071,  0.113,  0.187, ..., -0.285,  0.394, -0.251],\n",
       "       [-0.424, -0.363,  0.51 , ..., -0.285,  0.394, -0.251],\n",
       "       ...,\n",
       "       [ 0.071,  0.062,  0.59 , ..., -0.285,  0.394, -0.251],\n",
       "       [ 0.071, -0.674, -1.827, ..., -0.285,  0.394, -0.251],\n",
       "       [-3.396,  1.598,  1.315, ...,  3.508, -2.536, -0.251]])"
      ]
     },
     "execution_count": 48,
     "metadata": {},
     "output_type": "execute_result"
    }
   ],
   "source": [
    "std_scaler = StandardScaler()\n",
    "\n",
    "X_train_scaled = std_scaler.fit_transform(X_train)\n",
    "X_test_scaled = std_scaler.transform(X_test)\n",
    "\n",
    "X_train_scaled"
   ]
  },
  {
   "cell_type": "markdown",
   "metadata": {},
   "source": [
    "### LinearRegression()"
   ]
  },
  {
   "cell_type": "code",
   "execution_count": 49,
   "metadata": {},
   "outputs": [
    {
     "name": "stdout",
     "output_type": "stream",
     "text": [
      "MSE = 2.1707997318585542e+29\n"
     ]
    }
   ],
   "source": [
    "simple_LR = LinearRegression()\n",
    "\n",
    "simple_LR.fit(X_train_scaled, Y_train)\n",
    "simple_LR_predictions = simple_LR.predict(X_test_scaled)\n",
    "\n",
    "simple_LR_MSE = metrics.mean_squared_error(Y_test, simple_LR_predictions)\n",
    "\n",
    "print (f'MSE = {round(simple_LR_MSE,3)}')"
   ]
  },
  {
   "cell_type": "code",
   "execution_count": 50,
   "metadata": {},
   "outputs": [
    {
     "name": "stdout",
     "output_type": "stream",
     "text": [
      "RMSE = 465918419024034.1\n"
     ]
    }
   ],
   "source": [
    "simple_LR_RMSE = metrics.mean_squared_error(Y_test, simple_LR_predictions, squared = False)\n",
    "\n",
    "print (f'RMSE = {round(simple_LR_RMSE,3)}')"
   ]
  },
  {
   "cell_type": "code",
   "execution_count": 51,
   "metadata": {},
   "outputs": [
    {
     "name": "stdout",
     "output_type": "stream",
     "text": [
      "Test std: 4724.902\n"
     ]
    }
   ],
   "source": [
    "print (f'Test std: {round(Y_test.std(),3)}')"
   ]
  },
  {
   "cell_type": "code",
   "execution_count": 52,
   "metadata": {},
   "outputs": [],
   "source": [
    "# plt.figure(figsize=(8, 8))\n",
    "# plt.scatter(simple_LR_predictions, Y_test)\n",
    "# plt.xlabel('Predictions')\n",
    "# plt.ylabel('Target')"
   ]
  },
  {
   "cell_type": "code",
   "execution_count": 53,
   "metadata": {},
   "outputs": [],
   "source": [
    "# simple_LR.intercept_, simple_LR.coef_"
   ]
  },
  {
   "cell_type": "code",
   "execution_count": 54,
   "metadata": {},
   "outputs": [],
   "source": [
    "# pd.DataFrame(simple_LR.coef_,  auto_data_with_labels_without_price.columns, columns=['Coefficients'])"
   ]
  },
  {
   "cell_type": "markdown",
   "metadata": {},
   "source": [
    "### Lasso()"
   ]
  },
  {
   "cell_type": "code",
   "execution_count": 55,
   "metadata": {},
   "outputs": [
    {
     "name": "stdout",
     "output_type": "stream",
     "text": [
      "RMSE = 1520.852\n"
     ]
    }
   ],
   "source": [
    "model = Lasso()\n",
    "\n",
    "model.fit(X_train_scaled, Y_train)\n",
    "predictions = model.predict(X_test_scaled)\n",
    "\n",
    "print (f'RMSE = {round(metrics.mean_squared_error(Y_test, predictions, squared=False), 3)}')\n",
    "\n",
    "# pd.DataFrame(simple_LR.coef_,  auto_data_with_labels_without_price.columns, columns=['Coefficients'])"
   ]
  },
  {
   "cell_type": "code",
   "execution_count": 56,
   "metadata": {},
   "outputs": [
    {
     "data": {
      "text/plain": [
       "Text(0, 0.5, 'Target')"
      ]
     },
     "execution_count": 56,
     "metadata": {},
     "output_type": "execute_result"
    },
    {
     "data": {
      "image/png": "[encoded data removed]",
      "text/plain": [
       "<Figure size 576x576 with 1 Axes>"
      ]
     },
     "metadata": {
      "needs_background": "light"
     },
     "output_type": "display_data"
    }
   ],
   "source": [
    "plt.figure(figsize=(8, 8))\n",
    "plt.scatter(predictions, Y_test)\n",
    "plt.xlabel('Predictions')\n",
    "plt.ylabel('Target')"
   ]
  },
  {
   "cell_type": "markdown",
   "metadata": {},
   "source": [
    "### LassoCV()"
   ]
  },
  {
   "cell_type": "code",
   "execution_count": 57,
   "metadata": {},
   "outputs": [
    {
     "name": "stdout",
     "output_type": "stream",
     "text": [
      "RMSE = 1519.402\n"
     ]
    }
   ],
   "source": [
    "model = LassoCV()\n",
    "\n",
    "model.fit(X_train_scaled, Y_train)\n",
    "predictions = model.predict(X_test_scaled)\n",
    "\n",
    "print (f'RMSE = {round(metrics.mean_squared_error(Y_test, predictions, squared=False), 3)}')\n",
    "\n",
    "# pd.DataFrame(simple_LR.coef_,  auto_data_with_labels_without_price.columns, columns=['Coefficients'])"
   ]
  },
  {
   "cell_type": "markdown",
   "metadata": {},
   "source": [
    "### LassoCV() with alphas"
   ]
  },
  {
   "cell_type": "code",
   "execution_count": 58,
   "metadata": {},
   "outputs": [
    {
     "data": {
      "text/plain": [
       "array([ 1.   ,  1.474,  1.947,  2.421,  2.895,  3.368,  3.842,  4.316,\n",
       "        4.789,  5.263,  5.737,  6.211,  6.684,  7.158,  7.632,  8.105,\n",
       "        8.579,  9.053,  9.526, 10.   ])"
      ]
     },
     "execution_count": 58,
     "metadata": {},
     "output_type": "execute_result"
    }
   ],
   "source": [
    "alphas = np.linspace(1, 10, 20)\n",
    "alphas"
   ]
  },
  {
   "cell_type": "code",
   "execution_count": 59,
   "metadata": {},
   "outputs": [
    {
     "name": "stdout",
     "output_type": "stream",
     "text": [
      "RMSE = 1519.542\n"
     ]
    }
   ],
   "source": [
    "model = LassoCV(random_state = 10, alphas=alphas)\n",
    "\n",
    "model.fit(X_train_scaled, Y_train)\n",
    "predictions = model.predict(X_test_scaled)\n",
    "\n",
    "print (f'RMSE = {round(metrics.mean_squared_error(Y_test, predictions, squared=False), 3)}')\n",
    "\n",
    "# pd.DataFrame(simple_LR.coef_,  auto_data_with_labels_without_price.columns, columns=['Coefficients'])"
   ]
  },
  {
   "cell_type": "markdown",
   "metadata": {},
   "source": [
    "### Ridge()"
   ]
  },
  {
   "cell_type": "code",
   "execution_count": 60,
   "metadata": {},
   "outputs": [
    {
     "name": "stdout",
     "output_type": "stream",
     "text": [
      "RMSE = 1503.755\n"
     ]
    }
   ],
   "source": [
    "model = Ridge()\n",
    "\n",
    "model.fit(X_train_scaled, Y_train)\n",
    "predictions = model.predict(X_test_scaled)\n",
    "\n",
    "print (f'RMSE = {round(metrics.mean_squared_error(Y_test, predictions, squared=False), 3)}')\n",
    "\n",
    "# pd.DataFrame(simple_LR.coef_,  auto_data_with_labels_without_price.columns, columns=['Coefficients'])"
   ]
  },
  {
   "cell_type": "markdown",
   "metadata": {},
   "source": [
    "### RidgeCV()"
   ]
  },
  {
   "cell_type": "code",
   "execution_count": 61,
   "metadata": {},
   "outputs": [
    {
     "name": "stdout",
     "output_type": "stream",
     "text": [
      "RMSE = 1503.589\n"
     ]
    }
   ],
   "source": [
    "model = RidgeCV()\n",
    "\n",
    "model.fit(X_train_scaled, Y_train)\n",
    "predictions = model.predict(X_test_scaled)\n",
    "\n",
    "print (f'RMSE = {round(metrics.mean_squared_error(Y_test, predictions, squared=False), 3)}')\n",
    "\n",
    "# pd.DataFrame(simple_LR.coef_,  auto_data_with_labels_without_price.columns, columns=['Coefficients'])"
   ]
  },
  {
   "cell_type": "markdown",
   "metadata": {},
   "source": [
    "### RandomForestRegressor"
   ]
  },
  {
   "cell_type": "code",
   "execution_count": 62,
   "metadata": {},
   "outputs": [
    {
     "name": "stdout",
     "output_type": "stream",
     "text": [
      "RMSE = 1234.757\n"
     ]
    }
   ],
   "source": [
    "from sklearn.ensemble import RandomForestRegressor\n",
    "\n",
    "model = RandomForestRegressor(random_state = 10, n_estimators = 100)\n",
    "\n",
    "model.fit(X_train, Y_train)\n",
    "predictions = model.predict(X_test)\n",
    "\n",
    "print (f'RMSE = {round(metrics.mean_squared_error(Y_test, predictions, squared=False), 3)}')\n",
    "\n",
    "# pd.DataFrame(model.feature_importances_, auto_data_with_labels_without_price.columns, \n",
    "#             columns=['Importance']).sort_values('Importance')"
   ]
  },
  {
   "cell_type": "code",
   "execution_count": 63,
   "metadata": {},
   "outputs": [
    {
     "data": {
      "text/plain": [
       "Text(0, 0.5, 'Target')"
      ]
     },
     "execution_count": 63,
     "metadata": {},
     "output_type": "execute_result"
    },
    {
     "data": {
      "image/png": "[encoded data removed]",
      "text/plain": [
       "<Figure size 576x576 with 1 Axes>"
      ]
     },
     "metadata": {
      "needs_background": "light"
     },
     "output_type": "display_data"
    }
   ],
   "source": [
    "plt.figure(figsize=(8, 8))\n",
    "plt.scatter(predictions, Y_test)\n",
    "plt.xlabel('Predictions')\n",
    "plt.ylabel('Target')"
   ]
  },
  {
   "cell_type": "code",
   "execution_count": null,
   "metadata": {},
   "outputs": [],
   "source": []
  },
  {
   "cell_type": "markdown",
   "metadata": {},
   "source": [
    "### модель+тип\n",
    "| алгоритм | без обработки | с обработкой |\n",
    "|-|-|-| \n",
    "| Lasso | 1755.156 | 1520.852 |\n",
    "| RidgeCV | 1755.3 | 1503.589 |\n",
    "| RandomForestRegressor | 1262.51 | 1234.757 |\n",
    "\n",
    "\n",
    "### модель+тип+год\n",
    "| алгоритм | без обработки | с обработкой |\n",
    "|-|-|-| \n",
    "| Lasso | 1454.58 | 1520.852 |\n",
    "| RidgeCV | 1457.298 | 1503.589 |\n",
    "| RandomForestRegressor | 1263.481 | 1234.757 |\n",
    "\n"
   ]
  },
  {
   "cell_type": "code",
   "execution_count": null,
   "metadata": {},
   "outputs": [],
   "source": []
  },
  {
   "cell_type": "code",
   "execution_count": null,
   "metadata": {},
   "outputs": [],
   "source": []
  },
  {
   "cell_type": "code",
   "execution_count": null,
   "metadata": {},
   "outputs": [],
   "source": []
  },
  {
   "cell_type": "code",
   "execution_count": null,
   "metadata": {},
   "outputs": [],
   "source": []
  },
  {
   "cell_type": "code",
   "execution_count": null,
   "metadata": {},
   "outputs": [],
   "source": []
  }
 ],
 "metadata": {
  "kernelspec": {
   "display_name": "Python 3",
   "language": "python",
   "name": "python3"
  },
  "language_info": {
   "codemirror_mode": {
    "name": "ipython",
    "version": 3
   },
   "file_extension": ".py",
   "mimetype": "text/x-python",
   "name": "python",
   "nbconvert_exporter": "python",
   "pygments_lexer": "ipython3",
   "version": "3.7.9"
  }
 },
 "nbformat": 4,
 "nbformat_minor": 4
}
