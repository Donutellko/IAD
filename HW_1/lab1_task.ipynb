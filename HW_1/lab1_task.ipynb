{
 "cells": [
  {
   "cell_type": "markdown",
   "metadata": {},
   "source": [
    "# Лабараторная №1. Основый предобработки данных "
   ]
  },
  {
   "cell_type": "markdown",
   "metadata": {},
   "source": [
    "Используйте файл своей группы. <br>\n",
    "Загрузите его в DataFrame и ответьте на вопросы, используя инстурменты из файла preprocessing.ipynb.\n",
    "\n",
    "\n",
    "#### Воспросы\n",
    "1. В какой шкале представлены все признаки в наборе?<br>\n",
    "2. Укажите признак с наименьшей дисперсией.<br>\n",
    "3. Среднее какого признака отличается для двух классов сильнее всего?<br>\n",
    "4. В каком классе больше всего skilled работников?<br>\n",
    "5. Есть ли в наборе признаки с выбросами? Какие?<br>\n",
    "6. Сколько пропущенных значений в наборе?<br>\n",
    "7. Попытайтесь заполнить пропущенные значения.<br>\n",
    "8. Как минимум для одного признака каждого типа постройте диаграмму, которая может помочь его исследовать.<br>\n",
    "9. Проанализируйте взаимосвязи признаков с помощью scatter-plot матрицы и тепловой карты корреляций. Какие выводы можно сделать?<br>\n",
    "10. Какой признак(и) имеет смысл стандартизировать? Почему?<br>\n",
    "11. Придумайте 1 новый признак, попытайтесь объяснить, почему он информативный.<br>"
   ]
  },
  {
   "cell_type": "code",
   "execution_count": 1,
   "metadata": {},
   "outputs": [],
   "source": [
    "import numpy as np\n",
    "import pandas as pd\n",
    "\n",
    "import matplotlib.pyplot as plt\n",
    "\n",
    "import seaborn as sns\n",
    "\n",
    "from sklearn import datasets\n",
    "from sklearn.preprocessing import MinMaxScaler\n",
    "from sklearn.preprocessing import StandardScaler\n",
    "\n",
    "np.set_printoptions(precision=3)\n",
    "pd.set_option('precision', 3)\n",
    "\n",
    "sns.set()"
   ]
  },
  {
   "cell_type": "code",
   "execution_count": 2,
   "metadata": {},
   "outputs": [],
   "source": [
    "path='data/credit_3530903_70301.csv'\n",
    "credit_df = pd.read_csv(path, index_col=0)"
   ]
  },
  {
   "cell_type": "code",
   "execution_count": 3,
   "metadata": {},
   "outputs": [],
   "source": [
    "# credit_df[credit_df['credit_history'] == 'no credits/all paid']"
   ]
  },
  {
   "cell_type": "code",
   "execution_count": 4,
   "metadata": {},
   "outputs": [
    {
     "data": {
      "text/html": [
       "<div>\n",
       "<style scoped>\n",
       "    .dataframe tbody tr th:only-of-type {\n",
       "        vertical-align: middle;\n",
       "    }\n",
       "\n",
       "    .dataframe tbody tr th {\n",
       "        vertical-align: top;\n",
       "    }\n",
       "\n",
       "    .dataframe thead th {\n",
       "        text-align: right;\n",
       "    }\n",
       "</style>\n",
       "<table border=\"1\" class=\"dataframe\">\n",
       "  <thead>\n",
       "    <tr style=\"text-align: right;\">\n",
       "      <th></th>\n",
       "      <th>checking_status</th>\n",
       "      <th>duration</th>\n",
       "      <th>credit_history</th>\n",
       "      <th>credit_amount</th>\n",
       "      <th>employment</th>\n",
       "      <th>personal_status</th>\n",
       "      <th>residence_since</th>\n",
       "      <th>property_magnitude</th>\n",
       "      <th>age</th>\n",
       "      <th>housing</th>\n",
       "      <th>existing_credits</th>\n",
       "      <th>job</th>\n",
       "      <th>num_dependents</th>\n",
       "      <th>own_telephone</th>\n",
       "      <th>foreign_worker</th>\n",
       "      <th>class</th>\n",
       "    </tr>\n",
       "  </thead>\n",
       "  <tbody>\n",
       "    <tr>\n",
       "      <th>1</th>\n",
       "      <td>0&lt;=X&lt;200</td>\n",
       "      <td>18.0</td>\n",
       "      <td>existing paid</td>\n",
       "      <td>1301.0</td>\n",
       "      <td>&gt;=7</td>\n",
       "      <td>male mar/wid</td>\n",
       "      <td>2.0</td>\n",
       "      <td>real estate</td>\n",
       "      <td>32.0</td>\n",
       "      <td>own</td>\n",
       "      <td>1.0</td>\n",
       "      <td>unskilled resident</td>\n",
       "      <td>1.0</td>\n",
       "      <td>none</td>\n",
       "      <td>yes</td>\n",
       "      <td>good</td>\n",
       "    </tr>\n",
       "    <tr>\n",
       "      <th>2</th>\n",
       "      <td>&gt;=200</td>\n",
       "      <td>6.0</td>\n",
       "      <td>critical/other existing credit</td>\n",
       "      <td>1323.0</td>\n",
       "      <td>&gt;=7</td>\n",
       "      <td>male div/sep</td>\n",
       "      <td>4.0</td>\n",
       "      <td>car</td>\n",
       "      <td>28.0</td>\n",
       "      <td>own</td>\n",
       "      <td>2.0</td>\n",
       "      <td>skilled</td>\n",
       "      <td>2.0</td>\n",
       "      <td>yes</td>\n",
       "      <td>yes</td>\n",
       "      <td>good</td>\n",
       "    </tr>\n",
       "    <tr>\n",
       "      <th>3</th>\n",
       "      <td>&lt;0</td>\n",
       "      <td>24.0</td>\n",
       "      <td>existing paid</td>\n",
       "      <td>3123.0</td>\n",
       "      <td>&lt;1</td>\n",
       "      <td>female div/dep/mar</td>\n",
       "      <td>1.0</td>\n",
       "      <td>life insurance</td>\n",
       "      <td>27.0</td>\n",
       "      <td>own</td>\n",
       "      <td>1.0</td>\n",
       "      <td>skilled</td>\n",
       "      <td>1.0</td>\n",
       "      <td>none</td>\n",
       "      <td>yes</td>\n",
       "      <td>bad</td>\n",
       "    </tr>\n",
       "    <tr>\n",
       "      <th>4</th>\n",
       "      <td>&lt;0</td>\n",
       "      <td>36.0</td>\n",
       "      <td>existing paid</td>\n",
       "      <td>5493.0</td>\n",
       "      <td>&gt;=7</td>\n",
       "      <td>male single</td>\n",
       "      <td>4.0</td>\n",
       "      <td>no known property</td>\n",
       "      <td>42.0</td>\n",
       "      <td>for free</td>\n",
       "      <td>1.0</td>\n",
       "      <td>skilled</td>\n",
       "      <td>2.0</td>\n",
       "      <td>none</td>\n",
       "      <td>yes</td>\n",
       "      <td>good</td>\n",
       "    </tr>\n",
       "    <tr>\n",
       "      <th>5</th>\n",
       "      <td>&gt;=200</td>\n",
       "      <td>9.0</td>\n",
       "      <td>existing paid</td>\n",
       "      <td>1126.0</td>\n",
       "      <td>&gt;=7</td>\n",
       "      <td>male div/sep</td>\n",
       "      <td>4.0</td>\n",
       "      <td>real estate</td>\n",
       "      <td>49.0</td>\n",
       "      <td>own</td>\n",
       "      <td>1.0</td>\n",
       "      <td>skilled</td>\n",
       "      <td>1.0</td>\n",
       "      <td>none</td>\n",
       "      <td>yes</td>\n",
       "      <td>good</td>\n",
       "    </tr>\n",
       "  </tbody>\n",
       "</table>\n",
       "</div>"
      ],
      "text/plain": [
       "  checking_status  duration                  credit_history  credit_amount  \\\n",
       "1        0<=X<200      18.0                   existing paid         1301.0   \n",
       "2           >=200       6.0  critical/other existing credit         1323.0   \n",
       "3              <0      24.0                   existing paid         3123.0   \n",
       "4              <0      36.0                   existing paid         5493.0   \n",
       "5           >=200       9.0                   existing paid         1126.0   \n",
       "\n",
       "  employment     personal_status  residence_since property_magnitude   age  \\\n",
       "1        >=7        male mar/wid              2.0        real estate  32.0   \n",
       "2        >=7        male div/sep              4.0                car  28.0   \n",
       "3         <1  female div/dep/mar              1.0     life insurance  27.0   \n",
       "4        >=7         male single              4.0  no known property  42.0   \n",
       "5        >=7        male div/sep              4.0        real estate  49.0   \n",
       "\n",
       "    housing  existing_credits                 job  num_dependents  \\\n",
       "1       own               1.0  unskilled resident             1.0   \n",
       "2       own               2.0             skilled             2.0   \n",
       "3       own               1.0             skilled             1.0   \n",
       "4  for free               1.0             skilled             2.0   \n",
       "5       own               1.0             skilled             1.0   \n",
       "\n",
       "  own_telephone foreign_worker class  \n",
       "1          none            yes  good  \n",
       "2           yes            yes  good  \n",
       "3          none            yes   bad  \n",
       "4          none            yes  good  \n",
       "5          none            yes  good  "
      ]
     },
     "execution_count": 4,
     "metadata": {},
     "output_type": "execute_result"
    }
   ],
   "source": [
    "credit_df.head()"
   ]
  },
  {
   "cell_type": "code",
   "execution_count": 5,
   "metadata": {},
   "outputs": [],
   "source": [
    "def filter_good(df = credit_df):\n",
    "    return df[df['class'] == 'good']\n",
    "\n",
    "def filter_bad(df = credit_df):\n",
    "    return df[df['class'] == 'bad']"
   ]
  },
  {
   "cell_type": "code",
   "execution_count": 6,
   "metadata": {},
   "outputs": [],
   "source": [
    "def filter(col, value, df = credit_df):\n",
    "    return df[df[col] == value]\n",
    "\n",
    "def filter_not(col, value, df = credit_df):\n",
    "    return df[df[col] != value]"
   ]
  },
  {
   "cell_type": "code",
   "execution_count": 7,
   "metadata": {},
   "outputs": [
    {
     "data": {
      "text/html": [
       "<div>\n",
       "<style scoped>\n",
       "    .dataframe tbody tr th:only-of-type {\n",
       "        vertical-align: middle;\n",
       "    }\n",
       "\n",
       "    .dataframe tbody tr th {\n",
       "        vertical-align: top;\n",
       "    }\n",
       "\n",
       "    .dataframe thead th {\n",
       "        text-align: right;\n",
       "    }\n",
       "</style>\n",
       "<table border=\"1\" class=\"dataframe\">\n",
       "  <thead>\n",
       "    <tr style=\"text-align: right;\">\n",
       "      <th></th>\n",
       "      <th>duration</th>\n",
       "      <th>credit_amount</th>\n",
       "      <th>residence_since</th>\n",
       "      <th>age</th>\n",
       "      <th>existing_credits</th>\n",
       "      <th>num_dependents</th>\n",
       "    </tr>\n",
       "  </thead>\n",
       "  <tbody>\n",
       "    <tr>\n",
       "      <th>count</th>\n",
       "      <td>502.000</td>\n",
       "      <td>501.000</td>\n",
       "      <td>485.000</td>\n",
       "      <td>502.000</td>\n",
       "      <td>502.000</td>\n",
       "      <td>502.000</td>\n",
       "    </tr>\n",
       "    <tr>\n",
       "      <th>mean</th>\n",
       "      <td>21.460</td>\n",
       "      <td>3236.230</td>\n",
       "      <td>2.821</td>\n",
       "      <td>35.542</td>\n",
       "      <td>1.420</td>\n",
       "      <td>1.167</td>\n",
       "    </tr>\n",
       "    <tr>\n",
       "      <th>std</th>\n",
       "      <td>11.983</td>\n",
       "      <td>2843.499</td>\n",
       "      <td>1.151</td>\n",
       "      <td>11.274</td>\n",
       "      <td>0.586</td>\n",
       "      <td>0.374</td>\n",
       "    </tr>\n",
       "    <tr>\n",
       "      <th>min</th>\n",
       "      <td>4.000</td>\n",
       "      <td>0.000</td>\n",
       "      <td>0.000</td>\n",
       "      <td>19.000</td>\n",
       "      <td>1.000</td>\n",
       "      <td>1.000</td>\n",
       "    </tr>\n",
       "    <tr>\n",
       "      <th>25%</th>\n",
       "      <td>12.000</td>\n",
       "      <td>1358.000</td>\n",
       "      <td>2.000</td>\n",
       "      <td>27.000</td>\n",
       "      <td>1.000</td>\n",
       "      <td>1.000</td>\n",
       "    </tr>\n",
       "    <tr>\n",
       "      <th>50%</th>\n",
       "      <td>18.000</td>\n",
       "      <td>2325.000</td>\n",
       "      <td>3.000</td>\n",
       "      <td>33.000</td>\n",
       "      <td>1.000</td>\n",
       "      <td>1.000</td>\n",
       "    </tr>\n",
       "    <tr>\n",
       "      <th>75%</th>\n",
       "      <td>24.000</td>\n",
       "      <td>3959.000</td>\n",
       "      <td>4.000</td>\n",
       "      <td>42.000</td>\n",
       "      <td>2.000</td>\n",
       "      <td>1.000</td>\n",
       "    </tr>\n",
       "    <tr>\n",
       "      <th>max</th>\n",
       "      <td>72.000</td>\n",
       "      <td>18424.000</td>\n",
       "      <td>4.000</td>\n",
       "      <td>75.000</td>\n",
       "      <td>4.000</td>\n",
       "      <td>2.000</td>\n",
       "    </tr>\n",
       "  </tbody>\n",
       "</table>\n",
       "</div>"
      ],
      "text/plain": [
       "       duration  credit_amount  residence_since      age  existing_credits  \\\n",
       "count   502.000        501.000          485.000  502.000           502.000   \n",
       "mean     21.460       3236.230            2.821   35.542             1.420   \n",
       "std      11.983       2843.499            1.151   11.274             0.586   \n",
       "min       4.000          0.000            0.000   19.000             1.000   \n",
       "25%      12.000       1358.000            2.000   27.000             1.000   \n",
       "50%      18.000       2325.000            3.000   33.000             1.000   \n",
       "75%      24.000       3959.000            4.000   42.000             2.000   \n",
       "max      72.000      18424.000            4.000   75.000             4.000   \n",
       "\n",
       "       num_dependents  \n",
       "count         502.000  \n",
       "mean            1.167  \n",
       "std             0.374  \n",
       "min             1.000  \n",
       "25%             1.000  \n",
       "50%             1.000  \n",
       "75%             1.000  \n",
       "max             2.000  "
      ]
     },
     "execution_count": 7,
     "metadata": {},
     "output_type": "execute_result"
    }
   ],
   "source": [
    "credit_df.describe()"
   ]
  },
  {
   "cell_type": "code",
   "execution_count": 8,
   "metadata": {},
   "outputs": [
    {
     "name": "stdout",
     "output_type": "stream",
     "text": [
      "checking_status :\n",
      " ['0<=X<200' '>=200' '<0' 'no checking'] \n",
      "\n",
      "duration :\n",
      " [18.  6. 24. 36.  9. 10. 15. 39. 12. 48. 26.  4. 21. 30.  7. 60. 42. 14.\n",
      " 72. 27. 20.  8. 13. 22. 40. 45. 11. 28. 16.] \n",
      "\n",
      "credit_history :\n",
      " ['existing paid' 'critical/other existing credit' 'all paid' 'unknown'\n",
      " 'no credits/all paid'] \n",
      "\n",
      "credit_amount :\n",
      " [ 1301.  1323.  3123.  5493.  1126.  1216.  1207.  1309.  2360.  6850.\n",
      "  1413.  8588.   759.  4686.  2687.   585.  2255.   609.  1361.  7127.\n",
      "  1203.   700.  5507.  3190.  7119.  3488.  1113.  7966.  1532.  1503.\n",
      "  2302.   662.  2273.  2631.  1311.  3105.  2319.  1374.  3612.  7763.\n",
      "  3049.  1534.  2032.     0.  2864.  1255.  1333.  2022.  1552.   626.\n",
      "  8858.   996.  1750.  6999.  1995.  1199.  1331.  2278.  5003.  3552.\n",
      "  1928.  2964.  1546.   683. 12389.  4712.  1553.  1372.  2578.  3979.\n",
      "  3234.  5954.  5433.   806.  1082.  2788.  2930.  1927.  2820.   937.\n",
      "  1056.  3124.  1388.  2384.  2039.  2799.  1289.  1217.  2246.   385.\n",
      "  1965.  1572.  2718.  1358.   931.  1442.  4241.  2775.  3863.  2329.\n",
      "   918.  1837.  3349.  1275.  2828.  4526.  2671.  2051.  1300.   741.\n",
      "  1240.  3357.  3632.  1808. 12204.  9157.  3676.  3441.   640.  3652.\n",
      "  1530.  3914.  1858.  2600.  1979.  2116.  1437.  4042.  3832.  3660.\n",
      "  1444.  1980.  1393.  1376. 15653.  1493.  4370.   750.  1308.  4623.\n",
      "  1851.  1880.  7980.  4583.  1386.   947.   684.  7476.  1922.  2303.\n",
      "  8086.  2346.  3973.   888. 10222.  4221.  6361.  1297.   900.  2241.\n",
      "  1050.  1047.  6314.  3496.  3609.  4843.  3017.  4139.  5742. 10366.\n",
      "  2080.  2580.  4530.  5150.  5595.  1453.  1538.  2279.  1478.  9857.\n",
      "  6527.  1347.  2862.  2753.  3651.   975.  2896.  4716.  2284.  1236.\n",
      "  1103.   926.  1800.  1905.  1123.  6331.  1377.  2503.  2528.  5324.\n",
      "  6560.  2969.  1206.  2118.   629.  1198.  2476.  1138. 14027.  7596.\n",
      "  3077.  1505.  3148.  6148.  1337.   433.  1228.   790.  2570.   250.\n",
      "  1316.  6416.  6403.  1987.   760.  2603.  3380.  3990. 11560.  4380.\n",
      "  6761.  4280.  2325.  1048.  3160.  2483. 14179.  1797.  2511.  1274.\n",
      "  5248.  3029.   428.   976.   841.  5771.  1555.  1285.  1299.  1271.\n",
      "   691.  5045.  2124.  2214. 12680.  2463.  1155.  3108.  2901.  3617.\n",
      "  1655.  2812.  8065.  3275.  2223.  1480.  1371.  3535.  5711.  3872.\n",
      "  4933.  1940.  1410.   836.  6468.  1941.  2675.  2751.  6224.  5998.\n",
      "  1188.  6313.  1221.  2892.  3062.  2301.  7511.  1258.   717.  1549.\n",
      "  1597.  1795.  4272.  7472.  9271.   590.   930.  9283.  1778.   907.\n",
      "   484.  9629.  3051.  3931.  7432.  1338.  1554. 15857.  1345.  1101.\n",
      "  3016.  2712.   731.  3780.  1602.  3966.  4165.  8335.  6681.  2375.\n",
      " 11816.  5084.  2327.   886.   601.  2957.  2611.  5179.  2993.  1943.\n",
      "  1559.  3422.  3976.  1249.  1364.   709.  2235.  1471. 10875.  1474.\n",
      "   894.  3343.  3959.  3577.  5804.  2439.  2210.  2221.  2389.  3331.\n",
      "  7409.   652.  7678.  1343.  1382.   874.  3590.  1322.  3595.  1422.\n",
      "  6742.  7814.  9277.  2181.  1098.  4057.   795.  2825. 15672.  6614.\n",
      "  7824.  2442.  1829.  2171.  5800.  1169.  8947.  2606.  1592.  2186.\n",
      "    nan  2625.  3485. 10477.  1278.  1107.  3763.  3711.  3594.  3195.\n",
      "  4454.  4736.  2991.  2142.  3161. 18424.  2848. 14896.  2359.  3345.\n",
      "  1817. 12749.  1366.  2002.  6872.   697.  1049. 10297.  1867.  1344.\n",
      "  1747.  1670.  1224.   522.  1498.  1919.   745.  2063.  6288.  6842.\n",
      "  3527.   929.  1455.  1845.  8358.  2859.  1533.  3621.  2145.  4113.\n",
      " 10974.  1893.  1231.  3656.  1154.  4006.  3069.  1740.  2353.  3556.\n",
      "  2397.   454.  1715.  2520.  3568.  7166.  3939.  1514.  7393.  1193.\n",
      "  7297.  2831.   753.  2427.  2538.  1264.  8386.  4844.  2923.  8229.\n",
      "  2028.  1433.  6289.  1409.  6579.  1743.  3565.  1569.  1936.  2390.\n",
      "  1736.  3857.   804.  4576.] \n",
      "\n",
      "employment :\n",
      " ['>=7' '<1' '1<=X<4' 'unemployed' '4<=X<7'] \n",
      "\n",
      "personal_status :\n",
      " ['male mar/wid' 'male div/sep' 'female div/dep/mar' 'male single'] \n",
      "\n",
      "residence_since :\n",
      " [ 2.  4.  1.  3. nan  0.] \n",
      "\n",
      "property_magnitude :\n",
      " ['real estate' 'car' 'life insurance' 'no known property'] \n",
      "\n",
      "age :\n",
      " [32. 28. 27. 42. 49. 38. 24. 36. 34. 45. 26. 20. 54. 37. 40. 23. 43. 44.\n",
      " 53. 30. 31. 41. 25. 33. 75. 60. 61. 35. 67. 22. 29. 52. 21. 47. 58. 74.\n",
      " 50. 48. 65. 64. 19. 56. 46. 63. 66. 59. 55. 39. 51. 62. 68. 57.] \n",
      "\n",
      "housing :\n",
      " ['own' 'for free' 'rent'] \n",
      "\n",
      "existing_credits :\n",
      " [1. 2. 4. 3.] \n",
      "\n",
      "job :\n",
      " ['unskilled resident' 'skilled' 'high qualif/self emp/mgmt'\n",
      " 'unemp/unskilled non res'] \n",
      "\n",
      "num_dependents :\n",
      " [1. 2.] \n",
      "\n",
      "own_telephone :\n",
      " ['none' 'yes'] \n",
      "\n",
      "foreign_worker :\n",
      " ['yes' 'no'] \n",
      "\n",
      "class :\n",
      " ['good' 'bad'] \n",
      "\n"
     ]
    }
   ],
   "source": [
    "# признак  | значения\n",
    "for col in credit_df: # ['existing_credits', 'credit_history', 'employment', 'personal_status', 'job', 'property_magnitude', 'residence_since', 'duration]:\n",
    "    print(col, ':\\n', str(credit_df[col].unique()), '\\n')"
   ]
  },
  {
   "cell_type": "markdown",
   "metadata": {},
   "source": [
    "### 1. В какой шкале представлены все признаки в наборе?"
   ]
  },
  {
   "cell_type": "markdown",
   "metadata": {},
   "source": [
    "|признак                | шкала                       | смысл                  | значения               |\n",
    "|-----------------------|:---------------------------:|:-----------------------|:-----------------------|\n",
    "|checking_status\t    | номинальная (порядковая)    | ?                      | интервал/отсутствует   |\n",
    "|duration\t\t\t    | абсолютная                  | срок                   | натуральное число      |\n",
    "|credit_history         | номинальная                 | кред.история           | `existing paid`, `critical/other existing credit`, `all paid`, `unknown`, `no credits/all paid`  |\n",
    "|credit_amount          | абсолютная                  | сумм.кредита           | натуральное число      |\n",
    "|employment             | номинальная (порядковая)    | стаж                   | `unemployed`, `<1`, `1<=X<4`, `4<=X<7`, `>=7`                          |\n",
    "|personal_status        | номинальная                 | СП                     | `male mar/wid`, `male div/sep`, `female div/dep/mar`, `male single`    |\n",
    "|residence_since        | абсолютная                  | ?                      | натуральное число      |\n",
    "|property_magnitude     | номинальная                 | собствт-ть             | `real estate`,  `car`,  `life insurance`,  `no known property`         |\n",
    "|age                    | порядковая                  | возраст                | натуральное число      |\n",
    "|housing                | номинальная                 | где живёт              | `own`, `rent`, `free`  |\n",
    "|existing_credits       | абсолютная                  | ?                      | натуральное число      |\n",
    "|job                    | номинальная                 | квалификация           | `unskilled resident`, `skilled`, `high qualif/self emp/mgmt`, `unemp/unskilled non res`|\n",
    "|num_dependents         | абсолютная                  | кол-во иждивенцев      | число                  |\n",
    "|own_telephone          | номинальная (бинарная)      | есть телефон?          | `yes`, `none`          |\n",
    "|foreign_worker         | номинальная (бинарная)      | иностранец?            | `yes`, `no`            |\n",
    "|class                  | номинальная (бинарная)      | хороший заёмщик?       | `good`, `bad`          |"
   ]
  },
  {
   "cell_type": "code",
   "execution_count": 9,
   "metadata": {},
   "outputs": [
    {
     "name": "stdout",
     "output_type": "stream",
     "text": [
      "checking_status      \t 4 \t ['0<=X<200' '>=200' '<0' 'no checking']\n",
      "duration             \t 29 \t [18.  6. 24. 36.  9. 10. 15. 39. 12. 48. 26.  4. 21. 30.  7.\n",
      "credit_history       \t 5 \t ['existing paid' 'critical/other existing credit' 'all paid'\n",
      "credit_amount        \t 474 \t [ 1301.  1323.  3123.  5493.  1126.  1216.  1207.  1309.  23\n",
      "employment           \t 5 \t ['>=7' '<1' '1<=X<4' 'unemployed' '4<=X<7']\n",
      "personal_status      \t 4 \t ['male mar/wid' 'male div/sep' 'female div/dep/mar' 'male si\n",
      "residence_since      \t 6 \t [ 2.  4.  1.  3. nan  0.]\n",
      "property_magnitude   \t 4 \t ['real estate' 'car' 'life insurance' 'no known property']\n",
      "age                  \t 52 \t [32. 28. 27. 42. 49. 38. 24. 36. 34. 45. 26. 20. 54. 37. 40.\n",
      "housing              \t 3 \t ['own' 'for free' 'rent']\n",
      "existing_credits     \t 4 \t [1. 2. 4. 3.]\n",
      "job                  \t 4 \t ['unskilled resident' 'skilled' 'high qualif/self emp/mgmt'\n",
      "\n",
      "num_dependents       \t 2 \t [1. 2.]\n",
      "own_telephone        \t 2 \t ['none' 'yes']\n",
      "foreign_worker       \t 2 \t ['yes' 'no']\n",
      "class                \t 2 \t ['good' 'bad']\n"
     ]
    }
   ],
   "source": [
    "# признак  |  количество различных значений  |  примеры значений\n",
    "for col in credit_df.columns:\n",
    "    print(col.ljust(20, ' '), '\\t', \n",
    "          len(credit_df[col].unique()), '\\t', \n",
    "          str(credit_df[col].unique())[:60])"
   ]
  },
  {
   "cell_type": "code",
   "execution_count": null,
   "metadata": {},
   "outputs": [],
   "source": []
  },
  {
   "cell_type": "markdown",
   "metadata": {},
   "source": [
    "### 2. Укажите признак с наименьшей дисперсией."
   ]
  },
  {
   "cell_type": "markdown",
   "metadata": {},
   "source": [
    "**Ответ**: признак `age`"
   ]
  },
  {
   "cell_type": "code",
   "execution_count": 10,
   "metadata": {},
   "outputs": [
    {
     "data": {
      "text/plain": [
       "duration            0.558\n",
       "credit_amount       0.879\n",
       "residence_since     0.408\n",
       "age                 0.317\n",
       "existing_credits    0.413\n",
       "num_dependents      0.320\n",
       "dtype: float64"
      ]
     },
     "execution_count": 10,
     "metadata": {},
     "output_type": "execute_result"
    }
   ],
   "source": [
    "desc = credit_df.describe().T\n",
    "desc['std'] / desc['mean']"
   ]
  },
  {
   "cell_type": "markdown",
   "metadata": {},
   "source": [
    "### 3. Среднее какого признака отличается для двух классов сильнее всего?"
   ]
  },
  {
   "cell_type": "markdown",
   "metadata": {},
   "source": [
    "Признака `duration`"
   ]
  },
  {
   "cell_type": "code",
   "execution_count": 11,
   "metadata": {},
   "outputs": [
    {
     "data": {
      "text/plain": [
       "duration            0.814\n",
       "credit_amount       0.863\n",
       "residence_since     0.959\n",
       "age                 1.099\n",
       "existing_credits    1.073\n",
       "num_dependents      1.019\n",
       "dtype: float64"
      ]
     },
     "execution_count": 11,
     "metadata": {},
     "output_type": "execute_result"
    }
   ],
   "source": [
    "diff = credit_df[credit_df['class'] == 'good'].mean() / credit_df[credit_df['class'] != 'good'].mean()\n",
    "diff"
   ]
  },
  {
   "cell_type": "code",
   "execution_count": 12,
   "metadata": {},
   "outputs": [
    {
     "data": {
      "text/plain": [
       "duration            0.186\n",
       "credit_amount       0.137\n",
       "residence_since     0.041\n",
       "age                 0.099\n",
       "existing_credits    0.073\n",
       "num_dependents      0.019\n",
       "dtype: float64"
      ]
     },
     "execution_count": 12,
     "metadata": {},
     "output_type": "execute_result"
    }
   ],
   "source": [
    "abs(diff - 1)"
   ]
  },
  {
   "cell_type": "markdown",
   "metadata": {},
   "source": []
  },
  {
   "cell_type": "markdown",
   "metadata": {},
   "source": [
    "### 4. В каком классе больше всего skilled работников?"
   ]
  },
  {
   "cell_type": "markdown",
   "metadata": {},
   "source": [
    "**Ответ**: В классе bad"
   ]
  },
  {
   "cell_type": "code",
   "execution_count": 13,
   "metadata": {},
   "outputs": [
    {
     "name": "stdout",
     "output_type": "stream",
     "text": [
      "66.56 % skilled работников имеют класс good\n",
      "68.68 % прочих работников имеют класс good\n"
     ]
    }
   ],
   "source": [
    "skilled = filter('job', 'skilled')\n",
    "notskilled = filter_not('job', 'skilled')\n",
    "\n",
    "skilled_good = filter_good(skilled)\n",
    "notskilled_good = filter_good(notskilled)\n",
    "\n",
    "print(round(100 * len(skilled_good) / len(skilled), 2), \"% skilled работников имеют класс good\")\n",
    "print(round(100 * len(notskilled_good) / len(notskilled), 2), \"% прочих работников имеют класс good\")"
   ]
  },
  {
   "cell_type": "code",
   "execution_count": 14,
   "metadata": {},
   "outputs": [
    {
     "name": "stdout",
     "output_type": "stream",
     "text": [
      "63.01775147928994 % good работников являются skilled\n",
      "65.2439024390244 % bad работников являются skilled\n"
     ]
    }
   ],
   "source": [
    "good = filter_good()\n",
    "bad = filter_bad()\n",
    "\n",
    "skilled_bad = filter('job', 'skilled', bad)\n",
    "\n",
    "print(100 * len(skilled_good) / len(good), \"% good работников являются skilled\")\n",
    "print(100 * len(skilled_bad) / len(bad), \"% bad работников являются skilled\")"
   ]
  },
  {
   "cell_type": "markdown",
   "metadata": {},
   "source": [
    "### 5. Есть ли в наборе признаки с выбросами? Какие?"
   ]
  },
  {
   "cell_type": "code",
   "execution_count": 15,
   "metadata": {},
   "outputs": [
    {
     "data": {
      "text/plain": [
       "<AxesSubplot:>"
      ]
     },
     "execution_count": 15,
     "metadata": {},
     "output_type": "execute_result"
    },
    {
     "data": {
      "image/png": "[encoded data removed]",
      "text/plain": [
       "<Figure size 864x504 with 1 Axes>"
      ]
     },
     "metadata": {},
     "output_type": "display_data"
    }
   ],
   "source": [
    "fig, axs = plt.subplots(figsize=(12,7))\n",
    "sns.boxplot(data=credit_df)"
   ]
  },
  {
   "cell_type": "code",
   "execution_count": 16,
   "metadata": {},
   "outputs": [
    {
     "data": {
      "text/plain": [
       "duration              21.460\n",
       "credit_amount       3236.230\n",
       "residence_since        2.821\n",
       "age                   35.542\n",
       "existing_credits       1.420\n",
       "num_dependents         1.167\n",
       "Name: mean, dtype: float64"
      ]
     },
     "execution_count": 16,
     "metadata": {},
     "output_type": "execute_result"
    }
   ],
   "source": [
    "mean = credit_df.describe().T['mean']\n",
    "mean"
   ]
  },
  {
   "cell_type": "code",
   "execution_count": 52,
   "metadata": {},
   "outputs": [
    {
     "data": {
      "text/plain": [
       "<AxesSubplot:>"
      ]
     },
     "execution_count": 52,
     "metadata": {},
     "output_type": "execute_result"
    },
    {
     "data": {
      "image/png": "[encoded data removed]",
      "text/plain": [
       "<Figure size 864x504 with 1 Axes>"
      ]
     },
     "metadata": {},
     "output_type": "display_data"
    }
   ],
   "source": [
    "fig, axs = plt.subplots(figsize=(12,7))\n",
    "sns.boxplot(data=(credit_df[mean.index] / mean))"
   ]
  },
  {
   "cell_type": "markdown",
   "metadata": {},
   "source": [
    "### 6. Сколько пропущенных значений в наборе?"
   ]
  },
  {
   "cell_type": "code",
   "execution_count": 18,
   "metadata": {},
   "outputs": [
    {
     "name": "stdout",
     "output_type": "stream",
     "text": [
      "<class 'pandas.core.frame.DataFrame'>\n",
      "Int64Index: 502 entries, 1 to 502\n",
      "Data columns (total 16 columns):\n",
      " #   Column              Non-Null Count  Dtype  \n",
      "---  ------              --------------  -----  \n",
      " 0   checking_status     502 non-null    object \n",
      " 1   duration            502 non-null    float64\n",
      " 2   credit_history      502 non-null    object \n",
      " 3   credit_amount       501 non-null    float64\n",
      " 4   employment          502 non-null    object \n",
      " 5   personal_status     502 non-null    object \n",
      " 6   residence_since     485 non-null    float64\n",
      " 7   property_magnitude  502 non-null    object \n",
      " 8   age                 502 non-null    float64\n",
      " 9   housing             502 non-null    object \n",
      " 10  existing_credits    502 non-null    float64\n",
      " 11  job                 502 non-null    object \n",
      " 12  num_dependents      502 non-null    float64\n",
      " 13  own_telephone       502 non-null    object \n",
      " 14  foreign_worker      502 non-null    object \n",
      " 15  class               502 non-null    object \n",
      "dtypes: float64(6), object(10)\n",
      "memory usage: 66.7+ KB\n"
     ]
    }
   ],
   "source": [
    "credit_df.info()"
   ]
  },
  {
   "cell_type": "code",
   "execution_count": 19,
   "metadata": {},
   "outputs": [
    {
     "data": {
      "text/plain": [
       "checking_status        0\n",
       "duration               0\n",
       "credit_history         0\n",
       "credit_amount          1\n",
       "employment             0\n",
       "personal_status        0\n",
       "residence_since       17\n",
       "property_magnitude     0\n",
       "age                    0\n",
       "housing                0\n",
       "existing_credits       0\n",
       "job                    0\n",
       "num_dependents         0\n",
       "own_telephone          0\n",
       "foreign_worker         0\n",
       "class                  0\n",
       "dtype: int64"
      ]
     },
     "execution_count": 19,
     "metadata": {},
     "output_type": "execute_result"
    }
   ],
   "source": [
    "credit_df.isnull().sum()"
   ]
  },
  {
   "cell_type": "code",
   "execution_count": 20,
   "metadata": {},
   "outputs": [
    {
     "data": {
      "text/plain": [
       "8"
      ]
     },
     "execution_count": 20,
     "metadata": {},
     "output_type": "execute_result"
    }
   ],
   "source": [
    "len(credit_df[(credit_df.credit_amount == 0)])"
   ]
  },
  {
   "cell_type": "code",
   "execution_count": 21,
   "metadata": {},
   "outputs": [
    {
     "data": {
      "text/html": [
       "<div>\n",
       "<style scoped>\n",
       "    .dataframe tbody tr th:only-of-type {\n",
       "        vertical-align: middle;\n",
       "    }\n",
       "\n",
       "    .dataframe tbody tr th {\n",
       "        vertical-align: top;\n",
       "    }\n",
       "\n",
       "    .dataframe thead th {\n",
       "        text-align: right;\n",
       "    }\n",
       "</style>\n",
       "<table border=\"1\" class=\"dataframe\">\n",
       "  <thead>\n",
       "    <tr style=\"text-align: right;\">\n",
       "      <th></th>\n",
       "      <th>checking_status</th>\n",
       "      <th>duration</th>\n",
       "      <th>credit_history</th>\n",
       "      <th>credit_amount</th>\n",
       "      <th>employment</th>\n",
       "      <th>personal_status</th>\n",
       "      <th>residence_since</th>\n",
       "      <th>property_magnitude</th>\n",
       "      <th>age</th>\n",
       "      <th>housing</th>\n",
       "      <th>existing_credits</th>\n",
       "      <th>job</th>\n",
       "      <th>num_dependents</th>\n",
       "      <th>own_telephone</th>\n",
       "      <th>foreign_worker</th>\n",
       "      <th>class</th>\n",
       "    </tr>\n",
       "  </thead>\n",
       "  <tbody>\n",
       "    <tr>\n",
       "      <th>45</th>\n",
       "      <td>&lt;0</td>\n",
       "      <td>30.0</td>\n",
       "      <td>existing paid</td>\n",
       "      <td>0.0</td>\n",
       "      <td>&gt;=7</td>\n",
       "      <td>male single</td>\n",
       "      <td>4.0</td>\n",
       "      <td>life insurance</td>\n",
       "      <td>31.0</td>\n",
       "      <td>own</td>\n",
       "      <td>1.0</td>\n",
       "      <td>skilled</td>\n",
       "      <td>1.0</td>\n",
       "      <td>none</td>\n",
       "      <td>yes</td>\n",
       "      <td>bad</td>\n",
       "    </tr>\n",
       "    <tr>\n",
       "      <th>72</th>\n",
       "      <td>&lt;0</td>\n",
       "      <td>48.0</td>\n",
       "      <td>existing paid</td>\n",
       "      <td>0.0</td>\n",
       "      <td>1&lt;=X&lt;4</td>\n",
       "      <td>female div/dep/mar</td>\n",
       "      <td>2.0</td>\n",
       "      <td>car</td>\n",
       "      <td>31.0</td>\n",
       "      <td>own</td>\n",
       "      <td>1.0</td>\n",
       "      <td>skilled</td>\n",
       "      <td>1.0</td>\n",
       "      <td>yes</td>\n",
       "      <td>yes</td>\n",
       "      <td>bad</td>\n",
       "    </tr>\n",
       "    <tr>\n",
       "      <th>87</th>\n",
       "      <td>no checking</td>\n",
       "      <td>12.0</td>\n",
       "      <td>existing paid</td>\n",
       "      <td>0.0</td>\n",
       "      <td>&gt;=7</td>\n",
       "      <td>female div/dep/mar</td>\n",
       "      <td>4.0</td>\n",
       "      <td>no known property</td>\n",
       "      <td>52.0</td>\n",
       "      <td>for free</td>\n",
       "      <td>1.0</td>\n",
       "      <td>high qualif/self emp/mgmt</td>\n",
       "      <td>1.0</td>\n",
       "      <td>yes</td>\n",
       "      <td>yes</td>\n",
       "      <td>good</td>\n",
       "    </tr>\n",
       "    <tr>\n",
       "      <th>137</th>\n",
       "      <td>0&lt;=X&lt;200</td>\n",
       "      <td>24.0</td>\n",
       "      <td>existing paid</td>\n",
       "      <td>0.0</td>\n",
       "      <td>&lt;1</td>\n",
       "      <td>female div/dep/mar</td>\n",
       "      <td>4.0</td>\n",
       "      <td>car</td>\n",
       "      <td>25.0</td>\n",
       "      <td>own</td>\n",
       "      <td>1.0</td>\n",
       "      <td>unskilled resident</td>\n",
       "      <td>1.0</td>\n",
       "      <td>yes</td>\n",
       "      <td>yes</td>\n",
       "      <td>bad</td>\n",
       "    </tr>\n",
       "    <tr>\n",
       "      <th>186</th>\n",
       "      <td>no checking</td>\n",
       "      <td>24.0</td>\n",
       "      <td>critical/other existing credit</td>\n",
       "      <td>0.0</td>\n",
       "      <td>&lt;1</td>\n",
       "      <td>male mar/wid</td>\n",
       "      <td>3.0</td>\n",
       "      <td>no known property</td>\n",
       "      <td>47.0</td>\n",
       "      <td>for free</td>\n",
       "      <td>3.0</td>\n",
       "      <td>skilled</td>\n",
       "      <td>1.0</td>\n",
       "      <td>yes</td>\n",
       "      <td>yes</td>\n",
       "      <td>good</td>\n",
       "    </tr>\n",
       "  </tbody>\n",
       "</table>\n",
       "</div>"
      ],
      "text/plain": [
       "    checking_status  duration                  credit_history  credit_amount  \\\n",
       "45               <0      30.0                   existing paid            0.0   \n",
       "72               <0      48.0                   existing paid            0.0   \n",
       "87      no checking      12.0                   existing paid            0.0   \n",
       "137        0<=X<200      24.0                   existing paid            0.0   \n",
       "186     no checking      24.0  critical/other existing credit            0.0   \n",
       "\n",
       "    employment     personal_status  residence_since property_magnitude   age  \\\n",
       "45         >=7         male single              4.0     life insurance  31.0   \n",
       "72      1<=X<4  female div/dep/mar              2.0                car  31.0   \n",
       "87         >=7  female div/dep/mar              4.0  no known property  52.0   \n",
       "137         <1  female div/dep/mar              4.0                car  25.0   \n",
       "186         <1        male mar/wid              3.0  no known property  47.0   \n",
       "\n",
       "      housing  existing_credits                        job  num_dependents  \\\n",
       "45        own               1.0                    skilled             1.0   \n",
       "72        own               1.0                    skilled             1.0   \n",
       "87   for free               1.0  high qualif/self emp/mgmt             1.0   \n",
       "137       own               1.0         unskilled resident             1.0   \n",
       "186  for free               3.0                    skilled             1.0   \n",
       "\n",
       "    own_telephone foreign_worker class  \n",
       "45           none            yes   bad  \n",
       "72            yes            yes   bad  \n",
       "87            yes            yes  good  \n",
       "137           yes            yes   bad  \n",
       "186           yes            yes  good  "
      ]
     },
     "execution_count": 21,
     "metadata": {},
     "output_type": "execute_result"
    }
   ],
   "source": [
    "missed = credit_df[(credit_df.credit_amount == 0)\\\n",
    "                  | (credit_df.credit_amount != credit_df.credit_amount)\n",
    "                  | (credit_df.credit_amount == None)]\n",
    "missed.head()"
   ]
  },
  {
   "cell_type": "code",
   "execution_count": null,
   "metadata": {},
   "outputs": [],
   "source": []
  },
  {
   "cell_type": "code",
   "execution_count": 22,
   "metadata": {},
   "outputs": [
    {
     "data": {
      "text/plain": [
       "9"
      ]
     },
     "execution_count": 22,
     "metadata": {},
     "output_type": "execute_result"
    }
   ],
   "source": [
    "len(missed)"
   ]
  },
  {
   "cell_type": "code",
   "execution_count": 23,
   "metadata": {},
   "outputs": [],
   "source": [
    "### 7. Попытайтесь заполнить пропущенные значения."
   ]
  },
  {
   "cell_type": "code",
   "execution_count": 24,
   "metadata": {},
   "outputs": [],
   "source": [
    "credited_filled = credit_df.copy()"
   ]
  },
  {
   "cell_type": "code",
   "execution_count": 25,
   "metadata": {},
   "outputs": [
    {
     "ename": "SyntaxError",
     "evalue": "invalid syntax (<ipython-input-25-ee8de93fc2d5>, line 1)",
     "output_type": "error",
     "traceback": [
      "\u001B[0;36m  File \u001B[0;32m\"<ipython-input-25-ee8de93fc2d5>\"\u001B[0;36m, line \u001B[0;32m1\u001B[0m\n\u001B[0;31m    credited_filled[]\u001B[0m\n\u001B[0m                    ^\u001B[0m\n\u001B[0;31mSyntaxError\u001B[0m\u001B[0;31m:\u001B[0m invalid syntax\n"
     ]
    }
   ],
   "source": [
    "credited_filled[]"
   ]
  },
  {
   "cell_type": "code",
   "execution_count": null,
   "metadata": {},
   "outputs": [],
   "source": [
    "### 8. Как минимум для одного признака каждого типа постройте диаграмму, которая может помочь его исследовать."
   ]
  },
  {
   "cell_type": "code",
   "execution_count": null,
   "metadata": {
    "collapsed": false,
    "jupyter": {
     "outputs_hidden": false
    },
    "pycharm": {
     "name": "#%%\n"
    }
   },
   "outputs": [],
   "source": [
    "# порядковая\n",
    "sns.distplot(credit_df.age)"
   ]
  },
  {
   "cell_type": "code",
   "execution_count": null,
   "metadata": {
    "collapsed": false,
    "jupyter": {
     "outputs_hidden": false
    },
    "pycharm": {
     "name": "#%%\n"
    }
   },
   "outputs": [],
   "source": [
    "# номинальная (порядковая)\n",
    "sns.countplot(credit_df.employment)"
   ]
  },
  {
   "cell_type": "code",
   "execution_count": null,
   "metadata": {
    "collapsed": false,
    "jupyter": {
     "outputs_hidden": false
    },
    "pycharm": {
     "name": "#%%\n"
    }
   },
   "outputs": [],
   "source": [
    "# бинарный\n",
    "sns.countplot(credit_df.own_telephone)"
   ]
  },
  {
   "cell_type": "code",
   "execution_count": null,
   "metadata": {
    "collapsed": false,
    "jupyter": {
     "outputs_hidden": false
    },
    "pycharm": {
     "name": "#%%\n"
    }
   },
   "outputs": [],
   "source": [
    "# абсолютная\n",
    "sns.distplot(credit_df.credit_amount)"
   ]
  },
  {
   "cell_type": "code",
   "execution_count": 47,
   "metadata": {
    "pycharm": {
     "name": "#%%\n"
    }
   },
   "outputs": [
    {
     "ename": "NameError",
     "evalue": "name 'employment' is not defined",
     "output_type": "error",
     "traceback": [
      "\u001B[0;31m---------------------------------------------------------------------------\u001B[0m",
      "\u001B[0;31mNameError\u001B[0m                                 Traceback (most recent call last)",
      "\u001B[0;32m<ipython-input-47-025f02b0fb62>\u001B[0m in \u001B[0;36m<module>\u001B[0;34m\u001B[0m\n\u001B[1;32m      1\u001B[0m \u001B[0;31m# порядковая\u001B[0m\u001B[0;34m\u001B[0m\u001B[0;34m\u001B[0m\u001B[0;34m\u001B[0m\u001B[0m\n\u001B[0;32m----> 2\u001B[0;31m \u001B[0msns\u001B[0m\u001B[0;34m.\u001B[0m\u001B[0mdistplot\u001B[0m\u001B[0;34m(\u001B[0m\u001B[0memployment\u001B[0m\u001B[0;34m.\u001B[0m\u001B[0mage\u001B[0m\u001B[0;34m)\u001B[0m\u001B[0;34m\u001B[0m\u001B[0;34m\u001B[0m\u001B[0m\n\u001B[0m",
      "\u001B[0;31mNameError\u001B[0m: name 'employment' is not defined"
     ]
    }
   ],
   "source": [
    "### 9. Проанализируйте взаимосвязи признаков с помощью scatter-plot матрицы и тепловой карты корреляций. Какие выводы можно сделать?"
   ]
  },
  {
   "cell_type": "code",
   "execution_count": 48,
   "metadata": {
    "pycharm": {
     "name": "#%%\n"
    }
   },
   "outputs": [
    {
     "name": "stderr",
     "output_type": "stream",
     "text": [
      "/usr/local/lib/python3.7/site-packages/seaborn/_decorators.py:43: FutureWarning: Pass the following variable as a keyword arg: x. From version 0.12, the only valid positional argument will be `data`, and passing other arguments without an explicit keyword will result in an error or misinterpretation.\n",
      "  FutureWarning\n"
     ]
    },
    {
     "data": {
      "text/plain": [
       "<AxesSubplot:xlabel='employment', ylabel='count'>"
      ]
     },
     "execution_count": 48,
     "metadata": {},
     "output_type": "execute_result"
    },
    {
     "data": {
      "image/png": "[encoded data removed]",
      "text/plain": [
       "<Figure size 432x288 with 1 Axes>"
      ]
     },
     "metadata": {},
     "output_type": "display_data"
    }
   ],
   "source": [
    "# номинальная (порядковая)\n",
    "sns.countplot(credit_df.employment)"
   ]
  },
  {
   "cell_type": "code",
   "execution_count": null,
   "outputs": [],
   "source": [
    "# бинарный\n",
    "sns.countplot(credit_df.own_telephone)"
   ],
   "metadata": {
    "collapsed": false,
    "pycharm": {
     "name": "#%%\n"
    }
   }
  },
  {
   "cell_type": "code",
   "execution_count": null,
   "outputs": [],
   "source": [
    "# абсолютная\n",
    "sns.distplot(credit_df.credit_amount)"
   ],
   "metadata": {
    "collapsed": false,
    "pycharm": {
     "name": "#%%\n"
    }
   }
  },
  {
   "cell_type": "code",
   "execution_count": null,
   "outputs": [],
   "source": [
    "### 9. Проанализируйте взаимосвязи признаков с помощью scatter-plot матрицы и тепловой карты корреляций. Какие выводы можно сделать?"
   ],
   "metadata": {
    "collapsed": false,
    "pycharm": {
     "name": "#%%\n"
    }
   }
  },
  {
   "cell_type": "markdown",
   "source": [
    "### 10. Какой признак(и) имеет смысл стандартизировать? Почему?\n",
    "* Признаки `checking_status` и `employment` можно сделать порядковыми, чтобы их можно было сравнивать.\n",
    "* Признак `foreign_worker` частично дублируется в признаке `job`."
   ],
   "metadata": {
    "collapsed": false
   }
  },
  {
   "cell_type": "markdown",
   "source": [
    "\n",
    "### 11. Придумайте 1 новый признак, попытайтесь объяснить, почему он информативный.\n",
    "* Признак `sex` можно извлечь из признака `personal_status`. "
   ],
   "metadata": {
    "collapsed": false
   }
  },
  {
   "cell_type": "code",
   "execution_count": null,
   "outputs": [],
   "source": [
    "time credit_df.groupby(['job']).agg([lambda x: ','.join(x), lambda x: set(x)])"
   ],
   "metadata": {
    "collapsed": false,
    "pycharm": {
     "name": "#%%\n"
    }
   }
  },
  {
   "cell_type": "code",
   "execution_count": null,
   "outputs": [],
   "source": [
    "set(['a', 'a']).pop()"
   ],
   "metadata": {
    "collapsed": false,
    "pycharm": {
     "name": "#%%\n"
    }
   }
  },
  {
   "cell_type": "code",
   "execution_count": null,
   "outputs": [],
   "source": [
    "time credit_df.groupby(['job'])['checking_status'].apply(lambda x: ','.join(x))"
   ],
   "metadata": {
    "collapsed": false,
    "pycharm": {
     "name": "#%%\n"
    }
   }
  },
  {
   "cell_type": "code",
   "execution_count": 46,
   "metadata": {},
   "outputs": [
    {
     "name": "stderr",
     "output_type": "stream",
     "text": [
      "/usr/local/lib/python3.7/site-packages/seaborn/_decorators.py:43: FutureWarning: Pass the following variable as a keyword arg: x. From version 0.12, the only valid positional argument will be `data`, and passing other arguments without an explicit keyword will result in an error or misinterpretation.\n",
      "  FutureWarning\n"
     ]
    },
    {
     "data": {
      "text/plain": [
       "<AxesSubplot:xlabel='own_telephone', ylabel='count'>"
      ]
     },
     "execution_count": 46,
     "metadata": {},
     "output_type": "execute_result"
    },
    {
     "data": {
      "image/png": "[encoded data removed]",
      "text/plain": [
       "<Figure size 432x288 with 1 Axes>"
      ]
     },
     "metadata": {},
     "output_type": "display_data"
    }
   ],
   "source": []
  },
  {
   "cell_type": "code",
   "execution_count": 50,
   "metadata": {},
   "outputs": [
    {
     "name": "stderr",
     "output_type": "stream",
     "text": [
      "/usr/local/lib/python3.7/site-packages/seaborn/distributions.py:2557: FutureWarning: `distplot` is a deprecated function and will be removed in a future version. Please adapt your code to use either `displot` (a figure-level function with similar flexibility) or `histplot` (an axes-level function for histograms).\n",
      "  warnings.warn(msg, FutureWarning)\n"
     ]
    },
    {
     "data": {
      "text/plain": [
       "<AxesSubplot:xlabel='credit_amount', ylabel='Density'>"
      ]
     },
     "execution_count": 50,
     "metadata": {},
     "output_type": "execute_result"
    },
    {
     "data": {
      "image/png": "[encoded data removed]",
      "text/plain": [
       "<Figure size 432x288 with 1 Axes>"
      ]
     },
     "metadata": {},
     "output_type": "display_data"
    }
   ],
   "source": [
    "# абсолютная\n",
    "sns.distplot(credit_df.credit_amount)"
   ]
  },
  {
   "cell_type": "code",
   "execution_count": null,
   "metadata": {},
   "outputs": [],
   "source": [
    "### 9. Проанализируйте взаимосвязи признаков с помощью scatter-plot матрицы и тепловой карты корреляций. Какие выводы можно сделать?"
   ]
  },
  {
   "cell_type": "markdown",
   "metadata": {},
   "source": [
    "### 10. Какой признак(и) имеет смысл стандартизировать? Почему?\n",
    "* Признаки `checking_status` и `employment` можно сделать порядковыми, чтобы их можно было сравнивать.\n",
    "* Признак `foreign_worker` частично дублируется в признаке `job`."
   ]
  },
  {
   "cell_type": "markdown",
   "metadata": {},
   "source": [
    "\n",
    "### 11. Придумайте 1 новый признак, попытайтесь объяснить, почему он информативный.\n",
    "* Признак `sex` можно извлечь из признака `personal_status`. "
   ]
  },
  {
   "cell_type": "code",
   "execution_count": 64,
   "metadata": {},
   "outputs": [
    {
     "name": "stdout",
     "output_type": "stream",
     "text": [
      "CPU times: user 31.3 ms, sys: 2.39 ms, total: 33.7 ms\n",
      "Wall time: 33.6 ms\n"
     ]
    },
    {
     "data": {
      "text/html": [
       "<div>\n",
       "<style scoped>\n",
       "    .dataframe tbody tr th:only-of-type {\n",
       "        vertical-align: middle;\n",
       "    }\n",
       "\n",
       "    .dataframe tbody tr th {\n",
       "        vertical-align: top;\n",
       "    }\n",
       "\n",
       "    .dataframe thead tr th {\n",
       "        text-align: left;\n",
       "    }\n",
       "\n",
       "    .dataframe thead tr:last-of-type th {\n",
       "        text-align: right;\n",
       "    }\n",
       "</style>\n",
       "<table border=\"1\" class=\"dataframe\">\n",
       "  <thead>\n",
       "    <tr>\n",
       "      <th></th>\n",
       "      <th colspan=\"2\" halign=\"left\">checking_status</th>\n",
       "      <th colspan=\"2\" halign=\"left\">credit_history</th>\n",
       "      <th colspan=\"2\" halign=\"left\">employment</th>\n",
       "      <th colspan=\"2\" halign=\"left\">personal_status</th>\n",
       "      <th colspan=\"2\" halign=\"left\">property_magnitude</th>\n",
       "      <th colspan=\"2\" halign=\"left\">housing</th>\n",
       "      <th colspan=\"2\" halign=\"left\">own_telephone</th>\n",
       "      <th colspan=\"2\" halign=\"left\">foreign_worker</th>\n",
       "      <th colspan=\"2\" halign=\"left\">class</th>\n",
       "    </tr>\n",
       "    <tr>\n",
       "      <th></th>\n",
       "      <th>&lt;lambda_0&gt;</th>\n",
       "      <th>&lt;lambda_1&gt;</th>\n",
       "      <th>&lt;lambda_0&gt;</th>\n",
       "      <th>&lt;lambda_1&gt;</th>\n",
       "      <th>&lt;lambda_0&gt;</th>\n",
       "      <th>&lt;lambda_1&gt;</th>\n",
       "      <th>&lt;lambda_0&gt;</th>\n",
       "      <th>&lt;lambda_1&gt;</th>\n",
       "      <th>&lt;lambda_0&gt;</th>\n",
       "      <th>&lt;lambda_1&gt;</th>\n",
       "      <th>&lt;lambda_0&gt;</th>\n",
       "      <th>&lt;lambda_1&gt;</th>\n",
       "      <th>&lt;lambda_0&gt;</th>\n",
       "      <th>&lt;lambda_1&gt;</th>\n",
       "      <th>&lt;lambda_0&gt;</th>\n",
       "      <th>&lt;lambda_1&gt;</th>\n",
       "      <th>&lt;lambda_0&gt;</th>\n",
       "      <th>&lt;lambda_1&gt;</th>\n",
       "    </tr>\n",
       "    <tr>\n",
       "      <th>job</th>\n",
       "      <th></th>\n",
       "      <th></th>\n",
       "      <th></th>\n",
       "      <th></th>\n",
       "      <th></th>\n",
       "      <th></th>\n",
       "      <th></th>\n",
       "      <th></th>\n",
       "      <th></th>\n",
       "      <th></th>\n",
       "      <th></th>\n",
       "      <th></th>\n",
       "      <th></th>\n",
       "      <th></th>\n",
       "      <th></th>\n",
       "      <th></th>\n",
       "      <th></th>\n",
       "      <th></th>\n",
       "    </tr>\n",
       "  </thead>\n",
       "  <tbody>\n",
       "    <tr>\n",
       "      <th>high qualif/self emp/mgmt</th>\n",
       "      <td>0&lt;=X&lt;200,no checking,no checking,&lt;0,&lt;0,0&lt;=X&lt;20...</td>\n",
       "      <td>{&lt;0, &gt;=200, no checking, 0&lt;=X&lt;200}</td>\n",
       "      <td>all paid,existing paid,existing paid,existing ...</td>\n",
       "      <td>{critical/other existing credit, unknown, no c...</td>\n",
       "      <td>unemployed,&gt;=7,1&lt;=X&lt;4,unemployed,&gt;=7,4&lt;=X&lt;7,1&lt;...</td>\n",
       "      <td>{1&lt;=X&lt;4, unemployed, &lt;1, &gt;=7, 4&lt;=X&lt;7}</td>\n",
       "      <td>male single,male single,male single,female div...</td>\n",
       "      <td>{female div/dep/mar, male div/sep, male mar/wi...</td>\n",
       "      <td>life insurance,car,no known property,life insu...</td>\n",
       "      <td>{real estate, car, no known property, life ins...</td>\n",
       "      <td>own,own,for free,own,for free,own,own,rent,for...</td>\n",
       "      <td>{own, for free, rent}</td>\n",
       "      <td>yes,yes,yes,yes,none,yes,yes,yes,yes,yes,yes,y...</td>\n",
       "      <td>{yes, none}</td>\n",
       "      <td>yes,yes,yes,yes,yes,yes,yes,yes,yes,yes,yes,ye...</td>\n",
       "      <td>{yes, no}</td>\n",
       "      <td>bad,good,good,good,bad,good,good,good,good,bad...</td>\n",
       "      <td>{bad, good}</td>\n",
       "    </tr>\n",
       "    <tr>\n",
       "      <th>skilled</th>\n",
       "      <td>&gt;=200,&lt;0,&lt;0,&gt;=200,0&lt;=X&lt;200,&lt;0,&gt;=200,no checkin...</td>\n",
       "      <td>{&lt;0, no checking, &gt;=200, 0&lt;=X&lt;200}</td>\n",
       "      <td>critical/other existing credit,existing paid,e...</td>\n",
       "      <td>{critical/other existing credit, unknown, no c...</td>\n",
       "      <td>&gt;=7,&lt;1,&gt;=7,&gt;=7,&lt;1,&lt;1,1&lt;=X&lt;4,1&lt;=X&lt;4,4&lt;=X&lt;7,4&lt;=X...</td>\n",
       "      <td>{1&lt;=X&lt;4, unemployed, &lt;1, &gt;=7, 4&lt;=X&lt;7}</td>\n",
       "      <td>male div/sep,female div/dep/mar,male single,ma...</td>\n",
       "      <td>{female div/dep/mar, male div/sep, male mar/wi...</td>\n",
       "      <td>car,life insurance,no known property,real esta...</td>\n",
       "      <td>{real estate, car, no known property, life ins...</td>\n",
       "      <td>own,own,for free,own,own,rent,own,own,own,rent...</td>\n",
       "      <td>{own, for free, rent}</td>\n",
       "      <td>yes,none,none,none,none,none,yes,none,none,yes...</td>\n",
       "      <td>{yes, none}</td>\n",
       "      <td>yes,yes,yes,yes,yes,yes,yes,yes,yes,yes,yes,ye...</td>\n",
       "      <td>{yes, no}</td>\n",
       "      <td>good,bad,good,good,bad,bad,good,good,bad,good,...</td>\n",
       "      <td>{good, bad}</td>\n",
       "    </tr>\n",
       "    <tr>\n",
       "      <th>unemp/unskilled non res</th>\n",
       "      <td>&lt;0,no checking,0&lt;=X&lt;200,&gt;=200,&gt;=200,0&lt;=X&lt;200,0...</td>\n",
       "      <td>{&lt;0, &gt;=200, no checking, 0&lt;=X&lt;200}</td>\n",
       "      <td>existing paid,critical/other existing credit,a...</td>\n",
       "      <td>{existing paid, critical/other existing credit...</td>\n",
       "      <td>unemployed,unemployed,&lt;1,1&lt;=X&lt;4,unemployed,&lt;1,...</td>\n",
       "      <td>{&lt;1, 1&lt;=X&lt;4, unemployed}</td>\n",
       "      <td>female div/dep/mar,female div/dep/mar,female d...</td>\n",
       "      <td>{female div/dep/mar, male mar/wid, male single}</td>\n",
       "      <td>real estate,life insurance,no known property,r...</td>\n",
       "      <td>{real estate, car, no known property, life ins...</td>\n",
       "      <td>own,own,own,own,for free,own,rent,rent,own,own...</td>\n",
       "      <td>{own, for free, rent}</td>\n",
       "      <td>none,none,none,none,none,none,none,none,none,y...</td>\n",
       "      <td>{yes, none}</td>\n",
       "      <td>yes,yes,yes,no,yes,yes,yes,yes,yes,yes,yes</td>\n",
       "      <td>{yes, no}</td>\n",
       "      <td>bad,good,good,good,good,good,good,bad,good,goo...</td>\n",
       "      <td>{bad, good}</td>\n",
       "    </tr>\n",
       "    <tr>\n",
       "      <th>unskilled resident</th>\n",
       "      <td>0&lt;=X&lt;200,no checking,&lt;0,0&lt;=X&lt;200,no checking,&lt;...</td>\n",
       "      <td>{&lt;0, &gt;=200, no checking, 0&lt;=X&lt;200}</td>\n",
       "      <td>existing paid,existing paid,critical/other exi...</td>\n",
       "      <td>{critical/other existing credit, unknown, no c...</td>\n",
       "      <td>&gt;=7,1&lt;=X&lt;4,&lt;1,1&lt;=X&lt;4,4&lt;=X&lt;7,&lt;1,&lt;1,1&lt;=X&lt;4,&gt;=7,1...</td>\n",
       "      <td>{&lt;1, &gt;=7, 1&lt;=X&lt;4, 4&lt;=X&lt;7}</td>\n",
       "      <td>male mar/wid,male single,male single,female di...</td>\n",
       "      <td>{female div/dep/mar, male div/sep, male mar/wi...</td>\n",
       "      <td>real estate,life insurance,real estate,real es...</td>\n",
       "      <td>{real estate, car, no known property, life ins...</td>\n",
       "      <td>own,own,own,own,own,own,own,own,own,own,own,ow...</td>\n",
       "      <td>{own, for free, rent}</td>\n",
       "      <td>none,none,none,none,none,yes,none,none,none,no...</td>\n",
       "      <td>{yes, none}</td>\n",
       "      <td>yes,yes,no,yes,yes,yes,yes,yes,yes,yes,yes,yes...</td>\n",
       "      <td>{yes, no}</td>\n",
       "      <td>good,bad,good,good,good,good,good,bad,good,bad...</td>\n",
       "      <td>{good, bad}</td>\n",
       "    </tr>\n",
       "  </tbody>\n",
       "</table>\n",
       "</div>"
      ],
      "text/plain": [
       "                                                             checking_status  \\\n",
       "                                                                  <lambda_0>   \n",
       "job                                                                            \n",
       "high qualif/self emp/mgmt  0<=X<200,no checking,no checking,<0,<0,0<=X<20...   \n",
       "skilled                    >=200,<0,<0,>=200,0<=X<200,<0,>=200,no checkin...   \n",
       "unemp/unskilled non res    <0,no checking,0<=X<200,>=200,>=200,0<=X<200,0...   \n",
       "unskilled resident         0<=X<200,no checking,<0,0<=X<200,no checking,<...   \n",
       "\n",
       "                                                               \\\n",
       "                                                   <lambda_1>   \n",
       "job                                                             \n",
       "high qualif/self emp/mgmt  {<0, >=200, no checking, 0<=X<200}   \n",
       "skilled                    {<0, no checking, >=200, 0<=X<200}   \n",
       "unemp/unskilled non res    {<0, >=200, no checking, 0<=X<200}   \n",
       "unskilled resident         {<0, >=200, no checking, 0<=X<200}   \n",
       "\n",
       "                                                              credit_history  \\\n",
       "                                                                  <lambda_0>   \n",
       "job                                                                            \n",
       "high qualif/self emp/mgmt  all paid,existing paid,existing paid,existing ...   \n",
       "skilled                    critical/other existing credit,existing paid,e...   \n",
       "unemp/unskilled non res    existing paid,critical/other existing credit,a...   \n",
       "unskilled resident         existing paid,existing paid,critical/other exi...   \n",
       "\n",
       "                                                                              \\\n",
       "                                                                  <lambda_1>   \n",
       "job                                                                            \n",
       "high qualif/self emp/mgmt  {critical/other existing credit, unknown, no c...   \n",
       "skilled                    {critical/other existing credit, unknown, no c...   \n",
       "unemp/unskilled non res    {existing paid, critical/other existing credit...   \n",
       "unskilled resident         {critical/other existing credit, unknown, no c...   \n",
       "\n",
       "                                                                  employment  \\\n",
       "                                                                  <lambda_0>   \n",
       "job                                                                            \n",
       "high qualif/self emp/mgmt  unemployed,>=7,1<=X<4,unemployed,>=7,4<=X<7,1<...   \n",
       "skilled                    >=7,<1,>=7,>=7,<1,<1,1<=X<4,1<=X<4,4<=X<7,4<=X...   \n",
       "unemp/unskilled non res    unemployed,unemployed,<1,1<=X<4,unemployed,<1,...   \n",
       "unskilled resident         >=7,1<=X<4,<1,1<=X<4,4<=X<7,<1,<1,1<=X<4,>=7,1...   \n",
       "\n",
       "                                                                  \\\n",
       "                                                      <lambda_1>   \n",
       "job                                                                \n",
       "high qualif/self emp/mgmt  {1<=X<4, unemployed, <1, >=7, 4<=X<7}   \n",
       "skilled                    {1<=X<4, unemployed, <1, >=7, 4<=X<7}   \n",
       "unemp/unskilled non res                 {<1, 1<=X<4, unemployed}   \n",
       "unskilled resident                     {<1, >=7, 1<=X<4, 4<=X<7}   \n",
       "\n",
       "                                                             personal_status  \\\n",
       "                                                                  <lambda_0>   \n",
       "job                                                                            \n",
       "high qualif/self emp/mgmt  male single,male single,male single,female div...   \n",
       "skilled                    male div/sep,female div/dep/mar,male single,ma...   \n",
       "unemp/unskilled non res    female div/dep/mar,female div/dep/mar,female d...   \n",
       "unskilled resident         male mar/wid,male single,male single,female di...   \n",
       "\n",
       "                                                                              \\\n",
       "                                                                  <lambda_1>   \n",
       "job                                                                            \n",
       "high qualif/self emp/mgmt  {female div/dep/mar, male div/sep, male mar/wi...   \n",
       "skilled                    {female div/dep/mar, male div/sep, male mar/wi...   \n",
       "unemp/unskilled non res      {female div/dep/mar, male mar/wid, male single}   \n",
       "unskilled resident         {female div/dep/mar, male div/sep, male mar/wi...   \n",
       "\n",
       "                                                          property_magnitude  \\\n",
       "                                                                  <lambda_0>   \n",
       "job                                                                            \n",
       "high qualif/self emp/mgmt  life insurance,car,no known property,life insu...   \n",
       "skilled                    car,life insurance,no known property,real esta...   \n",
       "unemp/unskilled non res    real estate,life insurance,no known property,r...   \n",
       "unskilled resident         real estate,life insurance,real estate,real es...   \n",
       "\n",
       "                                                                              \\\n",
       "                                                                  <lambda_1>   \n",
       "job                                                                            \n",
       "high qualif/self emp/mgmt  {real estate, car, no known property, life ins...   \n",
       "skilled                    {real estate, car, no known property, life ins...   \n",
       "unemp/unskilled non res    {real estate, car, no known property, life ins...   \n",
       "unskilled resident         {real estate, car, no known property, life ins...   \n",
       "\n",
       "                                                                     housing  \\\n",
       "                                                                  <lambda_0>   \n",
       "job                                                                            \n",
       "high qualif/self emp/mgmt  own,own,for free,own,for free,own,own,rent,for...   \n",
       "skilled                    own,own,for free,own,own,rent,own,own,own,rent...   \n",
       "unemp/unskilled non res    own,own,own,own,for free,own,rent,rent,own,own...   \n",
       "unskilled resident         own,own,own,own,own,own,own,own,own,own,own,ow...   \n",
       "\n",
       "                                                  \\\n",
       "                                      <lambda_1>   \n",
       "job                                                \n",
       "high qualif/self emp/mgmt  {own, for free, rent}   \n",
       "skilled                    {own, for free, rent}   \n",
       "unemp/unskilled non res    {own, for free, rent}   \n",
       "unskilled resident         {own, for free, rent}   \n",
       "\n",
       "                                                               own_telephone  \\\n",
       "                                                                  <lambda_0>   \n",
       "job                                                                            \n",
       "high qualif/self emp/mgmt  yes,yes,yes,yes,none,yes,yes,yes,yes,yes,yes,y...   \n",
       "skilled                    yes,none,none,none,none,none,yes,none,none,yes...   \n",
       "unemp/unskilled non res    none,none,none,none,none,none,none,none,none,y...   \n",
       "unskilled resident         none,none,none,none,none,yes,none,none,none,no...   \n",
       "\n",
       "                                        \\\n",
       "                            <lambda_1>   \n",
       "job                                      \n",
       "high qualif/self emp/mgmt  {yes, none}   \n",
       "skilled                    {yes, none}   \n",
       "unemp/unskilled non res    {yes, none}   \n",
       "unskilled resident         {yes, none}   \n",
       "\n",
       "                                                              foreign_worker  \\\n",
       "                                                                  <lambda_0>   \n",
       "job                                                                            \n",
       "high qualif/self emp/mgmt  yes,yes,yes,yes,yes,yes,yes,yes,yes,yes,yes,ye...   \n",
       "skilled                    yes,yes,yes,yes,yes,yes,yes,yes,yes,yes,yes,ye...   \n",
       "unemp/unskilled non res           yes,yes,yes,no,yes,yes,yes,yes,yes,yes,yes   \n",
       "unskilled resident         yes,yes,no,yes,yes,yes,yes,yes,yes,yes,yes,yes...   \n",
       "\n",
       "                                      \\\n",
       "                          <lambda_1>   \n",
       "job                                    \n",
       "high qualif/self emp/mgmt  {yes, no}   \n",
       "skilled                    {yes, no}   \n",
       "unemp/unskilled non res    {yes, no}   \n",
       "unskilled resident         {yes, no}   \n",
       "\n",
       "                                                                       class  \\\n",
       "                                                                  <lambda_0>   \n",
       "job                                                                            \n",
       "high qualif/self emp/mgmt  bad,good,good,good,bad,good,good,good,good,bad...   \n",
       "skilled                    good,bad,good,good,bad,bad,good,good,bad,good,...   \n",
       "unemp/unskilled non res    bad,good,good,good,good,good,good,bad,good,goo...   \n",
       "unskilled resident         good,bad,good,good,good,good,good,bad,good,bad...   \n",
       "\n",
       "                                        \n",
       "                            <lambda_1>  \n",
       "job                                     \n",
       "high qualif/self emp/mgmt  {bad, good}  \n",
       "skilled                    {good, bad}  \n",
       "unemp/unskilled non res    {bad, good}  \n",
       "unskilled resident         {good, bad}  "
      ]
     },
     "execution_count": 64,
     "metadata": {},
     "output_type": "execute_result"
    }
   ],
   "source": [
    "time credit_df.groupby(['job']).agg([lambda x: ','.join(x), lambda x: set(x)])"
   ]
  },
  {
   "cell_type": "code",
   "execution_count": 68,
   "metadata": {},
   "outputs": [
    {
     "data": {
      "text/plain": [
       "'a'"
      ]
     },
     "execution_count": 68,
     "metadata": {},
     "output_type": "execute_result"
    }
   ],
   "source": [
    "set(['a', 'a']).pop()"
   ]
  },
  {
   "cell_type": "code",
   "execution_count": 62,
   "metadata": {},
   "outputs": [
    {
     "name": "stdout",
     "output_type": "stream",
     "text": [
      "CPU times: user 1.6 ms, sys: 207 µs, total: 1.81 ms\n",
      "Wall time: 1.64 ms\n"
     ]
    },
    {
     "data": {
      "text/plain": [
       "job\n",
       "high qualif/self emp/mgmt    0<=X<200,no checking,no checking,<0,<0,0<=X<20...\n",
       "skilled                      >=200,<0,<0,>=200,0<=X<200,<0,>=200,no checkin...\n",
       "unemp/unskilled non res      <0,no checking,0<=X<200,>=200,>=200,0<=X<200,0...\n",
       "unskilled resident           0<=X<200,no checking,<0,0<=X<200,no checking,<...\n",
       "Name: checking_status, dtype: object"
      ]
     },
     "execution_count": 62,
     "metadata": {},
     "output_type": "execute_result"
    }
   ],
   "source": [
    "time credit_df.groupby(['job'])['checking_status'].apply(lambda x: ','.join(x))"
   ]
  },
  {
   "cell_type": "code",
   "execution_count": null,
   "metadata": {},
   "outputs": [],
   "source": []
  }
 ],
 "metadata": {
  "kernelspec": {
   "display_name": "Python 3",
   "language": "python",
   "name": "python3"
  },
  "language_info": {
   "codemirror_mode": {
    "name": "ipython",
    "version": 3
   },
   "file_extension": ".py",
   "mimetype": "text/x-python",
   "name": "python",
   "nbconvert_exporter": "python",
   "pygments_lexer": "ipython3",
   "version": "3.7.9"
  }
 },
 "nbformat": 4,
 "nbformat_minor": 4
}