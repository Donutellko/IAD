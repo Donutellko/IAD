{
 "cells": [
  {
   "cell_type": "code",
   "execution_count": 1,
   "metadata": {},
   "outputs": [],
   "source": [
    "import numpy as np\n",
    "import pandas as pd\n",
    "import matplotlib.pyplot as plt\n",
    "import seaborn as sns\n",
    "import warnings\n",
    "\n",
    "from sklearn.metrics import matthews_corrcoef\n",
    "from sklearn.linear_model import LinearRegression, Lasso, Ridge, LassoCV, RidgeCV\n",
    "from sklearn.ensemble import RandomForestRegressor\n",
    "from sklearn.metrics import classification_report, plot_confusion_matrix\n",
    "\n",
    "\n",
    "warnings.filterwarnings(\"ignore\")\n",
    "np.set_printoptions(precision=3)\n",
    "pd.set_option('precision', 3)"
   ]
  },
  {
   "cell_type": "markdown",
   "metadata": {},
   "source": [
    "### Клиенты телекоммуникационной компании \n",
    "\n",
    "У вас есть набор данных от некой телекоммуникационной компании. Данные содержат информацию о пользователях компании, их демографических характеристиках, услугах, которыми они пользуются, продолжительности пользования услугами компании, способе оплаты и размере оплаты.\n",
    "\n",
    "Задача состоит в том, чтобы проанализировать данные и спрогнозировать отток пользователей (выявить людей, которые будут и не будут продлевать свой контракт с компанией).\n",
    "\n",
    "\n",
    "Gender - пол (male / female) <br>\n",
    "Senior - пенсионер или нет (1, 0)<br>\n",
    "Married - состоит ли в браке (Yes, No) <br>\n",
    "Tenure - сколько месяцев человек является клиентом компании<br>\n",
    "Phone - подключен ли телефон (Yes, No)<br>\n",
    "MultiplePhone - подключено ли несколько телефонных каналов (Yes, No, No phone service)<br>\n",
    "Internet - предоставляются ли услуги интернет соединения (DSL, Fiber optic, No)<br>\n",
    "Security - подключен ли сервис интернет-безопасности (Yes, No, No internet service)<br>\n",
    "Backup - активирована ли служба онлайн-резервного копирования (Yes, No, No internet service)<br>\n",
    "Insurance - есть ли у клиента страховка оборудования (Yes, No, No internet service)<br>\n",
    "Support - подключена ли служба технической поддержки (Yes, No, No internet service)<br>\n",
    "TV - подключена ли служба потокового телевидения (Yes, No, No internet service)<br>\n",
    "Movies - активирован ли сервис потокового кино (Yes, No, No internet service)<br>\n",
    "Contract - тип клиентского контракта (Month-to-month, One year, Two year)<br>\n",
    "EBilling - использует ли клиент безбумажный биллинг (Yes, No)<br>\n",
    "PaymentMethod - способ оплаты (Electronic check, Mailed check, Bank transfer (automatic), Credit card (automatic))<br>\n",
    "MonthlyCharges - текущий ежемесячный платеж<br>\n",
    "TotalCharges - общая сумма, которую клиент заплатил за услуги за все время<br>\n",
    "Churn - покинул ли клиент компанию (Yes or No)<br>\n"
   ]
  },
  {
   "cell_type": "code",
   "execution_count": 2,
   "metadata": {},
   "outputs": [
    {
     "data": {
      "text/html": [
       "<div>\n",
       "<style scoped>\n",
       "    .dataframe tbody tr th:only-of-type {\n",
       "        vertical-align: middle;\n",
       "    }\n",
       "\n",
       "    .dataframe tbody tr th {\n",
       "        vertical-align: top;\n",
       "    }\n",
       "\n",
       "    .dataframe thead th {\n",
       "        text-align: right;\n",
       "    }\n",
       "</style>\n",
       "<table border=\"1\" class=\"dataframe\">\n",
       "  <thead>\n",
       "    <tr style=\"text-align: right;\">\n",
       "      <th></th>\n",
       "      <th>Gender</th>\n",
       "      <th>Senior</th>\n",
       "      <th>Married</th>\n",
       "      <th>Dependents</th>\n",
       "      <th>Tenure</th>\n",
       "      <th>Phone</th>\n",
       "      <th>MultiplePhones</th>\n",
       "      <th>Internet</th>\n",
       "      <th>Security</th>\n",
       "      <th>Backup</th>\n",
       "      <th>Insurance</th>\n",
       "      <th>Support</th>\n",
       "      <th>TV</th>\n",
       "      <th>Movies</th>\n",
       "      <th>Contract</th>\n",
       "      <th>EBilling</th>\n",
       "      <th>PaymentMethod</th>\n",
       "      <th>MonthlyCharges</th>\n",
       "      <th>TotalCharges</th>\n",
       "      <th>Churn</th>\n",
       "    </tr>\n",
       "    <tr>\n",
       "      <th>Index</th>\n",
       "      <th></th>\n",
       "      <th></th>\n",
       "      <th></th>\n",
       "      <th></th>\n",
       "      <th></th>\n",
       "      <th></th>\n",
       "      <th></th>\n",
       "      <th></th>\n",
       "      <th></th>\n",
       "      <th></th>\n",
       "      <th></th>\n",
       "      <th></th>\n",
       "      <th></th>\n",
       "      <th></th>\n",
       "      <th></th>\n",
       "      <th></th>\n",
       "      <th></th>\n",
       "      <th></th>\n",
       "      <th></th>\n",
       "      <th></th>\n",
       "    </tr>\n",
       "  </thead>\n",
       "  <tbody>\n",
       "    <tr>\n",
       "      <th>0</th>\n",
       "      <td>Female</td>\n",
       "      <td>0</td>\n",
       "      <td>Yes</td>\n",
       "      <td>Yes</td>\n",
       "      <td>67</td>\n",
       "      <td>No</td>\n",
       "      <td>No phone service</td>\n",
       "      <td>DSL</td>\n",
       "      <td>Yes</td>\n",
       "      <td>Yes</td>\n",
       "      <td>Yes</td>\n",
       "      <td>Yes</td>\n",
       "      <td>Yes</td>\n",
       "      <td>No</td>\n",
       "      <td>Two year</td>\n",
       "      <td>No</td>\n",
       "      <td>Credit card (automatic)</td>\n",
       "      <td>54.20</td>\n",
       "      <td>3623.95</td>\n",
       "      <td>False</td>\n",
       "    </tr>\n",
       "    <tr>\n",
       "      <th>1</th>\n",
       "      <td>Female</td>\n",
       "      <td>0</td>\n",
       "      <td>No</td>\n",
       "      <td>No</td>\n",
       "      <td>34</td>\n",
       "      <td>Yes</td>\n",
       "      <td>Yes</td>\n",
       "      <td>DSL</td>\n",
       "      <td>Yes</td>\n",
       "      <td>Yes</td>\n",
       "      <td>No</td>\n",
       "      <td>Yes</td>\n",
       "      <td>No</td>\n",
       "      <td>No</td>\n",
       "      <td>One year</td>\n",
       "      <td>Yes</td>\n",
       "      <td>Mailed check</td>\n",
       "      <td>64.40</td>\n",
       "      <td>2088.75</td>\n",
       "      <td>True</td>\n",
       "    </tr>\n",
       "    <tr>\n",
       "      <th>2</th>\n",
       "      <td>Female</td>\n",
       "      <td>1</td>\n",
       "      <td>Yes</td>\n",
       "      <td>No</td>\n",
       "      <td>72</td>\n",
       "      <td>Yes</td>\n",
       "      <td>Yes</td>\n",
       "      <td>Fiber optic</td>\n",
       "      <td>Yes</td>\n",
       "      <td>Yes</td>\n",
       "      <td>Yes</td>\n",
       "      <td>Yes</td>\n",
       "      <td>No</td>\n",
       "      <td>No</td>\n",
       "      <td>Two year</td>\n",
       "      <td>Yes</td>\n",
       "      <td>Bank transfer (automatic)</td>\n",
       "      <td>96.60</td>\n",
       "      <td>6827.5</td>\n",
       "      <td>False</td>\n",
       "    </tr>\n",
       "    <tr>\n",
       "      <th>3</th>\n",
       "      <td>Female</td>\n",
       "      <td>0</td>\n",
       "      <td>Yes</td>\n",
       "      <td>Yes</td>\n",
       "      <td>63</td>\n",
       "      <td>Yes</td>\n",
       "      <td>No</td>\n",
       "      <td>DSL</td>\n",
       "      <td>Yes</td>\n",
       "      <td>Yes</td>\n",
       "      <td>Yes</td>\n",
       "      <td>Yes</td>\n",
       "      <td>No</td>\n",
       "      <td>No</td>\n",
       "      <td>Two year</td>\n",
       "      <td>No</td>\n",
       "      <td>Mailed check</td>\n",
       "      <td>63.55</td>\n",
       "      <td>4014.2</td>\n",
       "      <td>False</td>\n",
       "    </tr>\n",
       "    <tr>\n",
       "      <th>4</th>\n",
       "      <td>Male</td>\n",
       "      <td>0</td>\n",
       "      <td>Yes</td>\n",
       "      <td>Yes</td>\n",
       "      <td>69</td>\n",
       "      <td>Yes</td>\n",
       "      <td>Yes</td>\n",
       "      <td>Fiber optic</td>\n",
       "      <td>No</td>\n",
       "      <td>Yes</td>\n",
       "      <td>Yes</td>\n",
       "      <td>No</td>\n",
       "      <td>Yes</td>\n",
       "      <td>No</td>\n",
       "      <td>One year</td>\n",
       "      <td>No</td>\n",
       "      <td>Credit card (automatic)</td>\n",
       "      <td>95.75</td>\n",
       "      <td>6511.25</td>\n",
       "      <td>False</td>\n",
       "    </tr>\n",
       "  </tbody>\n",
       "</table>\n",
       "</div>"
      ],
      "text/plain": [
       "       Gender  Senior Married Dependents  Tenure Phone    MultiplePhones  \\\n",
       "Index                                                                      \n",
       "0      Female       0     Yes        Yes      67    No  No phone service   \n",
       "1      Female       0      No         No      34   Yes               Yes   \n",
       "2      Female       1     Yes         No      72   Yes               Yes   \n",
       "3      Female       0     Yes        Yes      63   Yes                No   \n",
       "4        Male       0     Yes        Yes      69   Yes               Yes   \n",
       "\n",
       "          Internet Security Backup Insurance Support   TV Movies  Contract  \\\n",
       "Index                                                                        \n",
       "0              DSL      Yes    Yes       Yes     Yes  Yes     No  Two year   \n",
       "1              DSL      Yes    Yes        No     Yes   No     No  One year   \n",
       "2      Fiber optic      Yes    Yes       Yes     Yes   No     No  Two year   \n",
       "3              DSL      Yes    Yes       Yes     Yes   No     No  Two year   \n",
       "4      Fiber optic       No    Yes       Yes      No  Yes     No  One year   \n",
       "\n",
       "      EBilling              PaymentMethod  MonthlyCharges TotalCharges  Churn  \n",
       "Index                                                                          \n",
       "0           No    Credit card (automatic)           54.20      3623.95  False  \n",
       "1          Yes               Mailed check           64.40      2088.75   True  \n",
       "2          Yes  Bank transfer (automatic)           96.60       6827.5  False  \n",
       "3           No               Mailed check           63.55       4014.2  False  \n",
       "4           No    Credit card (automatic)           95.75      6511.25  False  "
      ]
     },
     "execution_count": 2,
     "metadata": {},
     "output_type": "execute_result"
    }
   ],
   "source": [
    "test_data = pd.read_csv('test.csv', index_col=0)\n",
    "data = pd.read_csv('train.csv', index_col=0)\n",
    "data.head(5)"
   ]
  },
  {
   "cell_type": "code",
   "execution_count": null,
   "metadata": {},
   "outputs": [],
   "source": []
  },
  {
   "cell_type": "code",
   "execution_count": 3,
   "metadata": {},
   "outputs": [
    {
     "name": "stdout",
     "output_type": "stream",
     "text": [
      "<class 'pandas.core.frame.DataFrame'>\n",
      "Int64Index: 3591 entries, 0 to 3590\n",
      "Data columns (total 20 columns):\n",
      " #   Column          Non-Null Count  Dtype  \n",
      "---  ------          --------------  -----  \n",
      " 0   Gender          3591 non-null   object \n",
      " 1   Senior          3591 non-null   int64  \n",
      " 2   Married         3591 non-null   object \n",
      " 3   Dependents      3591 non-null   object \n",
      " 4   Tenure          3591 non-null   int64  \n",
      " 5   Phone           3591 non-null   object \n",
      " 6   MultiplePhones  3591 non-null   object \n",
      " 7   Internet        3591 non-null   object \n",
      " 8   Security        3591 non-null   object \n",
      " 9   Backup          3591 non-null   object \n",
      " 10  Insurance       3591 non-null   object \n",
      " 11  Support         3591 non-null   object \n",
      " 12  TV              3591 non-null   object \n",
      " 13  Movies          3591 non-null   object \n",
      " 14  Contract        3591 non-null   object \n",
      " 15  EBilling        3591 non-null   object \n",
      " 16  PaymentMethod   3591 non-null   object \n",
      " 17  MonthlyCharges  3591 non-null   float64\n",
      " 18  TotalCharges    3591 non-null   object \n",
      " 19  Churn           3591 non-null   bool   \n",
      "dtypes: bool(1), float64(1), int64(2), object(16)\n",
      "memory usage: 564.6+ KB\n"
     ]
    }
   ],
   "source": [
    "data.info()"
   ]
  },
  {
   "cell_type": "code",
   "execution_count": null,
   "metadata": {},
   "outputs": [],
   "source": []
  },
  {
   "cell_type": "code",
   "execution_count": null,
   "metadata": {},
   "outputs": [],
   "source": []
  },
  {
   "cell_type": "code",
   "execution_count": null,
   "metadata": {},
   "outputs": [],
   "source": []
  },
  {
   "cell_type": "markdown",
   "metadata": {},
   "source": [
    "# Поиск выбросов"
   ]
  },
  {
   "cell_type": "code",
   "execution_count": 4,
   "metadata": {},
   "outputs": [
    {
     "name": "stdout",
     "output_type": "stream",
     "text": [
      "Gender : 2 \n",
      " ['Female' 'Male'] \n",
      "\n",
      "Senior : 2 \n",
      " [0 1] \n",
      "\n",
      "Married : 2 \n",
      " ['Yes' 'No'] \n",
      "\n",
      "Dependents : 2 \n",
      " ['Yes' 'No'] \n",
      "\n",
      "Tenure : 73 \n",
      " [67 34 72 63 69  3 68  2 19 41 54 36 10 12 18 38 65  8  9 35 44  1 16 70\n",
      " 57 47 33 24 55 43 11 71 60 15  7 66 17 58 23  6 14 48 39 50 13 52 27 37\n",
      " 26  5 30 51 29 46 45 49 21 56 22 64 25 61  4 53 32 40 28 59 62 31 20 42\n",
      "  0] \n",
      "\n",
      "Phone : 2 \n",
      " ['No' 'Yes'] \n",
      "\n",
      "MultiplePhones : 3 \n",
      " ['No phone service' 'Yes' 'No'] \n",
      "\n",
      "Internet : 3 \n",
      " ['DSL' 'Fiber optic' 'No'] \n",
      "\n",
      "Security : 3 \n",
      " ['Yes' 'No' 'No internet service'] \n",
      "\n",
      "Backup : 3 \n",
      " ['Yes' 'No' 'No internet service'] \n",
      "\n",
      "Insurance : 3 \n",
      " ['Yes' 'No' 'No internet service'] \n",
      "\n",
      "Support : 3 \n",
      " ['Yes' 'No' 'No internet service'] \n",
      "\n",
      "TV : 3 \n",
      " ['Yes' 'No' 'No internet service'] \n",
      "\n",
      "Movies : 3 \n",
      " ['No' 'Yes' 'No internet service'] \n",
      "\n",
      "Contract : 3 \n",
      " ['Two year' 'One year' 'Month-to-month'] \n",
      "\n",
      "EBilling : 2 \n",
      " ['No' 'Yes'] \n",
      "\n",
      "PaymentMethod : 4 \n",
      " ['Credit card (automatic)' 'Mailed check' 'Bank transfer (automatic)'\n",
      " 'Electronic check'] \n",
      "\n",
      "MonthlyCharges : 1293 \n",
      " [ 54.2   64.4   96.6  ... 114.35  41.35  58.35] \n",
      "\n",
      "TotalCharges : 3425 \n",
      " ['3623.95' '2088.75' '6827.5' ... '5762.95' '740.55' '572.85'] \n",
      "\n",
      "Churn : 2 \n",
      " [False  True] \n",
      "\n"
     ]
    }
   ],
   "source": [
    "# признак  | значения\n",
    "def printValues(data = data):\n",
    "    for col in data: #[['model', 'transmission', 'fuelType']]:\n",
    "        values = data[col].unique()\n",
    "        str_values = str(values)\n",
    "        if len(str_values) > 300:\n",
    "            str_values = str_values[:200] + '...'\n",
    "        print(col, ':', len(values), '\\n', str_values, '\\n')\n",
    "        \n",
    "printValues()"
   ]
  },
  {
   "cell_type": "code",
   "execution_count": null,
   "metadata": {},
   "outputs": [],
   "source": []
  },
  {
   "cell_type": "code",
   "execution_count": null,
   "metadata": {},
   "outputs": [],
   "source": []
  },
  {
   "cell_type": "markdown",
   "metadata": {},
   "source": [
    "## Проверка валидности 'No internet service'"
   ]
  },
  {
   "cell_type": "code",
   "execution_count": 5,
   "metadata": {},
   "outputs": [],
   "source": [
    "NO_INTERNET_SERVICE = 'No internet service'\n",
    "\n",
    "no_internet_rows = (data['Security'] == NO_INTERNET_SERVICE) | \\\n",
    "    (data['Backup'] == NO_INTERNET_SERVICE) | \\\n",
    "    (data['Insurance'] == NO_INTERNET_SERVICE) | \\\n",
    "    (data['Security'] == NO_INTERNET_SERVICE) | \\\n",
    "    (data['Support'] == NO_INTERNET_SERVICE) | \\\n",
    "    (data['TV'] == NO_INTERNET_SERVICE) | \\\n",
    "    (data['Movies'] == NO_INTERNET_SERVICE)\n",
    "    \n",
    "assert len(data[data['Internet'] == 'No'][~no_internet_rows]) == 0\n",
    "assert len(data[data['Internet'] != 'No'][no_internet_rows]) == 0\n"
   ]
  },
  {
   "cell_type": "code",
   "execution_count": null,
   "metadata": {},
   "outputs": [],
   "source": []
  },
  {
   "cell_type": "code",
   "execution_count": null,
   "metadata": {},
   "outputs": [],
   "source": []
  },
  {
   "cell_type": "markdown",
   "metadata": {},
   "source": [
    "# Подготовка данных\n"
   ]
  },
  {
   "cell_type": "markdown",
   "metadata": {},
   "source": [
    "## Замена на 0/1"
   ]
  },
  {
   "cell_type": "code",
   "execution_count": null,
   "metadata": {},
   "outputs": [],
   "source": []
  },
  {
   "cell_type": "code",
   "execution_count": 6,
   "metadata": {},
   "outputs": [],
   "source": [
    "def toBoolean(cols, true = 'Yes'):\n",
    "    for col in cols:\n",
    "        if data[col].dtype != int:\n",
    "            data[col] = ((data[col] == 'Yes')).astype(int)"
   ]
  },
  {
   "cell_type": "code",
   "execution_count": 7,
   "metadata": {},
   "outputs": [],
   "source": [
    "# toBoolean(['Gender'], true='Male')\n",
    "# toBoolean(['Married', 'Dependents', 'Phone', 'EBilling'], true='Yes')"
   ]
  },
  {
   "cell_type": "code",
   "execution_count": 8,
   "metadata": {},
   "outputs": [
    {
     "name": "stdout",
     "output_type": "stream",
     "text": [
      "Gender : 2 \n",
      " ['Female' 'Male'] \n",
      "\n",
      "Senior : 2 \n",
      " [0 1] \n",
      "\n",
      "Married : 2 \n",
      " ['Yes' 'No'] \n",
      "\n",
      "Dependents : 2 \n",
      " ['Yes' 'No'] \n",
      "\n",
      "Tenure : 73 \n",
      " [67 34 72 63 69  3 68  2 19 41 54 36 10 12 18 38 65  8  9 35 44  1 16 70\n",
      " 57 47 33 24 55 43 11 71 60 15  7 66 17 58 23  6 14 48 39 50 13 52 27 37\n",
      " 26  5 30 51 29 46 45 49 21 56 22 64 25 61  4 53 32 40 28 59 62 31 20 42\n",
      "  0] \n",
      "\n",
      "Phone : 2 \n",
      " ['No' 'Yes'] \n",
      "\n",
      "MultiplePhones : 3 \n",
      " ['No phone service' 'Yes' 'No'] \n",
      "\n",
      "Internet : 3 \n",
      " ['DSL' 'Fiber optic' 'No'] \n",
      "\n",
      "Security : 3 \n",
      " ['Yes' 'No' 'No internet service'] \n",
      "\n",
      "Backup : 3 \n",
      " ['Yes' 'No' 'No internet service'] \n",
      "\n",
      "Insurance : 3 \n",
      " ['Yes' 'No' 'No internet service'] \n",
      "\n",
      "Support : 3 \n",
      " ['Yes' 'No' 'No internet service'] \n",
      "\n",
      "TV : 3 \n",
      " ['Yes' 'No' 'No internet service'] \n",
      "\n",
      "Movies : 3 \n",
      " ['No' 'Yes' 'No internet service'] \n",
      "\n",
      "Contract : 3 \n",
      " ['Two year' 'One year' 'Month-to-month'] \n",
      "\n",
      "EBilling : 2 \n",
      " ['No' 'Yes'] \n",
      "\n",
      "PaymentMethod : 4 \n",
      " ['Credit card (automatic)' 'Mailed check' 'Bank transfer (automatic)'\n",
      " 'Electronic check'] \n",
      "\n",
      "MonthlyCharges : 1293 \n",
      " [ 54.2   64.4   96.6  ... 114.35  41.35  58.35] \n",
      "\n",
      "TotalCharges : 3425 \n",
      " ['3623.95' '2088.75' '6827.5' ... '5762.95' '740.55' '572.85'] \n",
      "\n",
      "Churn : 2 \n",
      " [False  True] \n",
      "\n"
     ]
    }
   ],
   "source": [
    "printValues()"
   ]
  },
  {
   "cell_type": "code",
   "execution_count": null,
   "metadata": {},
   "outputs": [],
   "source": []
  },
  {
   "cell_type": "code",
   "execution_count": null,
   "metadata": {},
   "outputs": [],
   "source": []
  },
  {
   "cell_type": "code",
   "execution_count": null,
   "metadata": {},
   "outputs": [],
   "source": []
  },
  {
   "cell_type": "code",
   "execution_count": null,
   "metadata": {},
   "outputs": [],
   "source": []
  },
  {
   "cell_type": "code",
   "execution_count": null,
   "metadata": {},
   "outputs": [],
   "source": []
  },
  {
   "cell_type": "code",
   "execution_count": null,
   "metadata": {},
   "outputs": [],
   "source": []
  },
  {
   "cell_type": "code",
   "execution_count": null,
   "metadata": {},
   "outputs": [],
   "source": []
  },
  {
   "cell_type": "code",
   "execution_count": null,
   "metadata": {},
   "outputs": [],
   "source": []
  },
  {
   "cell_type": "code",
   "execution_count": 9,
   "metadata": {},
   "outputs": [
    {
     "data": {
      "text/plain": [
       "<AxesSubplot:>"
      ]
     },
     "execution_count": 9,
     "metadata": {},
     "output_type": "execute_result"
    },
    {
     "data": {
      "image/png": "[encoded data removed]",
      "text/plain": [
       "<Figure size 432x288 with 1 Axes>"
      ]
     },
     "metadata": {
      "needs_background": "light"
     },
     "output_type": "display_data"
    }
   ],
   "source": [
    "data['Churn'].value_counts().plot(kind='bar')"
   ]
  },
  {
   "cell_type": "code",
   "execution_count": 10,
   "metadata": {},
   "outputs": [
    {
     "data": {
      "text/html": [
       "<div>\n",
       "<style scoped>\n",
       "    .dataframe tbody tr th:only-of-type {\n",
       "        vertical-align: middle;\n",
       "    }\n",
       "\n",
       "    .dataframe tbody tr th {\n",
       "        vertical-align: top;\n",
       "    }\n",
       "\n",
       "    .dataframe thead th {\n",
       "        text-align: right;\n",
       "    }\n",
       "</style>\n",
       "<table border=\"1\" class=\"dataframe\">\n",
       "  <thead>\n",
       "    <tr style=\"text-align: right;\">\n",
       "      <th></th>\n",
       "      <th>Senior</th>\n",
       "      <th>Tenure</th>\n",
       "      <th>MonthlyCharges</th>\n",
       "    </tr>\n",
       "    <tr>\n",
       "      <th>Index</th>\n",
       "      <th></th>\n",
       "      <th></th>\n",
       "      <th></th>\n",
       "    </tr>\n",
       "  </thead>\n",
       "  <tbody>\n",
       "    <tr>\n",
       "      <th>743</th>\n",
       "      <td>0</td>\n",
       "      <td>11</td>\n",
       "      <td>96.20</td>\n",
       "    </tr>\n",
       "    <tr>\n",
       "      <th>2593</th>\n",
       "      <td>0</td>\n",
       "      <td>55</td>\n",
       "      <td>50.55</td>\n",
       "    </tr>\n",
       "    <tr>\n",
       "      <th>148</th>\n",
       "      <td>1</td>\n",
       "      <td>47</td>\n",
       "      <td>85.50</td>\n",
       "    </tr>\n",
       "    <tr>\n",
       "      <th>1316</th>\n",
       "      <td>0</td>\n",
       "      <td>70</td>\n",
       "      <td>111.95</td>\n",
       "    </tr>\n",
       "    <tr>\n",
       "      <th>2526</th>\n",
       "      <td>0</td>\n",
       "      <td>42</td>\n",
       "      <td>20.35</td>\n",
       "    </tr>\n",
       "  </tbody>\n",
       "</table>\n",
       "</div>"
      ],
      "text/plain": [
       "       Senior  Tenure  MonthlyCharges\n",
       "Index                                \n",
       "743         0      11           96.20\n",
       "2593        0      55           50.55\n",
       "148         1      47           85.50\n",
       "1316        0      70          111.95\n",
       "2526        0      42           20.35"
      ]
     },
     "execution_count": 10,
     "metadata": {},
     "output_type": "execute_result"
    }
   ],
   "source": [
    "numeric_data = data.select_dtypes(include=np.number)\n",
    "numeric_data.sample(5)"
   ]
  },
  {
   "cell_type": "code",
   "execution_count": 11,
   "metadata": {},
   "outputs": [
    {
     "data": {
      "text/plain": [
       "         6\n",
       "19.55    6\n",
       "20.2     6\n",
       "19.9     4\n",
       "20.05    4\n",
       "20.5     4\n",
       "20.3     4\n",
       "45.3     4\n",
       "24.4     3\n",
       "74.3     3\n",
       "Name: TotalCharges, dtype: int64"
      ]
     },
     "execution_count": 11,
     "metadata": {},
     "output_type": "execute_result"
    }
   ],
   "source": [
    "data.TotalCharges.value_counts().head(10)"
   ]
  },
  {
   "cell_type": "code",
   "execution_count": 12,
   "metadata": {},
   "outputs": [
    {
     "name": "stdout",
     "output_type": "stream",
     "text": [
      "<class 'pandas.core.frame.DataFrame'>\n",
      "Int64Index: 3591 entries, 0 to 3590\n",
      "Data columns (total 20 columns):\n",
      " #   Column          Non-Null Count  Dtype  \n",
      "---  ------          --------------  -----  \n",
      " 0   Gender          3591 non-null   object \n",
      " 1   Senior          3591 non-null   int64  \n",
      " 2   Married         3591 non-null   object \n",
      " 3   Dependents      3591 non-null   object \n",
      " 4   Tenure          3591 non-null   int64  \n",
      " 5   Phone           3591 non-null   object \n",
      " 6   MultiplePhones  3591 non-null   object \n",
      " 7   Internet        3591 non-null   object \n",
      " 8   Security        3591 non-null   object \n",
      " 9   Backup          3591 non-null   object \n",
      " 10  Insurance       3591 non-null   object \n",
      " 11  Support         3591 non-null   object \n",
      " 12  TV              3591 non-null   object \n",
      " 13  Movies          3591 non-null   object \n",
      " 14  Contract        3591 non-null   object \n",
      " 15  EBilling        3591 non-null   object \n",
      " 16  PaymentMethod   3591 non-null   object \n",
      " 17  MonthlyCharges  3591 non-null   float64\n",
      " 18  TotalCharges    3591 non-null   float64\n",
      " 19  Churn           3591 non-null   bool   \n",
      "dtypes: bool(1), float64(2), int64(2), object(15)\n",
      "memory usage: 724.6+ KB\n"
     ]
    }
   ],
   "source": [
    "data.TotalCharges = data.TotalCharges.replace(' ', 0).astype(float)\n",
    "test_data.TotalCharges = test_data.TotalCharges.replace(' ', 0).astype(float)\n",
    "data.info()"
   ]
  },
  {
   "cell_type": "code",
   "execution_count": 13,
   "metadata": {},
   "outputs": [
    {
     "data": {
      "text/html": [
       "<div>\n",
       "<style scoped>\n",
       "    .dataframe tbody tr th:only-of-type {\n",
       "        vertical-align: middle;\n",
       "    }\n",
       "\n",
       "    .dataframe tbody tr th {\n",
       "        vertical-align: top;\n",
       "    }\n",
       "\n",
       "    .dataframe thead th {\n",
       "        text-align: right;\n",
       "    }\n",
       "</style>\n",
       "<table border=\"1\" class=\"dataframe\">\n",
       "  <thead>\n",
       "    <tr style=\"text-align: right;\">\n",
       "      <th></th>\n",
       "      <th>Senior</th>\n",
       "      <th>Tenure</th>\n",
       "      <th>MonthlyCharges</th>\n",
       "      <th>TotalCharges</th>\n",
       "    </tr>\n",
       "    <tr>\n",
       "      <th>Index</th>\n",
       "      <th></th>\n",
       "      <th></th>\n",
       "      <th></th>\n",
       "      <th></th>\n",
       "    </tr>\n",
       "  </thead>\n",
       "  <tbody>\n",
       "    <tr>\n",
       "      <th>842</th>\n",
       "      <td>0</td>\n",
       "      <td>68</td>\n",
       "      <td>25.40</td>\n",
       "      <td>1620.20</td>\n",
       "    </tr>\n",
       "    <tr>\n",
       "      <th>1382</th>\n",
       "      <td>0</td>\n",
       "      <td>31</td>\n",
       "      <td>59.95</td>\n",
       "      <td>1848.80</td>\n",
       "    </tr>\n",
       "    <tr>\n",
       "      <th>3356</th>\n",
       "      <td>0</td>\n",
       "      <td>5</td>\n",
       "      <td>85.30</td>\n",
       "      <td>420.45</td>\n",
       "    </tr>\n",
       "    <tr>\n",
       "      <th>2145</th>\n",
       "      <td>1</td>\n",
       "      <td>44</td>\n",
       "      <td>19.35</td>\n",
       "      <td>847.25</td>\n",
       "    </tr>\n",
       "    <tr>\n",
       "      <th>2203</th>\n",
       "      <td>0</td>\n",
       "      <td>71</td>\n",
       "      <td>115.15</td>\n",
       "      <td>8078.10</td>\n",
       "    </tr>\n",
       "  </tbody>\n",
       "</table>\n",
       "</div>"
      ],
      "text/plain": [
       "       Senior  Tenure  MonthlyCharges  TotalCharges\n",
       "Index                                              \n",
       "842         0      68           25.40       1620.20\n",
       "1382        0      31           59.95       1848.80\n",
       "3356        0       5           85.30        420.45\n",
       "2145        1      44           19.35        847.25\n",
       "2203        0      71          115.15       8078.10"
      ]
     },
     "execution_count": 13,
     "metadata": {},
     "output_type": "execute_result"
    }
   ],
   "source": [
    "numeric_data = data.select_dtypes(include=np.number)\n",
    "numeric_data.sample(5)"
   ]
  },
  {
   "cell_type": "code",
   "execution_count": null,
   "metadata": {},
   "outputs": [],
   "source": []
  },
  {
   "cell_type": "code",
   "execution_count": 14,
   "metadata": {},
   "outputs": [],
   "source": [
    "# новый признак\n",
    "#data['AverageCharges'] = data.TotalCharges / data.Tenure\n",
    "# data['DiffCharges'] = ((data.MonthlyCharges - data.AverageCharges) > 0) + 0\n",
    "def add_priznak(data=data):\n",
    "    data['MarriedDependents'] = ((data.Married == 'Yes') & (data.Dependents == 'Yes')) + 0\n",
    "\n",
    "    data['SeniorDependents'] = ((data.Senior == 1) & (data.Dependents == 'Yes')) + 0\n",
    "    \n",
    "    data['AverageCharges'] = (data.TotalCharges / data.Tenure).fillna(0)\n",
    "    data['DiffCharges'] = (data.MonthlyCharges - (data.TotalCharges / data.Tenure)).fillna(0)\n",
    "    data['DiffChargesSign'] = ((data.MonthlyCharges - (data.TotalCharges / data.Tenure)).fillna(0) > 0) + 1\n",
    "\n",
    "    data['Tenure_0'] = (data.Tenure == 0) + 0\n",
    "    data['Tenure_1'] = (data.Tenure == 1) + 0\n",
    "    data['Tenure_2'] = (data.Tenure == 2) + 0\n",
    "\n",
    "add_priznak(data)\n",
    "add_priznak(test_data)"
   ]
  },
  {
   "cell_type": "code",
   "execution_count": 15,
   "metadata": {},
   "outputs": [],
   "source": [
    "# data['Churn'] = data['Churn'] | (data.SeniorDependents == 1)"
   ]
  },
  {
   "cell_type": "code",
   "execution_count": null,
   "metadata": {},
   "outputs": [],
   "source": []
  },
  {
   "cell_type": "code",
   "execution_count": null,
   "metadata": {},
   "outputs": [],
   "source": []
  },
  {
   "cell_type": "code",
   "execution_count": 16,
   "metadata": {},
   "outputs": [
    {
     "data": {
      "text/html": [
       "<div>\n",
       "<style scoped>\n",
       "    .dataframe tbody tr th:only-of-type {\n",
       "        vertical-align: middle;\n",
       "    }\n",
       "\n",
       "    .dataframe tbody tr th {\n",
       "        vertical-align: top;\n",
       "    }\n",
       "\n",
       "    .dataframe thead th {\n",
       "        text-align: right;\n",
       "    }\n",
       "</style>\n",
       "<table border=\"1\" class=\"dataframe\">\n",
       "  <thead>\n",
       "    <tr style=\"text-align: right;\">\n",
       "      <th></th>\n",
       "      <th>Gender</th>\n",
       "      <th>Senior</th>\n",
       "      <th>Married</th>\n",
       "      <th>Dependents</th>\n",
       "      <th>Tenure</th>\n",
       "      <th>Phone</th>\n",
       "      <th>MultiplePhones</th>\n",
       "      <th>Internet</th>\n",
       "      <th>Security</th>\n",
       "      <th>Backup</th>\n",
       "      <th>...</th>\n",
       "      <th>TotalCharges</th>\n",
       "      <th>Churn</th>\n",
       "      <th>MarriedDependents</th>\n",
       "      <th>SeniorDependents</th>\n",
       "      <th>AverageCharges</th>\n",
       "      <th>DiffCharges</th>\n",
       "      <th>DiffChargesSign</th>\n",
       "      <th>Tenure_0</th>\n",
       "      <th>Tenure_1</th>\n",
       "      <th>Tenure_2</th>\n",
       "    </tr>\n",
       "    <tr>\n",
       "      <th>Index</th>\n",
       "      <th></th>\n",
       "      <th></th>\n",
       "      <th></th>\n",
       "      <th></th>\n",
       "      <th></th>\n",
       "      <th></th>\n",
       "      <th></th>\n",
       "      <th></th>\n",
       "      <th></th>\n",
       "      <th></th>\n",
       "      <th></th>\n",
       "      <th></th>\n",
       "      <th></th>\n",
       "      <th></th>\n",
       "      <th></th>\n",
       "      <th></th>\n",
       "      <th></th>\n",
       "      <th></th>\n",
       "      <th></th>\n",
       "      <th></th>\n",
       "      <th></th>\n",
       "    </tr>\n",
       "  </thead>\n",
       "  <tbody>\n",
       "    <tr>\n",
       "      <th>1302</th>\n",
       "      <td>Male</td>\n",
       "      <td>0</td>\n",
       "      <td>Yes</td>\n",
       "      <td>Yes</td>\n",
       "      <td>0</td>\n",
       "      <td>Yes</td>\n",
       "      <td>No</td>\n",
       "      <td>No</td>\n",
       "      <td>No internet service</td>\n",
       "      <td>No internet service</td>\n",
       "      <td>...</td>\n",
       "      <td>0.0</td>\n",
       "      <td>False</td>\n",
       "      <td>1</td>\n",
       "      <td>0</td>\n",
       "      <td>0.0</td>\n",
       "      <td>0.0</td>\n",
       "      <td>1</td>\n",
       "      <td>1</td>\n",
       "      <td>0</td>\n",
       "      <td>0</td>\n",
       "    </tr>\n",
       "    <tr>\n",
       "      <th>1436</th>\n",
       "      <td>Male</td>\n",
       "      <td>0</td>\n",
       "      <td>No</td>\n",
       "      <td>Yes</td>\n",
       "      <td>0</td>\n",
       "      <td>Yes</td>\n",
       "      <td>No</td>\n",
       "      <td>No</td>\n",
       "      <td>No internet service</td>\n",
       "      <td>No internet service</td>\n",
       "      <td>...</td>\n",
       "      <td>0.0</td>\n",
       "      <td>False</td>\n",
       "      <td>0</td>\n",
       "      <td>0</td>\n",
       "      <td>0.0</td>\n",
       "      <td>0.0</td>\n",
       "      <td>1</td>\n",
       "      <td>1</td>\n",
       "      <td>0</td>\n",
       "      <td>0</td>\n",
       "    </tr>\n",
       "    <tr>\n",
       "      <th>1486</th>\n",
       "      <td>Male</td>\n",
       "      <td>0</td>\n",
       "      <td>Yes</td>\n",
       "      <td>Yes</td>\n",
       "      <td>0</td>\n",
       "      <td>Yes</td>\n",
       "      <td>Yes</td>\n",
       "      <td>No</td>\n",
       "      <td>No internet service</td>\n",
       "      <td>No internet service</td>\n",
       "      <td>...</td>\n",
       "      <td>0.0</td>\n",
       "      <td>False</td>\n",
       "      <td>1</td>\n",
       "      <td>0</td>\n",
       "      <td>0.0</td>\n",
       "      <td>0.0</td>\n",
       "      <td>1</td>\n",
       "      <td>1</td>\n",
       "      <td>0</td>\n",
       "      <td>0</td>\n",
       "    </tr>\n",
       "    <tr>\n",
       "      <th>2578</th>\n",
       "      <td>Female</td>\n",
       "      <td>0</td>\n",
       "      <td>Yes</td>\n",
       "      <td>Yes</td>\n",
       "      <td>0</td>\n",
       "      <td>No</td>\n",
       "      <td>No phone service</td>\n",
       "      <td>DSL</td>\n",
       "      <td>Yes</td>\n",
       "      <td>Yes</td>\n",
       "      <td>...</td>\n",
       "      <td>0.0</td>\n",
       "      <td>False</td>\n",
       "      <td>1</td>\n",
       "      <td>0</td>\n",
       "      <td>0.0</td>\n",
       "      <td>0.0</td>\n",
       "      <td>1</td>\n",
       "      <td>1</td>\n",
       "      <td>0</td>\n",
       "      <td>0</td>\n",
       "    </tr>\n",
       "    <tr>\n",
       "      <th>3037</th>\n",
       "      <td>Female</td>\n",
       "      <td>0</td>\n",
       "      <td>Yes</td>\n",
       "      <td>Yes</td>\n",
       "      <td>0</td>\n",
       "      <td>Yes</td>\n",
       "      <td>No</td>\n",
       "      <td>DSL</td>\n",
       "      <td>Yes</td>\n",
       "      <td>Yes</td>\n",
       "      <td>...</td>\n",
       "      <td>0.0</td>\n",
       "      <td>False</td>\n",
       "      <td>1</td>\n",
       "      <td>0</td>\n",
       "      <td>0.0</td>\n",
       "      <td>0.0</td>\n",
       "      <td>1</td>\n",
       "      <td>1</td>\n",
       "      <td>0</td>\n",
       "      <td>0</td>\n",
       "    </tr>\n",
       "    <tr>\n",
       "      <th>3247</th>\n",
       "      <td>Female</td>\n",
       "      <td>0</td>\n",
       "      <td>Yes</td>\n",
       "      <td>Yes</td>\n",
       "      <td>0</td>\n",
       "      <td>No</td>\n",
       "      <td>No phone service</td>\n",
       "      <td>DSL</td>\n",
       "      <td>Yes</td>\n",
       "      <td>No</td>\n",
       "      <td>...</td>\n",
       "      <td>0.0</td>\n",
       "      <td>False</td>\n",
       "      <td>1</td>\n",
       "      <td>0</td>\n",
       "      <td>0.0</td>\n",
       "      <td>0.0</td>\n",
       "      <td>1</td>\n",
       "      <td>1</td>\n",
       "      <td>0</td>\n",
       "      <td>0</td>\n",
       "    </tr>\n",
       "  </tbody>\n",
       "</table>\n",
       "<p>6 rows × 28 columns</p>\n",
       "</div>"
      ],
      "text/plain": [
       "       Gender  Senior Married Dependents  Tenure Phone    MultiplePhones  \\\n",
       "Index                                                                      \n",
       "1302     Male       0     Yes        Yes       0   Yes                No   \n",
       "1436     Male       0      No        Yes       0   Yes                No   \n",
       "1486     Male       0     Yes        Yes       0   Yes               Yes   \n",
       "2578   Female       0     Yes        Yes       0    No  No phone service   \n",
       "3037   Female       0     Yes        Yes       0   Yes                No   \n",
       "3247   Female       0     Yes        Yes       0    No  No phone service   \n",
       "\n",
       "      Internet             Security               Backup  ... TotalCharges  \\\n",
       "Index                                                     ...                \n",
       "1302        No  No internet service  No internet service  ...          0.0   \n",
       "1436        No  No internet service  No internet service  ...          0.0   \n",
       "1486        No  No internet service  No internet service  ...          0.0   \n",
       "2578       DSL                  Yes                  Yes  ...          0.0   \n",
       "3037       DSL                  Yes                  Yes  ...          0.0   \n",
       "3247       DSL                  Yes                   No  ...          0.0   \n",
       "\n",
       "       Churn MarriedDependents SeniorDependents AverageCharges DiffCharges  \\\n",
       "Index                                                                        \n",
       "1302   False                 1                0            0.0         0.0   \n",
       "1436   False                 0                0            0.0         0.0   \n",
       "1486   False                 1                0            0.0         0.0   \n",
       "2578   False                 1                0            0.0         0.0   \n",
       "3037   False                 1                0            0.0         0.0   \n",
       "3247   False                 1                0            0.0         0.0   \n",
       "\n",
       "      DiffChargesSign  Tenure_0  Tenure_1  Tenure_2  \n",
       "Index                                                \n",
       "1302                1         1         0         0  \n",
       "1436                1         1         0         0  \n",
       "1486                1         1         0         0  \n",
       "2578                1         1         0         0  \n",
       "3037                1         1         0         0  \n",
       "3247                1         1         0         0  \n",
       "\n",
       "[6 rows x 28 columns]"
      ]
     },
     "execution_count": 16,
     "metadata": {},
     "output_type": "execute_result"
    }
   ],
   "source": [
    "data[data.Tenure == 0]"
   ]
  },
  {
   "cell_type": "code",
   "execution_count": 17,
   "metadata": {},
   "outputs": [],
   "source": [
    "replaces = {'Gender': {'Female': 1, 'Male': 0}, \n",
    "                     'Married': {'Yes': 1, 'No': 0}, \n",
    "                     'Dependents': {'Yes': 1, 'No': 0},\n",
    "                     \n",
    "                     'Phone': {'Yes': 1, 'No': 0}, \n",
    "                     'MultiplePhones': {'Yes': 3, 'No': 0, 'No phone service': 1}, \n",
    "                     \n",
    "                     'Internet': {'Fiber optic': 2, 'DSL': 1, 'No': 0},\n",
    "                     'Security': {'Yes': 3, 'No': 0, 'No internet service': 1}, \n",
    "                     'Backup': {'Yes': 3, 'No': 0, 'No internet service': 1}, \n",
    "                     'Insurance': {'Yes': 3, 'No': 0, 'No internet service': 1}, \n",
    "                     'Support': {'Yes': 3, 'No': 0, 'No internet service': 1}, \n",
    "                     'TV': {'Yes': 3, 'No': 0, 'No internet service': 1}, \n",
    "                     'Movies': {'Yes': 3, 'No': 0, 'No internet service': 1}, \n",
    "                     \n",
    "                     'Contract': {'Month-to-month': 1, 'One year': 12, 'Two year': 24}, \n",
    "                     \n",
    "                     'EBilling': {'Yes': 1, 'No': 0},\n",
    "                     'PaymentMethod': {'Electronic check': 1, 'Mailed check': 0, 'Bank transfer (automatic)': 3, 'Credit card (automatic)': 3}\n",
    "                    }\n",
    "\n",
    "data = data.replace(replaces)\n",
    "test_data = test_data.replace(replaces)"
   ]
  },
  {
   "cell_type": "code",
   "execution_count": null,
   "metadata": {},
   "outputs": [],
   "source": []
  },
  {
   "cell_type": "code",
   "execution_count": 18,
   "metadata": {},
   "outputs": [
    {
     "data": {
      "text/html": [
       "<div>\n",
       "<style scoped>\n",
       "    .dataframe tbody tr th:only-of-type {\n",
       "        vertical-align: middle;\n",
       "    }\n",
       "\n",
       "    .dataframe tbody tr th {\n",
       "        vertical-align: top;\n",
       "    }\n",
       "\n",
       "    .dataframe thead th {\n",
       "        text-align: right;\n",
       "    }\n",
       "</style>\n",
       "<table border=\"1\" class=\"dataframe\">\n",
       "  <thead>\n",
       "    <tr style=\"text-align: right;\">\n",
       "      <th></th>\n",
       "      <th>Gender</th>\n",
       "      <th>Senior</th>\n",
       "      <th>Married</th>\n",
       "      <th>Dependents</th>\n",
       "      <th>Tenure</th>\n",
       "      <th>Phone</th>\n",
       "      <th>MultiplePhones</th>\n",
       "      <th>Internet</th>\n",
       "      <th>Security</th>\n",
       "      <th>Backup</th>\n",
       "      <th>...</th>\n",
       "      <th>MonthlyCharges</th>\n",
       "      <th>TotalCharges</th>\n",
       "      <th>MarriedDependents</th>\n",
       "      <th>SeniorDependents</th>\n",
       "      <th>AverageCharges</th>\n",
       "      <th>DiffCharges</th>\n",
       "      <th>DiffChargesSign</th>\n",
       "      <th>Tenure_0</th>\n",
       "      <th>Tenure_1</th>\n",
       "      <th>Tenure_2</th>\n",
       "    </tr>\n",
       "    <tr>\n",
       "      <th>Index</th>\n",
       "      <th></th>\n",
       "      <th></th>\n",
       "      <th></th>\n",
       "      <th></th>\n",
       "      <th></th>\n",
       "      <th></th>\n",
       "      <th></th>\n",
       "      <th></th>\n",
       "      <th></th>\n",
       "      <th></th>\n",
       "      <th></th>\n",
       "      <th></th>\n",
       "      <th></th>\n",
       "      <th></th>\n",
       "      <th></th>\n",
       "      <th></th>\n",
       "      <th></th>\n",
       "      <th></th>\n",
       "      <th></th>\n",
       "      <th></th>\n",
       "      <th></th>\n",
       "    </tr>\n",
       "  </thead>\n",
       "  <tbody>\n",
       "    <tr>\n",
       "      <th>630</th>\n",
       "      <td>1</td>\n",
       "      <td>0</td>\n",
       "      <td>1</td>\n",
       "      <td>0</td>\n",
       "      <td>16</td>\n",
       "      <td>1</td>\n",
       "      <td>3</td>\n",
       "      <td>2</td>\n",
       "      <td>0</td>\n",
       "      <td>3</td>\n",
       "      <td>...</td>\n",
       "      <td>100.00</td>\n",
       "      <td>1534.75</td>\n",
       "      <td>0</td>\n",
       "      <td>0</td>\n",
       "      <td>95.922</td>\n",
       "      <td>4.078</td>\n",
       "      <td>2</td>\n",
       "      <td>0</td>\n",
       "      <td>0</td>\n",
       "      <td>0</td>\n",
       "    </tr>\n",
       "    <tr>\n",
       "      <th>788</th>\n",
       "      <td>1</td>\n",
       "      <td>0</td>\n",
       "      <td>0</td>\n",
       "      <td>0</td>\n",
       "      <td>4</td>\n",
       "      <td>1</td>\n",
       "      <td>3</td>\n",
       "      <td>1</td>\n",
       "      <td>0</td>\n",
       "      <td>0</td>\n",
       "      <td>...</td>\n",
       "      <td>50.70</td>\n",
       "      <td>214.55</td>\n",
       "      <td>0</td>\n",
       "      <td>0</td>\n",
       "      <td>53.638</td>\n",
       "      <td>-2.938</td>\n",
       "      <td>1</td>\n",
       "      <td>0</td>\n",
       "      <td>0</td>\n",
       "      <td>0</td>\n",
       "    </tr>\n",
       "    <tr>\n",
       "      <th>1795</th>\n",
       "      <td>0</td>\n",
       "      <td>0</td>\n",
       "      <td>1</td>\n",
       "      <td>1</td>\n",
       "      <td>35</td>\n",
       "      <td>1</td>\n",
       "      <td>0</td>\n",
       "      <td>2</td>\n",
       "      <td>0</td>\n",
       "      <td>3</td>\n",
       "      <td>...</td>\n",
       "      <td>89.70</td>\n",
       "      <td>3165.60</td>\n",
       "      <td>1</td>\n",
       "      <td>0</td>\n",
       "      <td>90.446</td>\n",
       "      <td>-0.746</td>\n",
       "      <td>1</td>\n",
       "      <td>0</td>\n",
       "      <td>0</td>\n",
       "      <td>0</td>\n",
       "    </tr>\n",
       "    <tr>\n",
       "      <th>307</th>\n",
       "      <td>1</td>\n",
       "      <td>0</td>\n",
       "      <td>1</td>\n",
       "      <td>0</td>\n",
       "      <td>21</td>\n",
       "      <td>1</td>\n",
       "      <td>3</td>\n",
       "      <td>2</td>\n",
       "      <td>0</td>\n",
       "      <td>0</td>\n",
       "      <td>...</td>\n",
       "      <td>86.50</td>\n",
       "      <td>1808.70</td>\n",
       "      <td>0</td>\n",
       "      <td>0</td>\n",
       "      <td>86.129</td>\n",
       "      <td>0.371</td>\n",
       "      <td>2</td>\n",
       "      <td>0</td>\n",
       "      <td>0</td>\n",
       "      <td>0</td>\n",
       "    </tr>\n",
       "    <tr>\n",
       "      <th>2494</th>\n",
       "      <td>1</td>\n",
       "      <td>0</td>\n",
       "      <td>0</td>\n",
       "      <td>0</td>\n",
       "      <td>1</td>\n",
       "      <td>1</td>\n",
       "      <td>0</td>\n",
       "      <td>1</td>\n",
       "      <td>0</td>\n",
       "      <td>0</td>\n",
       "      <td>...</td>\n",
       "      <td>54.75</td>\n",
       "      <td>54.75</td>\n",
       "      <td>0</td>\n",
       "      <td>0</td>\n",
       "      <td>54.750</td>\n",
       "      <td>0.000</td>\n",
       "      <td>1</td>\n",
       "      <td>0</td>\n",
       "      <td>1</td>\n",
       "      <td>0</td>\n",
       "    </tr>\n",
       "  </tbody>\n",
       "</table>\n",
       "<p>5 rows × 27 columns</p>\n",
       "</div>"
      ],
      "text/plain": [
       "       Gender  Senior  Married  Dependents  Tenure  Phone  MultiplePhones  \\\n",
       "Index                                                                       \n",
       "630         1       0        1           0      16      1               3   \n",
       "788         1       0        0           0       4      1               3   \n",
       "1795        0       0        1           1      35      1               0   \n",
       "307         1       0        1           0      21      1               3   \n",
       "2494        1       0        0           0       1      1               0   \n",
       "\n",
       "       Internet  Security  Backup  ...  MonthlyCharges  TotalCharges  \\\n",
       "Index                              ...                                 \n",
       "630           2         0       3  ...          100.00       1534.75   \n",
       "788           1         0       0  ...           50.70        214.55   \n",
       "1795          2         0       3  ...           89.70       3165.60   \n",
       "307           2         0       0  ...           86.50       1808.70   \n",
       "2494          1         0       0  ...           54.75         54.75   \n",
       "\n",
       "       MarriedDependents  SeniorDependents  AverageCharges  DiffCharges  \\\n",
       "Index                                                                     \n",
       "630                    0                 0          95.922        4.078   \n",
       "788                    0                 0          53.638       -2.938   \n",
       "1795                   1                 0          90.446       -0.746   \n",
       "307                    0                 0          86.129        0.371   \n",
       "2494                   0                 0          54.750        0.000   \n",
       "\n",
       "       DiffChargesSign  Tenure_0  Tenure_1  Tenure_2  \n",
       "Index                                                 \n",
       "630                  2         0         0         0  \n",
       "788                  1         0         0         0  \n",
       "1795                 1         0         0         0  \n",
       "307                  2         0         0         0  \n",
       "2494                 1         0         1         0  \n",
       "\n",
       "[5 rows x 27 columns]"
      ]
     },
     "execution_count": 18,
     "metadata": {},
     "output_type": "execute_result"
    }
   ],
   "source": [
    "numeric_data = data.select_dtypes(include=np.number)\n",
    "numeric_data.sample(5)"
   ]
  },
  {
   "cell_type": "code",
   "execution_count": null,
   "metadata": {},
   "outputs": [],
   "source": []
  },
  {
   "cell_type": "code",
   "execution_count": 19,
   "metadata": {},
   "outputs": [
    {
     "data": {
      "text/html": [
       "<div>\n",
       "<style scoped>\n",
       "    .dataframe tbody tr th:only-of-type {\n",
       "        vertical-align: middle;\n",
       "    }\n",
       "\n",
       "    .dataframe tbody tr th {\n",
       "        vertical-align: top;\n",
       "    }\n",
       "\n",
       "    .dataframe thead th {\n",
       "        text-align: right;\n",
       "    }\n",
       "</style>\n",
       "<table border=\"1\" class=\"dataframe\">\n",
       "  <thead>\n",
       "    <tr style=\"text-align: right;\">\n",
       "      <th></th>\n",
       "      <th>Gender</th>\n",
       "      <th>Senior</th>\n",
       "      <th>Married</th>\n",
       "      <th>Dependents</th>\n",
       "      <th>Tenure</th>\n",
       "      <th>Phone</th>\n",
       "      <th>MultiplePhones</th>\n",
       "      <th>Internet</th>\n",
       "      <th>Security</th>\n",
       "      <th>Backup</th>\n",
       "      <th>...</th>\n",
       "      <th>TotalCharges</th>\n",
       "      <th>Churn</th>\n",
       "      <th>MarriedDependents</th>\n",
       "      <th>SeniorDependents</th>\n",
       "      <th>AverageCharges</th>\n",
       "      <th>DiffCharges</th>\n",
       "      <th>DiffChargesSign</th>\n",
       "      <th>Tenure_0</th>\n",
       "      <th>Tenure_1</th>\n",
       "      <th>Tenure_2</th>\n",
       "    </tr>\n",
       "    <tr>\n",
       "      <th>Index</th>\n",
       "      <th></th>\n",
       "      <th></th>\n",
       "      <th></th>\n",
       "      <th></th>\n",
       "      <th></th>\n",
       "      <th></th>\n",
       "      <th></th>\n",
       "      <th></th>\n",
       "      <th></th>\n",
       "      <th></th>\n",
       "      <th></th>\n",
       "      <th></th>\n",
       "      <th></th>\n",
       "      <th></th>\n",
       "      <th></th>\n",
       "      <th></th>\n",
       "      <th></th>\n",
       "      <th></th>\n",
       "      <th></th>\n",
       "      <th></th>\n",
       "      <th></th>\n",
       "    </tr>\n",
       "  </thead>\n",
       "  <tbody>\n",
       "    <tr>\n",
       "      <th>0</th>\n",
       "      <td>1</td>\n",
       "      <td>0</td>\n",
       "      <td>1</td>\n",
       "      <td>1</td>\n",
       "      <td>67</td>\n",
       "      <td>0</td>\n",
       "      <td>1</td>\n",
       "      <td>1</td>\n",
       "      <td>3</td>\n",
       "      <td>3</td>\n",
       "      <td>...</td>\n",
       "      <td>3623.95</td>\n",
       "      <td>False</td>\n",
       "      <td>1</td>\n",
       "      <td>0</td>\n",
       "      <td>54.089</td>\n",
       "      <td>0.111</td>\n",
       "      <td>2</td>\n",
       "      <td>0</td>\n",
       "      <td>0</td>\n",
       "      <td>0</td>\n",
       "    </tr>\n",
       "    <tr>\n",
       "      <th>1</th>\n",
       "      <td>1</td>\n",
       "      <td>0</td>\n",
       "      <td>0</td>\n",
       "      <td>0</td>\n",
       "      <td>34</td>\n",
       "      <td>1</td>\n",
       "      <td>3</td>\n",
       "      <td>1</td>\n",
       "      <td>3</td>\n",
       "      <td>3</td>\n",
       "      <td>...</td>\n",
       "      <td>2088.75</td>\n",
       "      <td>True</td>\n",
       "      <td>0</td>\n",
       "      <td>0</td>\n",
       "      <td>61.434</td>\n",
       "      <td>2.966</td>\n",
       "      <td>2</td>\n",
       "      <td>0</td>\n",
       "      <td>0</td>\n",
       "      <td>0</td>\n",
       "    </tr>\n",
       "    <tr>\n",
       "      <th>2</th>\n",
       "      <td>1</td>\n",
       "      <td>1</td>\n",
       "      <td>1</td>\n",
       "      <td>0</td>\n",
       "      <td>72</td>\n",
       "      <td>1</td>\n",
       "      <td>3</td>\n",
       "      <td>2</td>\n",
       "      <td>3</td>\n",
       "      <td>3</td>\n",
       "      <td>...</td>\n",
       "      <td>6827.50</td>\n",
       "      <td>False</td>\n",
       "      <td>0</td>\n",
       "      <td>0</td>\n",
       "      <td>94.826</td>\n",
       "      <td>1.774</td>\n",
       "      <td>2</td>\n",
       "      <td>0</td>\n",
       "      <td>0</td>\n",
       "      <td>0</td>\n",
       "    </tr>\n",
       "    <tr>\n",
       "      <th>3</th>\n",
       "      <td>1</td>\n",
       "      <td>0</td>\n",
       "      <td>1</td>\n",
       "      <td>1</td>\n",
       "      <td>63</td>\n",
       "      <td>1</td>\n",
       "      <td>0</td>\n",
       "      <td>1</td>\n",
       "      <td>3</td>\n",
       "      <td>3</td>\n",
       "      <td>...</td>\n",
       "      <td>4014.20</td>\n",
       "      <td>False</td>\n",
       "      <td>1</td>\n",
       "      <td>0</td>\n",
       "      <td>63.717</td>\n",
       "      <td>-0.167</td>\n",
       "      <td>1</td>\n",
       "      <td>0</td>\n",
       "      <td>0</td>\n",
       "      <td>0</td>\n",
       "    </tr>\n",
       "    <tr>\n",
       "      <th>4</th>\n",
       "      <td>0</td>\n",
       "      <td>0</td>\n",
       "      <td>1</td>\n",
       "      <td>1</td>\n",
       "      <td>69</td>\n",
       "      <td>1</td>\n",
       "      <td>3</td>\n",
       "      <td>2</td>\n",
       "      <td>0</td>\n",
       "      <td>3</td>\n",
       "      <td>...</td>\n",
       "      <td>6511.25</td>\n",
       "      <td>False</td>\n",
       "      <td>1</td>\n",
       "      <td>0</td>\n",
       "      <td>94.366</td>\n",
       "      <td>1.384</td>\n",
       "      <td>2</td>\n",
       "      <td>0</td>\n",
       "      <td>0</td>\n",
       "      <td>0</td>\n",
       "    </tr>\n",
       "    <tr>\n",
       "      <th>...</th>\n",
       "      <td>...</td>\n",
       "      <td>...</td>\n",
       "      <td>...</td>\n",
       "      <td>...</td>\n",
       "      <td>...</td>\n",
       "      <td>...</td>\n",
       "      <td>...</td>\n",
       "      <td>...</td>\n",
       "      <td>...</td>\n",
       "      <td>...</td>\n",
       "      <td>...</td>\n",
       "      <td>...</td>\n",
       "      <td>...</td>\n",
       "      <td>...</td>\n",
       "      <td>...</td>\n",
       "      <td>...</td>\n",
       "      <td>...</td>\n",
       "      <td>...</td>\n",
       "      <td>...</td>\n",
       "      <td>...</td>\n",
       "      <td>...</td>\n",
       "    </tr>\n",
       "    <tr>\n",
       "      <th>3586</th>\n",
       "      <td>1</td>\n",
       "      <td>0</td>\n",
       "      <td>0</td>\n",
       "      <td>0</td>\n",
       "      <td>5</td>\n",
       "      <td>1</td>\n",
       "      <td>0</td>\n",
       "      <td>2</td>\n",
       "      <td>0</td>\n",
       "      <td>0</td>\n",
       "      <td>...</td>\n",
       "      <td>384.25</td>\n",
       "      <td>False</td>\n",
       "      <td>0</td>\n",
       "      <td>0</td>\n",
       "      <td>76.850</td>\n",
       "      <td>3.350</td>\n",
       "      <td>2</td>\n",
       "      <td>0</td>\n",
       "      <td>0</td>\n",
       "      <td>0</td>\n",
       "    </tr>\n",
       "    <tr>\n",
       "      <th>3587</th>\n",
       "      <td>1</td>\n",
       "      <td>0</td>\n",
       "      <td>1</td>\n",
       "      <td>1</td>\n",
       "      <td>71</td>\n",
       "      <td>1</td>\n",
       "      <td>0</td>\n",
       "      <td>1</td>\n",
       "      <td>3</td>\n",
       "      <td>0</td>\n",
       "      <td>...</td>\n",
       "      <td>5574.35</td>\n",
       "      <td>False</td>\n",
       "      <td>1</td>\n",
       "      <td>0</td>\n",
       "      <td>78.512</td>\n",
       "      <td>-0.962</td>\n",
       "      <td>1</td>\n",
       "      <td>0</td>\n",
       "      <td>0</td>\n",
       "      <td>0</td>\n",
       "    </tr>\n",
       "    <tr>\n",
       "      <th>3588</th>\n",
       "      <td>1</td>\n",
       "      <td>0</td>\n",
       "      <td>1</td>\n",
       "      <td>0</td>\n",
       "      <td>68</td>\n",
       "      <td>1</td>\n",
       "      <td>3</td>\n",
       "      <td>2</td>\n",
       "      <td>0</td>\n",
       "      <td>3</td>\n",
       "      <td>...</td>\n",
       "      <td>5762.95</td>\n",
       "      <td>False</td>\n",
       "      <td>0</td>\n",
       "      <td>0</td>\n",
       "      <td>84.749</td>\n",
       "      <td>1.701</td>\n",
       "      <td>2</td>\n",
       "      <td>0</td>\n",
       "      <td>0</td>\n",
       "      <td>0</td>\n",
       "    </tr>\n",
       "    <tr>\n",
       "      <th>3589</th>\n",
       "      <td>1</td>\n",
       "      <td>0</td>\n",
       "      <td>1</td>\n",
       "      <td>1</td>\n",
       "      <td>12</td>\n",
       "      <td>1</td>\n",
       "      <td>0</td>\n",
       "      <td>1</td>\n",
       "      <td>0</td>\n",
       "      <td>0</td>\n",
       "      <td>...</td>\n",
       "      <td>740.55</td>\n",
       "      <td>False</td>\n",
       "      <td>1</td>\n",
       "      <td>0</td>\n",
       "      <td>61.712</td>\n",
       "      <td>-3.362</td>\n",
       "      <td>1</td>\n",
       "      <td>0</td>\n",
       "      <td>0</td>\n",
       "      <td>0</td>\n",
       "    </tr>\n",
       "    <tr>\n",
       "      <th>3590</th>\n",
       "      <td>0</td>\n",
       "      <td>1</td>\n",
       "      <td>0</td>\n",
       "      <td>0</td>\n",
       "      <td>8</td>\n",
       "      <td>1</td>\n",
       "      <td>0</td>\n",
       "      <td>2</td>\n",
       "      <td>0</td>\n",
       "      <td>0</td>\n",
       "      <td>...</td>\n",
       "      <td>572.85</td>\n",
       "      <td>False</td>\n",
       "      <td>0</td>\n",
       "      <td>0</td>\n",
       "      <td>71.606</td>\n",
       "      <td>-1.906</td>\n",
       "      <td>1</td>\n",
       "      <td>0</td>\n",
       "      <td>0</td>\n",
       "      <td>0</td>\n",
       "    </tr>\n",
       "  </tbody>\n",
       "</table>\n",
       "<p>3591 rows × 28 columns</p>\n",
       "</div>"
      ],
      "text/plain": [
       "       Gender  Senior  Married  Dependents  Tenure  Phone  MultiplePhones  \\\n",
       "Index                                                                       \n",
       "0           1       0        1           1      67      0               1   \n",
       "1           1       0        0           0      34      1               3   \n",
       "2           1       1        1           0      72      1               3   \n",
       "3           1       0        1           1      63      1               0   \n",
       "4           0       0        1           1      69      1               3   \n",
       "...       ...     ...      ...         ...     ...    ...             ...   \n",
       "3586        1       0        0           0       5      1               0   \n",
       "3587        1       0        1           1      71      1               0   \n",
       "3588        1       0        1           0      68      1               3   \n",
       "3589        1       0        1           1      12      1               0   \n",
       "3590        0       1        0           0       8      1               0   \n",
       "\n",
       "       Internet  Security  Backup  ...  TotalCharges  Churn  \\\n",
       "Index                              ...                        \n",
       "0             1         3       3  ...       3623.95  False   \n",
       "1             1         3       3  ...       2088.75   True   \n",
       "2             2         3       3  ...       6827.50  False   \n",
       "3             1         3       3  ...       4014.20  False   \n",
       "4             2         0       3  ...       6511.25  False   \n",
       "...         ...       ...     ...  ...           ...    ...   \n",
       "3586          2         0       0  ...        384.25  False   \n",
       "3587          1         3       0  ...       5574.35  False   \n",
       "3588          2         0       3  ...       5762.95  False   \n",
       "3589          1         0       0  ...        740.55  False   \n",
       "3590          2         0       0  ...        572.85  False   \n",
       "\n",
       "       MarriedDependents  SeniorDependents  AverageCharges  DiffCharges  \\\n",
       "Index                                                                     \n",
       "0                      1                 0          54.089        0.111   \n",
       "1                      0                 0          61.434        2.966   \n",
       "2                      0                 0          94.826        1.774   \n",
       "3                      1                 0          63.717       -0.167   \n",
       "4                      1                 0          94.366        1.384   \n",
       "...                  ...               ...             ...          ...   \n",
       "3586                   0                 0          76.850        3.350   \n",
       "3587                   1                 0          78.512       -0.962   \n",
       "3588                   0                 0          84.749        1.701   \n",
       "3589                   1                 0          61.712       -3.362   \n",
       "3590                   0                 0          71.606       -1.906   \n",
       "\n",
       "       DiffChargesSign  Tenure_0  Tenure_1  Tenure_2  \n",
       "Index                                                 \n",
       "0                    2         0         0         0  \n",
       "1                    2         0         0         0  \n",
       "2                    2         0         0         0  \n",
       "3                    1         0         0         0  \n",
       "4                    2         0         0         0  \n",
       "...                ...       ...       ...       ...  \n",
       "3586                 2         0         0         0  \n",
       "3587                 1         0         0         0  \n",
       "3588                 2         0         0         0  \n",
       "3589                 1         0         0         0  \n",
       "3590                 1         0         0         0  \n",
       "\n",
       "[3591 rows x 28 columns]"
      ]
     },
     "execution_count": 19,
     "metadata": {},
     "output_type": "execute_result"
    }
   ],
   "source": [
    "data"
   ]
  },
  {
   "cell_type": "code",
   "execution_count": 20,
   "metadata": {},
   "outputs": [
    {
     "data": {
      "text/plain": [
       "<AxesSubplot:>"
      ]
     },
     "execution_count": 20,
     "metadata": {},
     "output_type": "execute_result"
    },
    {
     "data": {
      "image/png": "[encoded data removed]",
      "text/plain": [
       "<Figure size 1080x720 with 2 Axes>"
      ]
     },
     "metadata": {
      "needs_background": "light"
     },
     "output_type": "display_data"
    }
   ],
   "source": [
    "plt.figure(figsize=(15,10))\n",
    "sns.heatmap(data[numeric_data.columns.tolist() + ['Churn']].corr(method = 'spearman'), cmap='coolwarm', annot = True)"
   ]
  },
  {
   "cell_type": "code",
   "execution_count": 21,
   "metadata": {},
   "outputs": [],
   "source": [
    "from sklearn.model_selection import train_test_split\n",
    "\n",
    "\n",
    "X = numeric_data\n",
    "Y = data.Churn\n",
    "\n",
    "X_train, X_test, Y_train, Y_test = train_test_split(X, \n",
    "                                                    Y,\n",
    "                                                    test_size = 0.25,\n",
    "                                                    random_state = 1)"
   ]
  },
  {
   "cell_type": "code",
   "execution_count": 22,
   "metadata": {},
   "outputs": [],
   "source": [
    "\n",
    "X = numeric_data\n",
    "Y = data.Churn\n",
    "\n",
    "X_trains = []\n",
    "X_tests = []\n",
    "Y_trains = []\n",
    "Y_tests = []\n",
    "for i in range(0, 4):\n",
    "    X_train_i, X_test_i, Y_train_i, Y_test_i = train_test_split(X, Y,test_size = 0.25,random_state = i)\n",
    "    X_trains.append(X_train_i)\n",
    "    X_tests.append(X_test_i)\n",
    "    Y_trains.append(Y_train_i)\n",
    "    Y_tests.append(Y_test_i)"
   ]
  },
  {
   "cell_type": "code",
   "execution_count": 23,
   "metadata": {},
   "outputs": [],
   "source": [
    "from sklearn.dummy import DummyClassifier\n",
    "\n",
    "dummy = DummyClassifier(strategy='most_frequent')\n",
    "dummy.fit(X_train, Y_train)\n",
    "\n",
    "dummy_predictions = dummy.predict(X_train)"
   ]
  },
  {
   "cell_type": "code",
   "execution_count": 24,
   "metadata": {},
   "outputs": [],
   "source": [
    "# print (classification_report(Y_train, dummy_predictions))\n",
    "\n",
    "# plot_confusion_matrix(estimator=dummy, X= X_train, y_true=Y_train)"
   ]
  },
  {
   "cell_type": "code",
   "execution_count": 25,
   "metadata": {},
   "outputs": [
    {
     "name": "stdout",
     "output_type": "stream",
     "text": [
      "              precision    recall  f1-score   support\n",
      "\n",
      "       False       0.75      1.00      0.86       672\n",
      "        True       0.00      0.00      0.00       226\n",
      "\n",
      "    accuracy                           0.75       898\n",
      "   macro avg       0.37      0.50      0.43       898\n",
      "weighted avg       0.56      0.75      0.64       898\n",
      "\n"
     ]
    },
    {
     "data": {
      "text/plain": [
       "<sklearn.metrics._plot.confusion_matrix.ConfusionMatrixDisplay at 0x13e730cd0>"
      ]
     },
     "execution_count": 25,
     "metadata": {},
     "output_type": "execute_result"
    },
    {
     "data": {
      "image/png": "[encoded data removed]",
      "text/plain": [
       "<Figure size 432x288 with 2 Axes>"
      ]
     },
     "metadata": {
      "needs_background": "light"
     },
     "output_type": "display_data"
    }
   ],
   "source": [
    "print (classification_report(Y_test, dummy.predict(X_test)))\n",
    "\n",
    "plot_confusion_matrix(estimator=dummy, X= X_test, y_true=Y_test)"
   ]
  },
  {
   "cell_type": "code",
   "execution_count": 26,
   "metadata": {},
   "outputs": [
    {
     "name": "stdout",
     "output_type": "stream",
     "text": [
      "Train evaluation\n",
      "              precision    recall  f1-score   support\n",
      "\n",
      "       False       1.00      1.00      1.00      1967\n",
      "        True       1.00      1.00      1.00       726\n",
      "\n",
      "    accuracy                           1.00      2693\n",
      "   macro avg       1.00      1.00      1.00      2693\n",
      "weighted avg       1.00      1.00      1.00      2693\n",
      "\n"
     ]
    },
    {
     "data": {
      "text/plain": [
       "<sklearn.metrics._plot.confusion_matrix.ConfusionMatrixDisplay at 0x13e7454d0>"
      ]
     },
     "execution_count": 26,
     "metadata": {},
     "output_type": "execute_result"
    },
    {
     "data": {
      "image/png": "[encoded data removed]",
      "text/plain": [
       "<Figure size 432x288 with 2 Axes>"
      ]
     },
     "metadata": {
      "needs_background": "light"
     },
     "output_type": "display_data"
    }
   ],
   "source": [
    "from sklearn.tree import DecisionTreeClassifier\n",
    "\n",
    "dt = DecisionTreeClassifier()\n",
    "\n",
    "dt.fit(X_train, Y_train)\n",
    "\n",
    "dt_train_predictions = dt.predict (X_train)\n",
    "\n",
    "print('Train evaluation')\n",
    "print(classification_report(Y_train, dt_train_predictions))\n",
    "plot_confusion_matrix(estimator = dt, X= X_train, y_true=Y_train)\n"
   ]
  },
  {
   "cell_type": "code",
   "execution_count": 27,
   "metadata": {},
   "outputs": [
    {
     "name": "stdout",
     "output_type": "stream",
     "text": [
      "Tree depth: 21\n"
     ]
    },
    {
     "data": {
      "text/plain": [
       "<Figure size 5000x4000 with 0 Axes>"
      ]
     },
     "metadata": {},
     "output_type": "display_data"
    }
   ],
   "source": [
    "from sklearn.tree import plot_tree\n",
    "\n",
    "print (f'Tree depth: {dt.get_depth()}')\n",
    "fig = plt.figure(figsize=(25, 20), dpi=200)\n",
    "\n",
    "# plot_tree(dt, filled=True, ax=fig.gca(), fontsize='small');"
   ]
  },
  {
   "cell_type": "code",
   "execution_count": 28,
   "metadata": {},
   "outputs": [
    {
     "name": "stdout",
     "output_type": "stream",
     "text": [
      "Test evaluation\n",
      "              precision    recall  f1-score   support\n",
      "\n",
      "       False       0.83      0.83      0.83       672\n",
      "        True       0.50      0.50      0.50       226\n",
      "\n",
      "    accuracy                           0.75       898\n",
      "   macro avg       0.67      0.66      0.66       898\n",
      "weighted avg       0.75      0.75      0.75       898\n",
      "\n"
     ]
    },
    {
     "data": {
      "text/plain": [
       "<sklearn.metrics._plot.confusion_matrix.ConfusionMatrixDisplay at 0x13c9b4250>"
      ]
     },
     "execution_count": 28,
     "metadata": {},
     "output_type": "execute_result"
    },
    {
     "data": {
      "image/png": "[encoded data removed]",
      "text/plain": [
       "<Figure size 432x288 with 2 Axes>"
      ]
     },
     "metadata": {
      "needs_background": "light"
     },
     "output_type": "display_data"
    }
   ],
   "source": [
    "dt_test_predictions = dt.predict (X_test)\n",
    "\n",
    "print('Test evaluation')\n",
    "print(classification_report(Y_test, dt_test_predictions))\n",
    "\n",
    "plot_confusion_matrix(estimator = dt, X= X_test, y_true=Y_test)"
   ]
  },
  {
   "cell_type": "code",
   "execution_count": 29,
   "metadata": {},
   "outputs": [
    {
     "name": "stdout",
     "output_type": "stream",
     "text": [
      "Tree depth: 13\n",
      "Train evaluation\n",
      "              precision    recall  f1-score   support\n",
      "\n",
      "       False       0.88      0.93      0.90      1967\n",
      "        True       0.77      0.66      0.71       726\n",
      "\n",
      "    accuracy                           0.85      2693\n",
      "   macro avg       0.82      0.79      0.81      2693\n",
      "weighted avg       0.85      0.85      0.85      2693\n",
      "\n",
      "Test evaluation\n",
      "              precision    recall  f1-score   support\n",
      "\n",
      "       False       0.83      0.89      0.86       672\n",
      "        True       0.59      0.46      0.52       226\n",
      "\n",
      "    accuracy                           0.79       898\n",
      "   macro avg       0.71      0.68      0.69       898\n",
      "weighted avg       0.77      0.79      0.78       898\n",
      "\n"
     ]
    }
   ],
   "source": [
    "#smart_dt = DecisionTreeClassifier(min_samples_leaf = 7, max_depth = 17).fit(X_train, Y_train)\n",
    "smart_dt = DecisionTreeClassifier(min_samples_leaf = 10, max_depth = 100).fit(X_train, Y_train)\n",
    "print (f'Tree depth: {smart_dt.get_depth()}')\n",
    "\n",
    "print('Train evaluation')\n",
    "sdt_train_predictions = smart_dt.predict (X_train)\n",
    "print(classification_report(Y_train, sdt_train_predictions))\n",
    "\n",
    "print('Test evaluation')\n",
    "sdt_test_predictions = smart_dt.predict (X_test)\n",
    "print(classification_report(Y_test, sdt_test_predictions))\n"
   ]
  },
  {
   "cell_type": "markdown",
   "metadata": {},
   "source": [
    "БЫЛО Test evaluation\n",
    "\n",
    "       False       0.83      0.89      0.86       672\n",
    "        True       0.58      0.46      0.52       226"
   ]
  },
  {
   "cell_type": "code",
   "execution_count": 30,
   "metadata": {},
   "outputs": [
    {
     "name": "stdout",
     "output_type": "stream",
     "text": [
      "Fitting 5 folds for each of 32 candidates, totalling 160 fits\n"
     ]
    }
   ],
   "source": [
    "from sklearn.model_selection import GridSearchCV, StratifiedKFold\n",
    "\n",
    "tree_params = {'min_samples_leaf': [5, 7, 9, 11],\n",
    "               'max_depth': [12, 15, 17, 19],\n",
    "               'criterion': ['gini', 'entropy']              \n",
    "              }\n",
    "\n",
    "grid = GridSearchCV(DecisionTreeClassifier(),\n",
    "                    tree_params,\n",
    "                    refit=True,\n",
    "                    scoring='f1_macro',\n",
    "                    n_jobs = -1,\n",
    "                    cv=StratifiedKFold(n_splits = 5),\n",
    "                    verbose=2\n",
    "                   )\n",
    "\n",
    "grid_best_model = grid.fit(X_train, Y_train)"
   ]
  },
  {
   "cell_type": "code",
   "execution_count": 31,
   "metadata": {},
   "outputs": [
    {
     "data": {
      "text/plain": [
       "0.6743027377096155"
      ]
     },
     "execution_count": 31,
     "metadata": {},
     "output_type": "execute_result"
    }
   ],
   "source": [
    "grid.best_score_"
   ]
  },
  {
   "cell_type": "code",
   "execution_count": 32,
   "metadata": {},
   "outputs": [
    {
     "data": {
      "text/plain": [
       "{'criterion': 'gini', 'max_depth': 12, 'min_samples_leaf': 11}"
      ]
     },
     "execution_count": 32,
     "metadata": {},
     "output_type": "execute_result"
    }
   ],
   "source": [
    "grid.best_params_"
   ]
  },
  {
   "cell_type": "code",
   "execution_count": null,
   "metadata": {},
   "outputs": [],
   "source": []
  },
  {
   "cell_type": "code",
   "execution_count": 33,
   "metadata": {},
   "outputs": [
    {
     "name": "stdout",
     "output_type": "stream",
     "text": [
      "Train evaluation\n",
      "              precision    recall  f1-score   support\n",
      "\n",
      "       False       0.88      0.92      0.90      1967\n",
      "        True       0.76      0.66      0.71       726\n",
      "\n",
      "    accuracy                           0.85      2693\n",
      "   macro avg       0.82      0.79      0.80      2693\n",
      "weighted avg       0.85      0.85      0.85      2693\n",
      "\n",
      "Test evaluation\n",
      "              precision    recall  f1-score   support\n",
      "\n",
      "       False       0.84      0.90      0.87       672\n",
      "        True       0.61      0.48      0.54       226\n",
      "\n",
      "    accuracy                           0.79       898\n",
      "   macro avg       0.72      0.69      0.70       898\n",
      "weighted avg       0.78      0.79      0.78       898\n",
      "\n"
     ]
    }
   ],
   "source": [
    "print('Train evaluation')\n",
    "gbm_train_predictions = grid_best_model.predict (X_train)\n",
    "print(classification_report(Y_train, gbm_train_predictions))\n",
    "\n",
    "print('Test evaluation')\n",
    "gbm_test_predictions = grid_best_model.predict (X_test)\n",
    "print(classification_report(Y_test, gbm_test_predictions))"
   ]
  },
  {
   "cell_type": "code",
   "execution_count": null,
   "metadata": {},
   "outputs": [],
   "source": []
  },
  {
   "cell_type": "code",
   "execution_count": 34,
   "metadata": {},
   "outputs": [
    {
     "name": "stdout",
     "output_type": "stream",
     "text": [
      "Train evaluation\n",
      "              precision    recall  f1-score   support\n",
      "\n",
      "       False       1.00      1.00      1.00      1967\n",
      "        True       1.00      1.00      1.00       726\n",
      "\n",
      "    accuracy                           1.00      2693\n",
      "   macro avg       1.00      1.00      1.00      2693\n",
      "weighted avg       1.00      1.00      1.00      2693\n",
      "\n",
      "Test evaluation\n"
     ]
    }
   ],
   "source": [
    "from sklearn.ensemble import RandomForestRegressor\n",
    "\n",
    "rfr = RandomForestRegressor(random_state = 10, n_estimators = 100)\n",
    "\n",
    "rfr.fit(X_train, Y_train)\n",
    "rfr_train_predictions = rfr.predict(X_train) > 0.5\n",
    "\n",
    "print('Train evaluation')\n",
    "print(classification_report(Y_train, rfr_train_predictions))\n",
    "\n",
    "rfr_predictions = rfr.predict(X_test) > 0.5\n",
    "\n",
    "print('Test evaluation')\n",
    "# print(classification_report(Y_test, rfr_predictions))"
   ]
  },
  {
   "cell_type": "code",
   "execution_count": null,
   "metadata": {},
   "outputs": [],
   "source": []
  },
  {
   "cell_type": "code",
   "execution_count": null,
   "metadata": {},
   "outputs": [],
   "source": []
  },
  {
   "cell_type": "code",
   "execution_count": 35,
   "metadata": {},
   "outputs": [
    {
     "name": "stdout",
     "output_type": "stream",
     "text": [
      "Train evaluation\n",
      "              precision    recall  f1-score   support\n",
      "\n",
      "       False       0.83      0.91      0.87      1967\n",
      "        True       0.67      0.48      0.56       726\n",
      "\n",
      "    accuracy                           0.79      2693\n",
      "   macro avg       0.75      0.69      0.71      2693\n",
      "weighted avg       0.78      0.79      0.78      2693\n",
      "\n",
      "Test evaluation\n",
      "              precision    recall  f1-score   support\n",
      "\n",
      "       False       0.84      0.94      0.89       672\n",
      "        True       0.71      0.47      0.57       226\n",
      "\n",
      "    accuracy                           0.82       898\n",
      "   macro avg       0.78      0.70      0.73       898\n",
      "weighted avg       0.81      0.82      0.80       898\n",
      "\n"
     ]
    }
   ],
   "source": [
    "from sklearn.preprocessing import StandardScaler\n",
    "std_scaler = StandardScaler()\n",
    "\n",
    "X_train_scaled = std_scaler.fit_transform(X_train)\n",
    "X_test_scaled = std_scaler.transform(X_test)\n",
    "\n",
    "lasso = CV()Lasso\n",
    "\n",
    "lasso.fit(X_train_scaled, Y_train)\n",
    "lasso_train_predictions = lasso.predict(X_train_scaled) > 0.5\n",
    "\n",
    "print('Train evaluation')\n",
    "print(classification_report(Y_train, lasso_train_predictions))\n",
    "\n",
    "lasso_test_predictions = lasso.predict(X_test_scaled) > 0.5\n",
    "\n",
    "print('Test evaluation')\n",
    "print(classification_report(Y_test, lasso_test_predictions))"
   ]
  },
  {
   "cell_type": "code",
   "execution_count": null,
   "metadata": {},
   "outputs": [],
   "source": []
  },
  {
   "cell_type": "code",
   "execution_count": null,
   "metadata": {},
   "outputs": [],
   "source": []
  },
  {
   "cell_type": "code",
   "execution_count": 36,
   "metadata": {},
   "outputs": [
    {
     "name": "stdout",
     "output_type": "stream",
     "text": [
      "Train evaluation\n",
      "              precision    recall  f1-score   support\n",
      "\n",
      "       False       0.84      0.87      0.85      1967\n",
      "        True       0.61      0.53      0.57       726\n",
      "\n",
      "    accuracy                           0.78      2693\n",
      "   macro avg       0.72      0.70      0.71      2693\n",
      "weighted avg       0.78      0.78      0.78      2693\n",
      "\n"
     ]
    }
   ],
   "source": [
    "from sklearn.linear_model import LogisticRegression\n",
    "from sklearn.model_selection import cross_val_predict\n",
    "from sklearn.metrics import confusion_matrix\n",
    "\n",
    "lr = LogisticRegression()\n",
    "\n",
    "cv_lr_predictions = cross_val_predict(lr, X_train, Y_train, cv = 10, n_jobs = -1)\n",
    "\n",
    "print('Train evaluation')\n",
    "print(classification_report(Y_train, cv_lr_predictions))\n"
   ]
  },
  {
   "cell_type": "code",
   "execution_count": 37,
   "metadata": {},
   "outputs": [
    {
     "name": "stdout",
     "output_type": "stream",
     "text": [
      "Test evaluation\n",
      "              precision    recall  f1-score   support\n",
      "\n",
      "       False       0.86      0.92      0.88       672\n",
      "        True       0.68      0.54      0.60       226\n",
      "\n",
      "    accuracy                           0.82       898\n",
      "   macro avg       0.77      0.73      0.74       898\n",
      "weighted avg       0.81      0.82      0.81       898\n",
      "\n"
     ]
    }
   ],
   "source": [
    "\n",
    "lr = LogisticRegression().fit(X_train, Y_train)\n",
    "print('Test evaluation')\n",
    "lr_test_predictions = lr.predict (X_test)\n",
    "print(classification_report(Y_test, lr_test_predictions))\n"
   ]
  },
  {
   "cell_type": "code",
   "execution_count": 38,
   "metadata": {},
   "outputs": [
    {
     "data": {
      "text/plain": [
       "<sklearn.metrics._plot.confusion_matrix.ConfusionMatrixDisplay at 0x13e866e90>"
      ]
     },
     "execution_count": 38,
     "metadata": {},
     "output_type": "execute_result"
    },
    {
     "data": {
      "image/png": "[encoded data removed]",
      "text/plain": [
       "<Figure size 432x288 with 2 Axes>"
      ]
     },
     "metadata": {
      "needs_background": "light"
     },
     "output_type": "display_data"
    }
   ],
   "source": [
    "plot_confusion_matrix(estimator = lr, X= X_test, y_true=Y_test)"
   ]
  },
  {
   "cell_type": "code",
   "execution_count": null,
   "metadata": {},
   "outputs": [],
   "source": []
  },
  {
   "cell_type": "code",
   "execution_count": null,
   "metadata": {},
   "outputs": [],
   "source": []
  },
  {
   "cell_type": "code",
   "execution_count": 39,
   "metadata": {},
   "outputs": [
    {
     "data": {
      "text/html": [
       "<div>\n",
       "<style scoped>\n",
       "    .dataframe tbody tr th:only-of-type {\n",
       "        vertical-align: middle;\n",
       "    }\n",
       "\n",
       "    .dataframe tbody tr th {\n",
       "        vertical-align: top;\n",
       "    }\n",
       "\n",
       "    .dataframe thead th {\n",
       "        text-align: right;\n",
       "    }\n",
       "</style>\n",
       "<table border=\"1\" class=\"dataframe\">\n",
       "  <thead>\n",
       "    <tr style=\"text-align: right;\">\n",
       "      <th></th>\n",
       "      <th>Churn</th>\n",
       "    </tr>\n",
       "    <tr>\n",
       "      <th>Index</th>\n",
       "      <th></th>\n",
       "    </tr>\n",
       "  </thead>\n",
       "  <tbody>\n",
       "    <tr>\n",
       "      <th>563</th>\n",
       "      <td>False</td>\n",
       "    </tr>\n",
       "    <tr>\n",
       "      <th>2741</th>\n",
       "      <td>False</td>\n",
       "    </tr>\n",
       "    <tr>\n",
       "      <th>2999</th>\n",
       "      <td>True</td>\n",
       "    </tr>\n",
       "    <tr>\n",
       "      <th>948</th>\n",
       "      <td>False</td>\n",
       "    </tr>\n",
       "    <tr>\n",
       "      <th>1492</th>\n",
       "      <td>False</td>\n",
       "    </tr>\n",
       "  </tbody>\n",
       "</table>\n",
       "</div>"
      ],
      "text/plain": [
       "       Churn\n",
       "Index       \n",
       "563    False\n",
       "2741   False\n",
       "2999    True\n",
       "948    False\n",
       "1492   False"
      ]
     },
     "execution_count": 39,
     "metadata": {},
     "output_type": "execute_result"
    }
   ],
   "source": [
    "category_data = data.select_dtypes(exclude=np.number)\n",
    "category_data.sample(5)"
   ]
  },
  {
   "cell_type": "markdown",
   "metadata": {},
   "source": [
    "# COEF_"
   ]
  },
  {
   "cell_type": "code",
   "execution_count": 40,
   "metadata": {},
   "outputs": [
    {
     "data": {
      "text/html": [
       "<div>\n",
       "<style scoped>\n",
       "    .dataframe tbody tr th:only-of-type {\n",
       "        vertical-align: middle;\n",
       "    }\n",
       "\n",
       "    .dataframe tbody tr th {\n",
       "        vertical-align: top;\n",
       "    }\n",
       "\n",
       "    .dataframe thead th {\n",
       "        text-align: right;\n",
       "    }\n",
       "</style>\n",
       "<table border=\"1\" class=\"dataframe\">\n",
       "  <thead>\n",
       "    <tr style=\"text-align: right;\">\n",
       "      <th></th>\n",
       "      <th>coef_</th>\n",
       "    </tr>\n",
       "  </thead>\n",
       "  <tbody>\n",
       "    <tr>\n",
       "      <th>Gender</th>\n",
       "      <td>0.00494</td>\n",
       "    </tr>\n",
       "    <tr>\n",
       "      <th>Senior</th>\n",
       "      <td>0.02217</td>\n",
       "    </tr>\n",
       "    <tr>\n",
       "      <th>Married</th>\n",
       "      <td>0.00511</td>\n",
       "    </tr>\n",
       "    <tr>\n",
       "      <th>Dependents</th>\n",
       "      <td>-0.00706</td>\n",
       "    </tr>\n",
       "    <tr>\n",
       "      <th>Tenure</th>\n",
       "      <td>-0.00140</td>\n",
       "    </tr>\n",
       "    <tr>\n",
       "      <th>Phone</th>\n",
       "      <td>-0.00079</td>\n",
       "    </tr>\n",
       "    <tr>\n",
       "      <th>MultiplePhones</th>\n",
       "      <td>0.02763</td>\n",
       "    </tr>\n",
       "    <tr>\n",
       "      <th>Internet</th>\n",
       "      <td>0.13765</td>\n",
       "    </tr>\n",
       "    <tr>\n",
       "      <th>Security</th>\n",
       "      <td>-0.02397</td>\n",
       "    </tr>\n",
       "    <tr>\n",
       "      <th>Backup</th>\n",
       "      <td>-0.00052</td>\n",
       "    </tr>\n",
       "    <tr>\n",
       "      <th>Insurance</th>\n",
       "      <td>-0.00402</td>\n",
       "    </tr>\n",
       "    <tr>\n",
       "      <th>Support</th>\n",
       "      <td>-0.01670</td>\n",
       "    </tr>\n",
       "    <tr>\n",
       "      <th>TV</th>\n",
       "      <td>0.01928</td>\n",
       "    </tr>\n",
       "    <tr>\n",
       "      <th>Movies</th>\n",
       "      <td>0.02852</td>\n",
       "    </tr>\n",
       "    <tr>\n",
       "      <th>Contract</th>\n",
       "      <td>-0.04186</td>\n",
       "    </tr>\n",
       "    <tr>\n",
       "      <th>EBilling</th>\n",
       "      <td>0.02639</td>\n",
       "    </tr>\n",
       "    <tr>\n",
       "      <th>PaymentMethod</th>\n",
       "      <td>-0.00770</td>\n",
       "    </tr>\n",
       "    <tr>\n",
       "      <th>MonthlyCharges</th>\n",
       "      <td>0.00000</td>\n",
       "    </tr>\n",
       "    <tr>\n",
       "      <th>TotalCharges</th>\n",
       "      <td>-0.13087</td>\n",
       "    </tr>\n",
       "    <tr>\n",
       "      <th>MarriedDependents</th>\n",
       "      <td>0.00000</td>\n",
       "    </tr>\n",
       "    <tr>\n",
       "      <th>SeniorDependents</th>\n",
       "      <td>-0.00000</td>\n",
       "    </tr>\n",
       "    <tr>\n",
       "      <th>AverageCharges</th>\n",
       "      <td>0.00000</td>\n",
       "    </tr>\n",
       "    <tr>\n",
       "      <th>DiffCharges</th>\n",
       "      <td>-0.00180</td>\n",
       "    </tr>\n",
       "    <tr>\n",
       "      <th>DiffChargesSign</th>\n",
       "      <td>-0.00000</td>\n",
       "    </tr>\n",
       "    <tr>\n",
       "      <th>Tenure_0</th>\n",
       "      <td>-0.00075</td>\n",
       "    </tr>\n",
       "    <tr>\n",
       "      <th>Tenure_1</th>\n",
       "      <td>0.06589</td>\n",
       "    </tr>\n",
       "    <tr>\n",
       "      <th>Tenure_2</th>\n",
       "      <td>0.02372</td>\n",
       "    </tr>\n",
       "  </tbody>\n",
       "</table>\n",
       "</div>"
      ],
      "text/plain": [
       "                     coef_\n",
       "Gender             0.00494\n",
       "Senior             0.02217\n",
       "Married            0.00511\n",
       "Dependents        -0.00706\n",
       "Tenure            -0.00140\n",
       "Phone             -0.00079\n",
       "MultiplePhones     0.02763\n",
       "Internet           0.13765\n",
       "Security          -0.02397\n",
       "Backup            -0.00052\n",
       "Insurance         -0.00402\n",
       "Support           -0.01670\n",
       "TV                 0.01928\n",
       "Movies             0.02852\n",
       "Contract          -0.04186\n",
       "EBilling           0.02639\n",
       "PaymentMethod     -0.00770\n",
       "MonthlyCharges     0.00000\n",
       "TotalCharges      -0.13087\n",
       "MarriedDependents  0.00000\n",
       "SeniorDependents  -0.00000\n",
       "AverageCharges     0.00000\n",
       "DiffCharges       -0.00180\n",
       "DiffChargesSign   -0.00000\n",
       "Tenure_0          -0.00075\n",
       "Tenure_1           0.06589\n",
       "Tenure_2           0.02372"
      ]
     },
     "execution_count": 40,
     "metadata": {},
     "output_type": "execute_result"
    }
   ],
   "source": [
    "pd.set_option('display.float_format', lambda x: '%.5f' % x)\n",
    "pd.DataFrame(lasso.coef_,  X.columns, columns=['coef_'])"
   ]
  },
  {
   "cell_type": "code",
   "execution_count": 41,
   "metadata": {},
   "outputs": [
    {
     "data": {
      "text/html": [
       "<div>\n",
       "<style scoped>\n",
       "    .dataframe tbody tr th:only-of-type {\n",
       "        vertical-align: middle;\n",
       "    }\n",
       "\n",
       "    .dataframe tbody tr th {\n",
       "        vertical-align: top;\n",
       "    }\n",
       "\n",
       "    .dataframe thead th {\n",
       "        text-align: right;\n",
       "    }\n",
       "</style>\n",
       "<table border=\"1\" class=\"dataframe\">\n",
       "  <thead>\n",
       "    <tr style=\"text-align: right;\">\n",
       "      <th></th>\n",
       "      <th>coef_</th>\n",
       "    </tr>\n",
       "  </thead>\n",
       "  <tbody>\n",
       "    <tr>\n",
       "      <th>Gender</th>\n",
       "      <td>0.02581</td>\n",
       "    </tr>\n",
       "    <tr>\n",
       "      <th>Senior</th>\n",
       "      <td>0.16603</td>\n",
       "    </tr>\n",
       "    <tr>\n",
       "      <th>Married</th>\n",
       "      <td>0.01808</td>\n",
       "    </tr>\n",
       "    <tr>\n",
       "      <th>Dependents</th>\n",
       "      <td>-0.09392</td>\n",
       "    </tr>\n",
       "    <tr>\n",
       "      <th>Tenure</th>\n",
       "      <td>-0.04534</td>\n",
       "    </tr>\n",
       "    <tr>\n",
       "      <th>Phone</th>\n",
       "      <td>-0.27189</td>\n",
       "    </tr>\n",
       "    <tr>\n",
       "      <th>MultiplePhones</th>\n",
       "      <td>0.04506</td>\n",
       "    </tr>\n",
       "    <tr>\n",
       "      <th>Internet</th>\n",
       "      <td>0.16389</td>\n",
       "    </tr>\n",
       "    <tr>\n",
       "      <th>Security</th>\n",
       "      <td>-0.27166</td>\n",
       "    </tr>\n",
       "    <tr>\n",
       "      <th>Backup</th>\n",
       "      <td>-0.04968</td>\n",
       "    </tr>\n",
       "    <tr>\n",
       "      <th>Insurance</th>\n",
       "      <td>-0.03232</td>\n",
       "    </tr>\n",
       "    <tr>\n",
       "      <th>Support</th>\n",
       "      <td>-0.19764</td>\n",
       "    </tr>\n",
       "    <tr>\n",
       "      <th>TV</th>\n",
       "      <td>0.05368</td>\n",
       "    </tr>\n",
       "    <tr>\n",
       "      <th>Movies</th>\n",
       "      <td>0.10982</td>\n",
       "    </tr>\n",
       "    <tr>\n",
       "      <th>Contract</th>\n",
       "      <td>-0.07604</td>\n",
       "    </tr>\n",
       "    <tr>\n",
       "      <th>EBilling</th>\n",
       "      <td>0.21627</td>\n",
       "    </tr>\n",
       "    <tr>\n",
       "      <th>PaymentMethod</th>\n",
       "      <td>-0.09076</td>\n",
       "    </tr>\n",
       "    <tr>\n",
       "      <th>MonthlyCharges</th>\n",
       "      <td>-0.00886</td>\n",
       "    </tr>\n",
       "    <tr>\n",
       "      <th>TotalCharges</th>\n",
       "      <td>0.00020</td>\n",
       "    </tr>\n",
       "    <tr>\n",
       "      <th>MarriedDependents</th>\n",
       "      <td>-0.04923</td>\n",
       "    </tr>\n",
       "    <tr>\n",
       "      <th>SeniorDependents</th>\n",
       "      <td>0.00887</td>\n",
       "    </tr>\n",
       "    <tr>\n",
       "      <th>AverageCharges</th>\n",
       "      <td>0.02060</td>\n",
       "    </tr>\n",
       "    <tr>\n",
       "      <th>DiffCharges</th>\n",
       "      <td>0.04186</td>\n",
       "    </tr>\n",
       "    <tr>\n",
       "      <th>DiffChargesSign</th>\n",
       "      <td>-0.21189</td>\n",
       "    </tr>\n",
       "    <tr>\n",
       "      <th>Tenure_0</th>\n",
       "      <td>-0.00284</td>\n",
       "    </tr>\n",
       "    <tr>\n",
       "      <th>Tenure_1</th>\n",
       "      <td>0.12407</td>\n",
       "    </tr>\n",
       "    <tr>\n",
       "      <th>Tenure_2</th>\n",
       "      <td>0.01476</td>\n",
       "    </tr>\n",
       "  </tbody>\n",
       "</table>\n",
       "</div>"
      ],
      "text/plain": [
       "                     coef_\n",
       "Gender             0.02581\n",
       "Senior             0.16603\n",
       "Married            0.01808\n",
       "Dependents        -0.09392\n",
       "Tenure            -0.04534\n",
       "Phone             -0.27189\n",
       "MultiplePhones     0.04506\n",
       "Internet           0.16389\n",
       "Security          -0.27166\n",
       "Backup            -0.04968\n",
       "Insurance         -0.03232\n",
       "Support           -0.19764\n",
       "TV                 0.05368\n",
       "Movies             0.10982\n",
       "Contract          -0.07604\n",
       "EBilling           0.21627\n",
       "PaymentMethod     -0.09076\n",
       "MonthlyCharges    -0.00886\n",
       "TotalCharges       0.00020\n",
       "MarriedDependents -0.04923\n",
       "SeniorDependents   0.00887\n",
       "AverageCharges     0.02060\n",
       "DiffCharges        0.04186\n",
       "DiffChargesSign   -0.21189\n",
       "Tenure_0          -0.00284\n",
       "Tenure_1           0.12407\n",
       "Tenure_2           0.01476"
      ]
     },
     "execution_count": 41,
     "metadata": {},
     "output_type": "execute_result"
    }
   ],
   "source": [
    "pd.set_option('display.float_format', lambda x: '%.5f' % x)\n",
    "pd.DataFrame(lr.coef_[0],  X.columns, columns=['coef_'])"
   ]
  },
  {
   "cell_type": "code",
   "execution_count": null,
   "metadata": {},
   "outputs": [],
   "source": []
  },
  {
   "cell_type": "code",
   "execution_count": null,
   "metadata": {},
   "outputs": [],
   "source": []
  },
  {
   "cell_type": "code",
   "execution_count": null,
   "metadata": {},
   "outputs": [],
   "source": []
  },
  {
   "cell_type": "markdown",
   "metadata": {},
   "source": [
    "# МЕТЬЮСЫ "
   ]
  },
  {
   "cell_type": "code",
   "execution_count": null,
   "metadata": {},
   "outputs": [],
   "source": []
  },
  {
   "cell_type": "code",
   "execution_count": 42,
   "metadata": {},
   "outputs": [],
   "source": [
    "def train_predict(algo, X_train, Y_train, X_test, threshold):\n",
    "    algo.fit(X_train, Y_train)\n",
    "    result = algo.predict(X_test)\n",
    "    if (threshold == None):\n",
    "        return result\n",
    "    else: \n",
    "        return result > threshold\n",
    "\n",
    "def print_mathewses(algo, threshold = None):\n",
    "    res = []\n",
    "    for i in range(len(X_trains)):\n",
    "        predict = train_predict(algo, X_trains[i], Y_trains[i], X_tests[i], threshold)\n",
    "        res.append(matthews_corrcoef(Y_tests[i], predict))\n",
    "    print(\"# avg:\", round(np.mean(res), 5))\n",
    "    print(\"# min:\", round(np.min(res), 5))\n",
    "    # [print(r) for r in res]"
   ]
  },
  {
   "cell_type": "code",
   "execution_count": 43,
   "metadata": {},
   "outputs": [
    {
     "name": "stdout",
     "output_type": "stream",
     "text": [
      "# avg: 0.32002\n",
      "# min: 0.30422\n"
     ]
    }
   ],
   "source": [
    "## DecisionTreeClassifier\n",
    "print_mathewses(dt)\n",
    "#avg: 0.28369\n",
    "#min: 0.26293"
   ]
  },
  {
   "cell_type": "code",
   "execution_count": 44,
   "metadata": {},
   "outputs": [
    {
     "name": "stdout",
     "output_type": "stream",
     "text": [
      "# avg: 0.42392\n",
      "# min: 0.39773\n"
     ]
    }
   ],
   "source": [
    "# RandomForestRegressor\n",
    "print_mathewses(rfr, threshold = 0.5)\n",
    "#avg: 0.39621\n",
    "#min: 0.3581"
   ]
  },
  {
   "cell_type": "code",
   "execution_count": 45,
   "metadata": {},
   "outputs": [
    {
     "name": "stdout",
     "output_type": "stream",
     "text": [
      "# avg: 0.40768\n",
      "# min: 0.39128\n"
     ]
    }
   ],
   "source": [
    "# LassoCV\n",
    "print_mathewses(lasso, threshold = 0.5)\n",
    "#avg: 0.40694\n",
    "#min: 0.3808"
   ]
  },
  {
   "cell_type": "code",
   "execution_count": 46,
   "metadata": {},
   "outputs": [
    {
     "name": "stdout",
     "output_type": "stream",
     "text": [
      "# avg: 0.45111\n",
      "# min: 0.42387\n"
     ]
    }
   ],
   "source": [
    "# LogisticRegression\n",
    "print_mathewses(lr)\n",
    "#avg: 0.45847\n",
    "#min: 0.43662"
   ]
  },
  {
   "cell_type": "code",
   "execution_count": 47,
   "metadata": {},
   "outputs": [
    {
     "name": "stdout",
     "output_type": "stream",
     "text": [
      "# avg: 0.45699\n",
      "# min: 0.42396\n"
     ]
    }
   ],
   "source": [
    "# LogisticRegression liblinear\n",
    "lrliblinear = LogisticRegression(solver = \"liblinear\", random_state=10, intercept_scaling = 0.01)\n",
    "print_mathewses(lrliblinear)"
   ]
  },
  {
   "cell_type": "code",
   "execution_count": null,
   "metadata": {},
   "outputs": [],
   "source": []
  },
  {
   "cell_type": "code",
   "execution_count": null,
   "metadata": {},
   "outputs": [],
   "source": []
  },
  {
   "cell_type": "code",
   "execution_count": null,
   "metadata": {},
   "outputs": [],
   "source": []
  },
  {
   "cell_type": "code",
   "execution_count": null,
   "metadata": {},
   "outputs": [],
   "source": []
  },
  {
   "cell_type": "code",
   "execution_count": null,
   "metadata": {},
   "outputs": [],
   "source": []
  },
  {
   "cell_type": "code",
   "execution_count": 48,
   "metadata": {},
   "outputs": [
    {
     "data": {
      "text/plain": [
       "0.0"
      ]
     },
     "execution_count": 48,
     "metadata": {},
     "output_type": "execute_result"
    }
   ],
   "source": [
    "## Dummy\n",
    "dummy_test_predictions = dummy.predict(X_test)\n",
    "matthews_corrcoef(Y_test, dummy_test_predictions)\n",
    "# 0.0"
   ]
  },
  {
   "cell_type": "code",
   "execution_count": 49,
   "metadata": {},
   "outputs": [
    {
     "data": {
      "text/plain": [
       "0.32988310057343256"
      ]
     },
     "execution_count": 49,
     "metadata": {},
     "output_type": "execute_result"
    }
   ],
   "source": [
    "## DecisionTreeClassifier\n",
    "matthews_corrcoef(Y_test, dt_test_predictions)\n",
    "\n",
    "# 0.3104664750197529"
   ]
  },
  {
   "cell_type": "code",
   "execution_count": 50,
   "metadata": {},
   "outputs": [
    {
     "data": {
      "text/plain": [
       "0.40930265969230106"
      ]
     },
     "execution_count": 50,
     "metadata": {},
     "output_type": "execute_result"
    }
   ],
   "source": [
    "# GridSearchCV\n",
    "matthews_corrcoef(Y_test, gbm_test_predictions)\n",
    "\n",
    "# 0.35699290062035866"
   ]
  },
  {
   "cell_type": "code",
   "execution_count": 51,
   "metadata": {},
   "outputs": [
    {
     "data": {
      "text/plain": [
       "0.4531946030862787"
      ]
     },
     "execution_count": 51,
     "metadata": {},
     "output_type": "execute_result"
    }
   ],
   "source": [
    "# RandomForestRegressor\n",
    "matthews_corrcoef(Y_test, rfr_predictions)\n",
    "\n",
    "# 0.42220335775146667"
   ]
  },
  {
   "cell_type": "code",
   "execution_count": 52,
   "metadata": {},
   "outputs": [
    {
     "data": {
      "text/plain": [
       "0.47249919088401143"
      ]
     },
     "execution_count": 52,
     "metadata": {},
     "output_type": "execute_result"
    }
   ],
   "source": [
    "# LassoCV\n",
    "matthews_corrcoef(Y_test, lasso_test_predictions)\n",
    "\n",
    "# 0.4637326264022254"
   ]
  },
  {
   "cell_type": "code",
   "execution_count": 53,
   "metadata": {},
   "outputs": [
    {
     "data": {
      "text/plain": [
       "0.49426607235683645"
      ]
     },
     "execution_count": 53,
     "metadata": {},
     "output_type": "execute_result"
    }
   ],
   "source": [
    "# LogisticRegression\n",
    "matthews_corrcoef(Y_test, lr_test_predictions)\n",
    "\n",
    "# 0.48876282691470774"
   ]
  },
  {
   "cell_type": "code",
   "execution_count": null,
   "metadata": {},
   "outputs": [],
   "source": []
  },
  {
   "cell_type": "code",
   "execution_count": null,
   "metadata": {},
   "outputs": [],
   "source": []
  },
  {
   "cell_type": "code",
   "execution_count": null,
   "metadata": {},
   "outputs": [],
   "source": []
  },
  {
   "cell_type": "code",
   "execution_count": null,
   "metadata": {},
   "outputs": [],
   "source": []
  },
  {
   "cell_type": "code",
   "execution_count": 54,
   "metadata": {},
   "outputs": [
    {
     "name": "stdout",
     "output_type": "stream",
     "text": [
      "Test evaluation\n",
      "0.49426607235683645\n",
      "0.48876282691470774\n"
     ]
    }
   ],
   "source": [
    "from sklearn.linear_model import LogisticRegression\n",
    "from sklearn.model_selection import cross_val_predict\n",
    "from sklearn.metrics import confusion_matrix\n",
    "\n",
    "lr = LogisticRegression()\n",
    "\n",
    "cv_lr_predictions = cross_val_predict(lr, X_train, Y_train, cv = 2, n_jobs = -1)\n",
    "\n",
    "\n",
    "lr = LogisticRegression().fit(X_train, Y_train)\n",
    "print('Test evaluation')\n",
    "lr_test_predictions = lr.predict (X_test)\n",
    "\n",
    "# LogisticRegression\n",
    "print(matthews_corrcoef(Y_test, lr_test_predictions))\n",
    "\n",
    "print(0.48876282691470774)"
   ]
  },
  {
   "cell_type": "code",
   "execution_count": 55,
   "metadata": {},
   "outputs": [],
   "source": [
    "# test_data"
   ]
  },
  {
   "cell_type": "markdown",
   "metadata": {},
   "source": [
    "# ПОСЫЛКА"
   ]
  },
  {
   "cell_type": "code",
   "execution_count": 56,
   "metadata": {},
   "outputs": [],
   "source": [
    "lr = LogisticRegression()\n",
    "lr.fit(X, Y) # !!!!!!!!!!! ТРЕНИРУЕМ НА ВСЁМ ЧТО ЕСТЬ\n",
    "lr_result_predictions = lr.predict(test_data)\n",
    "\n",
    "df = pd.DataFrame({'Churn': lr_result_predictions})\n",
    "df.to_csv('submission.csv',index_label=\"Index\")"
   ]
  },
  {
   "cell_type": "code",
   "execution_count": null,
   "metadata": {},
   "outputs": [],
   "source": []
  },
  {
   "cell_type": "code",
   "execution_count": null,
   "metadata": {},
   "outputs": [],
   "source": []
  }
 ],
 "metadata": {
  "kernelspec": {
   "display_name": "Python 3",
   "language": "python",
   "name": "python3"
  },
  "language_info": {
   "codemirror_mode": {
    "name": "ipython",
    "version": 3
   },
   "file_extension": ".py",
   "mimetype": "text/x-python",
   "name": "python",
   "nbconvert_exporter": "python",
   "pygments_lexer": "ipython3",
   "version": "3.7.9"
  }
 },
 "nbformat": 4,
 "nbformat_minor": 4
}
